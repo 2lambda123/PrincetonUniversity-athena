{
 "cells": [
  {
   "cell_type": "code",
   "execution_count": 1,
   "metadata": {
    "collapsed": true
   },
   "outputs": [],
   "source": [
    "%matplotlib inline\n",
    "# fix DPI issues on mac\n",
    "%config InlineBackend.figure_format = 'retina'\n",
    " # autoreload workflow, reload modules every time cell is run\n",
    "%load_ext autoreload\n",
    "%autoreload 2"
   ]
  },
  {
   "cell_type": "code",
   "execution_count": 2,
   "metadata": {
    "collapsed": true
   },
   "outputs": [
    {
     "name": "stderr",
     "output_type": "stream",
     "text": [
      "/home/zequnl/anaconda3/lib/python3.6/site-packages/h5py/__init__.py:36: FutureWarning: Conversion of the second argument of issubdtype from `float` to `np.floating` is deprecated. In future, it will be treated as `np.float64 == np.dtype(float).type`.\n",
      "  from ._conv import register_converters as _register_converters\n"
     ]
    }
   ],
   "source": [
    "import numpy as np\n",
    "import matplotlib.pyplot as plt\n",
    "default_color_list = plt.rcParams['axes.prop_cycle'].by_key()['color'] # get default colors\n",
    "import matplotlib\n",
    "from astropy.table import Table\n",
    "from scipy.special import erf\n",
    "import h5py"
   ]
  },
  {
   "cell_type": "code",
   "execution_count": 3,
   "metadata": {
    "collapsed": true
   },
   "outputs": [],
   "source": [
    "def get_prim(filename, custom=0):\n",
    "    \n",
    "    f = h5py.File(filename, 'r')\n",
    "    dataset = f['prim']\n",
    "    dd = np.array(dataset).reshape(5,7000)\n",
    "    r = f['x1v'][0]\n",
    "    \n",
    "    # rho, press, vel1, vel2, vel3\n",
    "    return r, dd[custom]\n",
    "    # data1.colnames\n",
    "    "
   ]
  },
  {
   "cell_type": "code",
   "execution_count": 4,
   "metadata": {},
   "outputs": [],
   "source": [
    "def plot_prim(filename, custom=0):\n",
    "    \n",
    "    f = h5py.File(filename, 'r')\n",
    "    dataset = f['prim']\n",
    "    dd = np.array(dataset).reshape(5,7000)\n",
    "    r = f['x1v'][0]\n",
    "    \n",
    "    # rho, press, vel1, vel2, vel3\n",
    "\n",
    "    # data1.colnames\n",
    "    plt.plot( r, dd[custom], label='t=0 s' )\n",
    "    # plt.plot( r, data2['rho'], label=r't=$5 \\times 10^4$ s' )\n",
    "    # plt.plot( r, data3['rho'], label=r't=$10 \\times 10^4$ s' )\n",
    "\n",
    "#     plt.plot( s13['col2'], s13['col4'] )\n",
    "\n",
    "    plt.ylabel(r'$\\rho$ (g/cm$^3$)')\n",
    "    plt.xlabel(r'$r$ (cm)')\n",
    "    plt.legend()\n",
    "#     plt.yscale('log')"
   ]
  },
  {
   "cell_type": "code",
   "execution_count": 5,
   "metadata": {},
   "outputs": [],
   "source": [
    "def get_uov(filename, custom=0):\n",
    "    \n",
    "    f = h5py.File(filename, 'r')\n",
    "    dataset = f['hydro']\n",
    "    dd = np.array(dataset).reshape(2,7000)\n",
    "    r = f['x1v'][0]\n",
    "    return r, dd[custom]"
   ]
  },
  {
   "cell_type": "code",
   "execution_count": 6,
   "metadata": {},
   "outputs": [],
   "source": [
    "def plot_uov(filename, custom=0):\n",
    "    r, ddcustom = get_uov(filename, custom)\n",
    "    # rho, press, vel1, vel2, vel3\n",
    "    plt.plot( r, ddcustom, label='simulation' )"
   ]
  },
  {
   "cell_type": "code",
   "execution_count": 7,
   "metadata": {},
   "outputs": [],
   "source": [
    "# plot_uov('SN.out2.00000.athdf')\n",
    "# plot_uov('SN.out2.00500.athdf')\n",
    "\n",
    "# plt.plot( r[1:], np.diff(P) )\n",
    "# plt.plot(r[1:], -np.diff(P)/np.diff(r) * 1e7 )\n",
    "# plt.plot( r, -np.gradient(P,r), '--' )\n",
    "# plt.yscale('linear')\n",
    "# plt.tight_layout()"
   ]
  },
  {
   "cell_type": "code",
   "execution_count": 22,
   "metadata": {},
   "outputs": [
    {
     "data": {
      "image/png": "[encoded data removed]",
      "text/plain": [
       "<Figure size 720x432 with 1 Axes>"
      ]
     },
     "metadata": {},
     "output_type": "display_data"
    }
   ],
   "source": [
    "from matplotlib import animation, rc\n",
    "from IPython.display import HTML\n",
    "\n",
    "# First set up the figure, the axis, and the plot element we want to animate\n",
    "fig, ax = plt.subplots(figsize=(10,6))\n",
    "\n",
    "ax.set_xlim((0.5e13,6.5e13 ))\n",
    "ax.set_ylim((-3e-7,2e-6))\n",
    "# ax.set_yscale('log')\n",
    "\n",
    "line1, = ax.plot([], [], lw=2, label=r'$\\rho \\nabla \\Phi$')\n",
    "line2, = ax.plot([], [], lw=1, label=r'$-\\nabla P$')\n",
    "time_text = ax.text(0.02, 0.92, '', transform=ax.transAxes, fontsize=20)\n",
    "\n",
    "ax.ticklabel_format(axis='y', style='sci', scilimits=(0,0))\n",
    "\n",
    "# initialization function: plot the background of each frame\n",
    "def init():\n",
    "    line1.set_data([], [])\n",
    "    line2.set_data([], [])\n",
    "    return (line1,)\n",
    "\n",
    "# animation function. This is called sequentially\n",
    "def animate(i):\n",
    "    \n",
    "    r, src_over_rho = get_uov('SN.out2.' + str(i).zfill(5) + '.athdf',0)\n",
    "    r, rho = get_prim('SN.out1.' + str(i).zfill(5) + '.athdf', 0)\n",
    "    r, P = get_prim('SN.out1.' + str(i).zfill(5) + '.athdf', 1)\n",
    "    \n",
    "    time_text.set_text('time = %.2e' %  (i*1e4) )\n",
    "    \n",
    "    line1.set_data(r,src_over_rho*rho)\n",
    "    line2.set_data(r, -np.gradient(P,r))\n",
    "    return (line1,)\n",
    "\n",
    "ax.autoscale(enable=False, axis='both', tight=None)\n",
    "fig.subplots_adjust(left=0.1, bottom=0.2, right=1, top=0.9, wspace=None, hspace=None)\n",
    "ax.set_xlabel('radius (cm)')\n",
    "ax.legend();"
   ]
  },
  {
   "cell_type": "code",
   "execution_count": null,
   "metadata": {},
   "outputs": [],
   "source": [
    "# call the animator. blit=True means only re-draw the parts that have changed.\n",
    "anim = animation.FuncAnimation(fig, animate, init_func=init,\n",
    "                               frames=500, interval=20, blit=True)\n",
    "HTML(anim.to_html5_video())"
   ]
  },
  {
   "cell_type": "code",
   "execution_count": 10,
   "metadata": {},
   "outputs": [
    {
     "data": {
      "image/png": "[encoded data removed]",
      "text/plain": [
       "<Figure size 432x288 with 1 Axes>"
      ]
     },
     "metadata": {},
     "output_type": "display_data"
    }
   ],
   "source": [
    "plot_prim('SN.out1.00000.athdf', 0)\n",
    "plot_prim('SN.out1.00500.athdf', 0)\n",
    "# plot_prim('SN.out1.00040.athdf', 0)\n",
    "# plt.yscale('log')"
   ]
  },
  {
   "cell_type": "code",
   "execution_count": null,
   "metadata": {},
   "outputs": [],
   "source": []
  },
  {
   "cell_type": "code",
   "execution_count": 11,
   "metadata": {
    "collapsed": true
   },
   "outputs": [],
   "source": [
    "import h5py\n",
    "f = h5py.File('SN.out2.00000.athdf', 'r')"
   ]
  },
  {
   "cell_type": "code",
   "execution_count": 12,
   "metadata": {
    "collapsed": true
   },
   "outputs": [
    {
     "data": {
      "text/plain": [
       "['Levels',\n",
       " 'LogicalLocations',\n",
       " 'hydro',\n",
       " 'x1f',\n",
       " 'x1v',\n",
       " 'x2f',\n",
       " 'x2v',\n",
       " 'x3f',\n",
       " 'x3v']"
      ]
     },
     "execution_count": 12,
     "metadata": {},
     "output_type": "execute_result"
    }
   ],
   "source": [
    "list(f.keys())"
   ]
  },
  {
   "cell_type": "code",
   "execution_count": 13,
   "metadata": {},
   "outputs": [
    {
     "data": {
      "text/plain": [
       "<HDF5 dataset \"hydro\": shape (2, 1, 1, 1, 7000), type \">f4\">"
      ]
     },
     "execution_count": 13,
     "metadata": {},
     "output_type": "execute_result"
    }
   ],
   "source": [
    "f['hydro']"
   ]
  },
  {
   "cell_type": "code",
   "execution_count": null,
   "metadata": {
    "collapsed": true
   },
   "outputs": [],
   "source": []
  },
  {
   "cell_type": "code",
   "execution_count": null,
   "metadata": {},
   "outputs": [],
   "source": []
  },
  {
   "cell_type": "code",
   "execution_count": 14,
   "metadata": {},
   "outputs": [
    {
     "ename": "NameError",
     "evalue": "name 'r' is not defined",
     "output_type": "error",
     "traceback": [
      "\u001b[0;31m---------------------------------------------------------------------------\u001b[0m",
      "\u001b[0;31mNameError\u001b[0m                                 Traceback (most recent call last)",
      "\u001b[0;32m<ipython-input-14-4b71dd1612d0>\u001b[0m in \u001b[0;36m<module>\u001b[0;34m()\u001b[0m\n\u001b[1;32m      2\u001b[0m \u001b[0;34m\u001b[0m\u001b[0m\n\u001b[1;32m      3\u001b[0m \u001b[0;31m# data1.colnames\u001b[0m\u001b[0;34m\u001b[0m\u001b[0;34m\u001b[0m\u001b[0m\n\u001b[0;32m----> 4\u001b[0;31m \u001b[0mplt\u001b[0m\u001b[0;34m.\u001b[0m\u001b[0mplot\u001b[0m\u001b[0;34m(\u001b[0m \u001b[0mr\u001b[0m\u001b[0;34m,\u001b[0m \u001b[0mdd\u001b[0m\u001b[0;34m[\u001b[0m\u001b[0;36m0\u001b[0m\u001b[0;34m]\u001b[0m\u001b[0;34m,\u001b[0m \u001b[0mlabel\u001b[0m\u001b[0;34m=\u001b[0m\u001b[0;34m't=0 s'\u001b[0m \u001b[0;34m)\u001b[0m\u001b[0;34m\u001b[0m\u001b[0m\n\u001b[0m\u001b[1;32m      5\u001b[0m \u001b[0;31m# plt.plot( r, data2['rho'], label=r't=$5 \\times 10^4$ s' )\u001b[0m\u001b[0;34m\u001b[0m\u001b[0;34m\u001b[0m\u001b[0m\n\u001b[1;32m      6\u001b[0m \u001b[0;31m# plt.plot( r, data3['rho'], label=r't=$10 \\times 10^4$ s' )\u001b[0m\u001b[0;34m\u001b[0m\u001b[0;34m\u001b[0m\u001b[0m\n",
      "\u001b[0;31mNameError\u001b[0m: name 'r' is not defined"
     ]
    }
   ],
   "source": [
    "# rho, press, vel1, vel2, vel3\n",
    "\n",
    "# data1.colnames\n",
    "plt.plot( r, dd[0], label='t=0 s' )\n",
    "# plt.plot( r, data2['rho'], label=r't=$5 \\times 10^4$ s' )\n",
    "# plt.plot( r, data3['rho'], label=r't=$10 \\times 10^4$ s' )\n",
    "\n",
    "plt.plot( s13['col2'], s13['col4'] )\n",
    "\n",
    "plt.ylabel(r'$\\rho$ (g/cm$^3$)')\n",
    "plt.xlabel(r'$r$ (cm)')\n",
    "plt.legend()\n",
    "plt.yscale('log')"
   ]
  },
  {
   "cell_type": "code",
   "execution_count": null,
   "metadata": {},
   "outputs": [],
   "source": [
    "s13 = Table.read('s13.0_profile.dat', format='ascii')\n",
    "# s13[s13['col1'] > 2e13]\n",
    "s13"
   ]
  },
  {
   "cell_type": "code",
   "execution_count": null,
   "metadata": {},
   "outputs": [],
   "source": [
    "plt.plot( s13['col2'], s13['col1'] )"
   ]
  },
  {
   "cell_type": "code",
   "execution_count": null,
   "metadata": {},
   "outputs": [],
   "source": [
    "s13['col1'][s13['col2']>1e13]"
   ]
  },
  {
   "cell_type": "code",
   "execution_count": null,
   "metadata": {},
   "outputs": [],
   "source": []
  },
  {
   "cell_type": "code",
   "execution_count": null,
   "metadata": {},
   "outputs": [],
   "source": [
    "4.87e33 + np.trapz(  (data1['rho']*4.*np.pi*data1['x1v']**2)[:5209], \n",
    "                   data1['x1v'][:5209] )"
   ]
  },
  {
   "cell_type": "code",
   "execution_count": null,
   "metadata": {
    "collapsed": true
   },
   "outputs": [],
   "source": [
    "'%.2e' % data1['x1v'][5209]"
   ]
  },
  {
   "cell_type": "code",
   "execution_count": null,
   "metadata": {
    "collapsed": true
   },
   "outputs": [],
   "source": [
    "np.argmin( (data1['x1v']-1e13)**2 )"
   ]
  },
  {
   "cell_type": "code",
   "execution_count": null,
   "metadata": {
    "collapsed": true
   },
   "outputs": [],
   "source": [
    "plt.plot(data1['x1v'], data1['vel1'])"
   ]
  },
  {
   "cell_type": "code",
   "execution_count": null,
   "metadata": {
    "collapsed": true
   },
   "outputs": [],
   "source": []
  },
  {
   "cell_type": "code",
   "execution_count": null,
   "metadata": {
    "collapsed": true
   },
   "outputs": [],
   "source": []
  },
  {
   "cell_type": "code",
   "execution_count": null,
   "metadata": {
    "collapsed": true
   },
   "outputs": [],
   "source": []
  },
  {
   "cell_type": "code",
   "execution_count": null,
   "metadata": {
    "collapsed": true
   },
   "outputs": [],
   "source": []
  }
 ],
 "metadata": {
  "kernelspec": {
   "display_name": "Python 3",
   "language": "python",
   "name": "python3"
  },
  "language_info": {
   "codemirror_mode": {
    "name": "ipython",
    "version": 3
   },
   "file_extension": ".py",
   "mimetype": "text/x-python",
   "name": "python",
   "nbconvert_exporter": "python",
   "pygments_lexer": "ipython3",
   "version": "3.6.4"
  }
 },
 "nbformat": 4,
 "nbformat_minor": 2
}
