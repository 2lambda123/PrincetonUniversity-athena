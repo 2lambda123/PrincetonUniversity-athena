{
 "cells": [
  {
   "cell_type": "code",
   "execution_count": 1,
   "metadata": {},
   "outputs": [],
   "source": [
    "import matplotlib\n",
    "matplotlib.use('Agg')\n",
    "\n",
    "import sys\n",
    "sys.settrace\n",
    "import numpy as np\n",
    "import matplotlib.pyplot as plt\n",
    "from matplotlib.colors import LogNorm\n",
    "from pylab import *\n",
    "import struct\n",
    "import array\n",
    "import os\n",
    "import glob\n",
    "import h5py\n",
    "from scipy.interpolate import griddata\n",
    "\n",
    "plt.rcParams.update({\n",
    "    \"text.usetex\": True,\n",
    "    \"font.family\": \"sans-serif\",\n",
    "    \"font.sans-serif\": [\"Helvetica\"]})\n",
    "# for Palatino and other serif fonts use:\n",
    "#plt.rcParams.update({\n",
    "#    \"text.usetex\": True,\n",
    "#    \"font.family\": \"serif\",\n",
    "#    \"font.serif\": [\"Palatino\"],\n",
    "#})\n",
    "\n",
    "from importlib import reload"
   ]
  },
  {
   "cell_type": "code",
   "execution_count": 2,
   "metadata": {},
   "outputs": [],
   "source": [
    "import athena_read"
   ]
  },
  {
   "cell_type": "code",
   "execution_count": 3,
   "metadata": {},
   "outputs": [],
   "source": [
    "def FitBlackBody(nu_t):\n",
    "  integral = 0.0;\n",
    "  nu_2 = nu_t * nu_t;\n",
    "  nu_3 = nu_t * nu_2;\n",
    "  if nu_t < 1.5:\n",
    "    integral = 0.051329911273422 * nu_3 -0.019248716727533 * nu_t * nu_3 + 0.002566495563671 * nu_2 * nu_3;\n",
    "  else:\n",
    "    exp_nu = exp(-nu_t);\n",
    "    integral = -0.156915538762850 * exp_nu * (nu_3 + 2.69 * nu_2 + 6.714 * nu_t) + 1.000009331428801*(1- exp_nu);\n",
    "  \n",
    "\n",
    "  return integral;"
   ]
  },
  {
   "cell_type": "code",
   "execution_count": 17,
   "metadata": {},
   "outputs": [],
   "source": [
    "def PlotProfile(datax, datay, xmin, xmax, ymin, ymax,  ylabel, label1, filename, xlabel='$r/r_g$', logscale=0, \n",
    "                xlogscale=0,datay1_2=None, datay1_3=None, datax2=None, datay2=None, datay2_2=None, datay2_3=None, \n",
    "                datax3=None, datay3=None, datay3_2=None, datay3_3=None, datax4=None, datay4=None, \n",
    "                datax5=None, datay5=None, label2='', label3='', label4='', label5='',title=None):\n",
    "    plots, axes = plt.subplots(figsize=(9,11),dpi=300)\n",
    "    plt.xlabel(xlabel, size = 35)\n",
    "    plt.ylabel(ylabel, size = 35)\n",
    "    plt.subplots_adjust(left=0.15,right=0.88,top=0.9,bottom=0.1)\n",
    "    plt.ylim([ymin,ymax])\n",
    "    plt.xlim([xmin,xmax])\n",
    "    if logscale > 0:\n",
    "      axes.set_yscale('log')\n",
    "    if xlogscale > 0:\n",
    "      axes.set_xscale('log')\n",
    "    if title is not None:\n",
    "      plt.title(title,size=25)\n",
    "\n",
    "    plt.plot(datax,datay,color='magenta',marker='o',fillstyle='none',markersize=8,label=label1,linewidth=3.0)\n",
    "    if datay1_2 is not None:\n",
    "      plt.plot(datax,datay1_2,color='blue',linestyle='dotted',linewidth=4.0,alpha=1.0)\n",
    "    if datay1_3 is not None:\n",
    "      plt.plot(datax,datay1_3,color='black',linestyle='dashed',linewidth=4.0)\n",
    "    if datay2 is not None:\n",
    "      plt.plot(datax2,datay2,color='black',label=label2,linewidth=2.0,alpha=1.0,marker='x',fillstyle='none',markersize=8)\n",
    "    if datay2_2 is not None:\n",
    "      plt.plot(datax2,datay2_2,color='black',linestyle='dashed',linewidth=2.0,alpha=1.0)\n",
    "    if datay2_3 is not None:\n",
    "      plt.plot(datax2,datay2_3,color='red',linestyle='dashed',linewidth=4.0)\n",
    "    if datay3 is not None:\n",
    "      plt.plot(datax3,datay3,color='green',label=label3,marker='s',fillstyle='none',markersize=8,linewidth=3.0)\n",
    "    if datay3_2 is not None:\n",
    "      plt.plot(datax3,datay3_2,color='black',linestyle='dashed',linewidth=2.0,alpha=1.0)\n",
    "    if datay3_3 is not None:\n",
    "      plt.plot(datax3,datay3_3,color='green',linestyle='dashed',linewidth=4.0)\n",
    "    if datay4 is not None:\n",
    "      plt.plot(datax4,datay4,color='red',linestyle='dotted',label=label4,linewidth=3.0)\n",
    "    if datay5 is not None:\n",
    "      plt.plot(datax5,datay5,color=tableau20[0],label=label5,linewidth=2.0)      \n",
    "    plt.legend(loc='lower right',bbox_to_anchor=(0.8, 0.3),frameon=False,fontsize = 35)\n",
    "    axes.set_aspect('auto')\n",
    "    axes.yaxis.set_tick_params(labelsize=25)\n",
    "    axes.xaxis.set_tick_params(labelsize=25)\n",
    "    plt.savefig(filename)\n",
    "    plt.close(plots)\n"
   ]
  },
  {
   "cell_type": "code",
   "execution_count": 5,
   "metadata": {},
   "outputs": [],
   "source": [
    "files=sorted(glob.glob('Data/thermal*athdf'))\n",
    "num_file=len(files)"
   ]
  },
  {
   "cell_type": "code",
   "execution_count": 28,
   "metadata": {},
   "outputs": [],
   "source": [
    "#for filename in files:\n",
    "nu_grid=[0,0.75,2.5]\n",
    "histories=np.zeros((num_file,5))"
   ]
  },
  {
   "cell_type": "code",
   "execution_count": 29,
   "metadata": {},
   "outputs": [],
   "source": [
    "Prat=1\n",
    "Crat=10\n",
    "count=0\n",
    "for filename in files:\n",
    "  with h5py.File(filename, 'r') as f:\n",
    "    attributes = f.attrs.items()\n",
    "    attrs = dict(attributes)\n",
    "    level = f.attrs['MaxLevel']\n",
    "    time = f.attrs['Time']\n",
    "  subsample = False\n",
    "\n",
    "  data = athena_read.athdf(filename, level=level, subsample=subsample)\n",
    "  histories[count,0]=time\n",
    "  histories[count,1]=np.average(data['Er_0'])\n",
    "  histories[count,2]=np.average(data['Er_1'])\n",
    "  histories[count,3]=np.average(data['Er_2'])\n",
    "  histories[count,4]=np.average(data['press']/data['rho'])\n",
    "  count=count+1\n"
   ]
  },
  {
   "cell_type": "code",
   "execution_count": 30,
   "metadata": {},
   "outputs": [],
   "source": [
    "ylabel='$E_r, a_rT^4$'\n",
    "filename='thermal_relaxation.pdf'\n",
    "xlabel='$t$'\n",
    "label2='$E_{r,2}$'\n",
    "label3='$E_{r,3}$'\n",
    "label4='$a_rT^4$'\n",
    "#print(histories[:,0])\n",
    "PlotProfile(histories[:,0], histories[:,1],-0.2, 5.2, 1.e-2, 100, ylabel, '$E_{r,1}$', filename, xlabel, logscale=1,\n",
    "           datax2=histories[:,0],datay2=histories[:,2],label2=label2,datax3=histories[:,0],datay3=histories[:,3],\n",
    "            label3=label3,datax4=histories[:,0],datay4=histories[:,4]**4,label4=label4)"
   ]
  },
  {
   "cell_type": "code",
   "execution_count": 31,
   "metadata": {},
   "outputs": [],
   "source": [
    "tg=histories[num_file-1,4]\n",
    "emission=np.zeros(3)\n",
    "emission[0]=FitBlackBody(nu_grid[1]/tg)\n",
    "emission[1]=FitBlackBody(nu_grid[2]/tg)-FitBlackBody(nu_grid[1]/tg)\n",
    "emission[2]=1-FitBlackBody(nu_grid[2]/tg)\n",
    "Er1=histories[num_file-1,1]\n",
    "Er2=histories[num_file-1,2]\n",
    "Er3=histories[num_file-1,3]"
   ]
  },
  {
   "cell_type": "code",
   "execution_count": 32,
   "metadata": {},
   "outputs": [
    {
     "name": "stdout",
     "output_type": "stream",
     "text": [
      "[5.37646228e-02 1.49400713e+00 5.59637616e+01] 0.05376462638378143 1.067147970199585 56.24833679199219\n",
      "[9.34849407e-04 2.59775221e-02 9.73087628e-01] 2.753840208053589\n"
     ]
    }
   ],
   "source": [
    "print(emission*tg**4,Er1,Er2,Er3)\n",
    "print(emission,tg)"
   ]
  },
  {
   "cell_type": "code",
   "execution_count": null,
   "metadata": {},
   "outputs": [],
   "source": []
  }
 ],
 "metadata": {
  "kernelspec": {
   "display_name": "Python 3",
   "language": "python",
   "name": "python3"
  },
  "language_info": {
   "codemirror_mode": {
    "name": "ipython",
    "version": 3
   },
   "file_extension": ".py",
   "mimetype": "text/x-python",
   "name": "python",
   "nbconvert_exporter": "python",
   "pygments_lexer": "ipython3",
   "version": "3.7.6"
  }
 },
 "nbformat": 4,
 "nbformat_minor": 4
}
