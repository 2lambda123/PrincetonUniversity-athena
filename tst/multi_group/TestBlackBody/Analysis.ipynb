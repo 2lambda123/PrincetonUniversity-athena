{
 "cells": [
  {
   "cell_type": "code",
   "execution_count": 182,
   "metadata": {},
   "outputs": [],
   "source": [
    "import matplotlib\n",
    "matplotlib.use('Agg')\n",
    "\n",
    "import sys\n",
    "sys.settrace\n",
    "import numpy as np\n",
    "import matplotlib.pyplot as plt\n",
    "from matplotlib.colors import LogNorm\n",
    "from pylab import *\n",
    "import struct\n",
    "import array\n",
    "import os\n",
    "import glob\n",
    "import h5py\n",
    "from scipy.interpolate import griddata\n",
    "from scipy import integrate\n",
    "\n",
    "plt.rcParams.update({\n",
    "    \"text.usetex\": True,\n",
    "    \"font.family\": \"sans-serif\",\n",
    "    \"font.sans-serif\": [\"Helvetica\"]})\n",
    "# for Palatino and other serif fonts use:\n",
    "#plt.rcParams.update({\n",
    "#    \"text.usetex\": True,\n",
    "#    \"font.family\": \"serif\",\n",
    "#    \"font.serif\": [\"Palatino\"],\n",
    "#})\n",
    "\n",
    "plt.rcParams['text.latex.preamble'] = [r'\\usepackage{sfmath} \\boldmath']\n",
    "plt.rcParams['font.size'] = '20'\n",
    "\n",
    "from importlib import reload"
   ]
  },
  {
   "cell_type": "code",
   "execution_count": 84,
   "metadata": {},
   "outputs": [],
   "source": [
    "import athena_read"
   ]
  },
  {
   "cell_type": "code",
   "execution_count": 178,
   "metadata": {},
   "outputs": [],
   "source": [
    "def FitBlackBody(nu_t):\n",
    "  integral = 0.0;\n",
    "  nu_2 = nu_t * nu_t;\n",
    "  nu_3 = nu_t * nu_2;\n",
    "  if nu_t < 1.5:\n",
    "    integral = 0.051329911273422 * nu_3 -0.019248716727533 * nu_t * nu_3 + 0.002566495563671 * nu_2 * nu_3;\n",
    "  elif nu_t < 18.6:\n",
    "    exp_nu = exp(-nu_t);\n",
    "    integral = -0.156915538762850 * exp_nu * (nu_3 + 2.69 * nu_2 + 6.714 * nu_t) + 1.000009331428801*(1- exp_nu);\n",
    "  else:\n",
    "    integral = 1.0 - 192.1*exp(-0.9014*nu_t)\n",
    "\n",
    "  return integral;\n",
    "def BlackBody(nu_t):\n",
    "  spec=(15/np.pi**4.0)*nu_t**3/(exp(nu_t)-1)\n",
    "\n",
    "  return spec;"
   ]
  },
  {
   "cell_type": "code",
   "execution_count": 193,
   "metadata": {},
   "outputs": [],
   "source": [
    "def PlotProfile(datax, datay, xmin, xmax, ymin, ymax,  ylabel, label1, filename, xlabel='$r/r_g$', logscale=0, \n",
    "                xlogscale=0,datay1_2=None, datay1_3=None, datax2=None, datay2=None, datay2_2=None, datay2_3=None, \n",
    "                datax3=None, datay3=None, datay3_2=None, datay3_3=None, datax4=None, datay4=None, \n",
    "                datax5=None, datay5=None, label2='', label3='', label4='', label5='',title=None,leg_loc=None):\n",
    "    plots, axes = plt.subplots(figsize=(9,11),dpi=300)\n",
    "    plt.xlabel(xlabel, size = 30)\n",
    "    plt.ylabel(ylabel, size = 30)\n",
    "    plt.subplots_adjust(left=0.16,right=0.88,top=0.9,bottom=0.1)\n",
    "    plt.ylim([ymin,ymax])\n",
    "    plt.xlim([xmin,xmax])\n",
    "    if logscale > 0:\n",
    "      axes.set_yscale('log')\n",
    "    if xlogscale > 0:\n",
    "      axes.set_xscale('log')\n",
    "    if title is not None:\n",
    "      plt.title(title,size=20)\n",
    "\n",
    "    plt.plot(datax,datay,color='black',marker=' ',fillstyle='none',markersize=8,label=label1,linewidth=3.0)\n",
    "    if datay1_2 is not None:\n",
    "      plt.scatter(datax,datay1_2,color='red',marker='o',s=40)\n",
    "    if datay1_3 is not None:\n",
    "      plt.plot(datax,datay1_3,color='black',linestyle='dashed',linewidth=4.0)\n",
    "    if datay2 is not None:\n",
    "      plt.plot(datax2,datay2,color='red',label=label2,linewidth=2.0,alpha=1.0,marker='o',\n",
    "               linestyle='dashed',markersize=10,fillstyle='none')\n",
    "    if datay2_2 is not None:\n",
    "      plt.plot(datax2,datay2_2,color='black',linestyle='dashed',linewidth=2.0,alpha=1.0)\n",
    "    if datay2_3 is not None:\n",
    "      plt.plot(datax2,datay2_3,color='red',linestyle='dashed',linewidth=4.0)\n",
    "    if datay3 is not None:\n",
    "      plt.plot(datax3,datay3,color='green',label=label3,marker='s',fillstyle='none',markersize=8,linewidth=3.0)\n",
    "    if datay3_2 is not None:\n",
    "      plt.plot(datax3,datay3_2,color='black',linestyle='dashed',linewidth=2.0,alpha=1.0)\n",
    "    if datay3_3 is not None:\n",
    "      plt.plot(datax3,datay3_3,color='green',linestyle='dashed',linewidth=4.0)\n",
    "    if datay4 is not None:\n",
    "      plt.plot(datax4,datay4,color='red',linestyle='dotted',label=label4,linewidth=3.0)\n",
    "    if datay5 is not None:\n",
    "      plt.plot(datax5,datay5,color=tableau20[0],label=label5,linewidth=2.0) \n",
    "    if leg_loc is not None:\n",
    "      plt.legend(loc=\"best\",bbox_to_anchor=leg_loc,frameon=False)\n",
    "    axes.set_aspect('auto')\n",
    "#    axes.yaxis.set_tick_params(labelsize=25)\n",
    "#    axes.xaxis.set_tick_params(labelsize=25)\n",
    "    plt.savefig(filename)\n",
    "    plt.close(plots)\n"
   ]
  },
  {
   "cell_type": "code",
   "execution_count": 152,
   "metadata": {},
   "outputs": [],
   "source": [
    "files=sorted(glob.glob('Data/thermal*athdf'))\n",
    "num_file=len(files)"
   ]
  },
  {
   "cell_type": "code",
   "execution_count": 153,
   "metadata": {},
   "outputs": [],
   "source": [
    "#for filename in files:\n",
    "ang_file = open('Data/Rad_angles.txt', 'r')\n",
    "Lines = ang_file.readlines()\n",
    "location=Lines.index('fre   spec\\n')\n",
    "tot_line=size(Lines)\n",
    "nfreq=tot_line-location-1\n",
    "nu_grid=np.zeros(nfreq)\n",
    "histories=np.zeros((num_file,5))\n",
    "for i in range(nfreq):\n",
    "    line=Lines[i+location+1].split(' ')[0]\n",
    "    nu_grid[i]=float(line)\n",
    "\n",
    "nu_center=(nu_grid[:-1]+nu_grid[1:])/2\n",
    "nu_center=np.append(nu_center,nu_grid[nfreq-1])"
   ]
  },
  {
   "cell_type": "code",
   "execution_count": 154,
   "metadata": {},
   "outputs": [],
   "source": [
    "Prat=1\n",
    "Crat=10\n",
    "count=0\n",
    "filename=files[num_file-1]\n",
    "\n",
    "with h5py.File(filename, 'r') as f:\n",
    "  attributes = f.attrs.items()\n",
    "  attrs = dict(attributes)\n",
    "  level = f.attrs['MaxLevel']\n",
    "  time = f.attrs['Time']\n",
    "  subsample = False\n",
    "\n",
    "data = athena_read.athdf(filename, level=level, subsample=subsample)\n",
    "\n",
    "Er_spec=np.zeros(nfreq)\n",
    "for i in range(nfreq):\n",
    "    varname='Er_'+str(i)\n",
    "    Er_spec[i]=np.average(data[varname])\n",
    "    \n",
    "tgas=np.average(data['press']/data['rho'])\n",
    "blackbody=np.zeros(nfreq)\n",
    "for i in range(nfreq-1):\n",
    "    kt_right=nu_grid[i+1]/tgas\n",
    "    kt_left=nu_grid[i]/tgas\n",
    "    blackbody[i]=tgas**4.0*(FitBlackBody(kt_right)-FitBlackBody(kt_left))\n",
    "blackbody[nfreq-1]=tgas**4.0*(1-FitBlackBody(nu_grid[nfreq-1]/tgas))"
   ]
  },
  {
   "cell_type": "code",
   "execution_count": 196,
   "metadata": {},
   "outputs": [],
   "source": [
    "ylabel='$\\\\rm Integrated\\\\ Spectrum \\int_{\\\\nu_1}^{\\\\nu_2} E_r(\\\\nu) d\\\\nu$'\n",
    "filename='integrated_spectrum.pdf'\n",
    "xlabel='$\\\\nu$'\n",
    "\n",
    "#print(histories[:,0])\n",
    "PlotProfile(nu_center,Er_spec,2.e-3, 50, 1.e-8, 100, ylabel, None, filename, xlabel, logscale=1,\n",
    "            datay1_2=blackbody,xlogscale=1)"
   ]
  },
  {
   "cell_type": "code",
   "execution_count": 186,
   "metadata": {},
   "outputs": [],
   "source": [
    "spec_int=np.zeros(nfreq-1)\n",
    "for i in range(nfreq-1):\n",
    "    spec_int[i]=Er_spec[i]/(tgas**4.0*(nu_grid[i+1]-nu_grid[i]))\n",
    "nu_center2=(nu_grid[:-1]+nu_grid[1:])/2\n",
    "nu_plot=np.logspace(-3., 2., num=1000)\n",
    "bd_spec=BlackBody(nu_plot/tgas)/tgas"
   ]
  },
  {
   "cell_type": "code",
   "execution_count": 195,
   "metadata": {},
   "outputs": [],
   "source": [
    "ylabel='$\\\\rm  E_r(\\\\nu)/a_rT_g^4 $'\n",
    "filename='thermal_spectrum.pdf'\n",
    "xlabel='$\\\\nu$'\n",
    "\n",
    "#print(histories[:,0])\n",
    "PlotProfile(nu_plot,bd_spec,2.e-3, 50, 1.e-6, 1, ylabel, None, filename, xlabel, logscale=1,\n",
    "            xlogscale=1,datax2=nu_center2,datay2=spec_int)"
   ]
  },
  {
   "cell_type": "code",
   "execution_count": 183,
   "metadata": {},
   "outputs": [
    {
     "data": {
      "text/plain": [
       "(0.9999999999999549, 1.320824794960577e-09)"
      ]
     },
     "execution_count": 183,
     "metadata": {},
     "output_type": "execute_result"
    }
   ],
   "source": [
    "integrate.quad(BlackBody, 0, 40)"
   ]
  },
  {
   "cell_type": "code",
   "execution_count": 83,
   "metadata": {},
   "outputs": [
    {
     "name": "stdout",
     "output_type": "stream",
     "text": [
      "1.0049135669154552e-05\n",
      "9.958959793499034e-06\n",
      "1.1102230246251565e-15\n"
     ]
    }
   ],
   "source": [
    "print(1-FitBlackBody(18.6))\n",
    "print(1-FitBlackBody(18.61))\n",
    "print(1-FitBlackBody(44))"
   ]
  },
  {
   "cell_type": "code",
   "execution_count": null,
   "metadata": {},
   "outputs": [],
   "source": []
  }
 ],
 "metadata": {
  "kernelspec": {
   "display_name": "Python 3 (ipykernel)",
   "language": "python",
   "name": "python3"
  },
  "language_info": {
   "codemirror_mode": {
    "name": "ipython",
    "version": 3
   },
   "file_extension": ".py",
   "mimetype": "text/x-python",
   "name": "python",
   "nbconvert_exporter": "python",
   "pygments_lexer": "ipython3",
   "version": "3.9.12"
  }
 },
 "nbformat": 4,
 "nbformat_minor": 4
}
