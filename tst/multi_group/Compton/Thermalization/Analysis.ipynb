{
 "cells": [
  {
   "cell_type": "code",
   "execution_count": 1,
   "metadata": {},
   "outputs": [
    {
     "name": "stderr",
     "output_type": "stream",
     "text": [
      "/var/folders/2n/ftypqy6s65s2j7krblnn49cw0000gq/T/ipykernel_75965/2115520317.py:46: MatplotlibDeprecationWarning: Support for setting the 'text.latex.preamble' or 'pgf.preamble' rcParam to a list of strings is deprecated since 3.3 and will be removed two minor releases later; set it to a single string instead.\n",
      "  plt.rcParams['text.latex.preamble'] = [r'\\usepackage{sfmath} \\boldmath']\n"
     ]
    }
   ],
   "source": [
    "import matplotlib\n",
    "matplotlib.use('Agg')\n",
    "%matplotlib inline\n",
    "import sys\n",
    "sys.settrace\n",
    "import numpy as np\n",
    "import matplotlib.pyplot as plt\n",
    "from matplotlib.colors import LogNorm\n",
    "from pylab import *\n",
    "import struct\n",
    "import array\n",
    "import os\n",
    "import glob\n",
    "import h5py\n",
    "from scipy.interpolate import griddata\n",
    "import scipy.integrate as integrate\n",
    "\n",
    "\n",
    "#import matplotlib as mpl\n",
    "#mpl.use(\"pgf\")\n",
    "#pgf_with_custom_preamble = {\n",
    "#    \"font.family\": \"serif\", # use serif/main font for text elements\n",
    "#    \"text.usetex\": True,    # use inline math for ticks\n",
    "#    \"pgf.rcfonts\": False,   # don't setup fonts from rc parameters\n",
    "#    \"pgf.preamble\": [\n",
    "#         r\"\\usepackage{units}\",         # load additional packages\n",
    "#         r\"\\usepackage{metalogo}\",\n",
    "#         r\"\\usepackage{unicode-math}\",  # unicode math setup\n",
    "#         r\"\\setmathfont{xits-math.otf}\",\n",
    "#         r\"\\setmainfont{DejaVu Serif}\", # serif font via preamble\n",
    "#         r\"\\usepackage{sfmath} \\boldmath\",\n",
    "#         ]\n",
    "#}\n",
    "\n",
    "plt.rcParams.update({\n",
    "    \"text.usetex\": True,\n",
    "    \"font.family\": \"serif\",\n",
    "    \"font.sans-serif\": [\"DejaVu Serif\"]})\n",
    "# for Palatino and other serif fonts use:\n",
    "#plt.rcParams.update({\n",
    "#    \"text.usetex\": True,\n",
    "#    \"font.family\": \"serif\",\n",
    "#    \"font.serif\": [\"Palatino\"],\n",
    "#})\n",
    "\n",
    "plt.rcParams['text.latex.preamble'] = [r'\\usepackage{sfmath} \\boldmath']\n",
    "plt.rcParams['font.size'] = '20'\n",
    "\n",
    "from importlib import reload"
   ]
  },
  {
   "cell_type": "code",
   "execution_count": 2,
   "metadata": {},
   "outputs": [],
   "source": [
    "import athena_read"
   ]
  },
  {
   "cell_type": "code",
   "execution_count": 3,
   "metadata": {},
   "outputs": [],
   "source": [
    "#This is the integral of blackbody from 0 to nu_t (h\\nu/kT)\n",
    "def FitBlackBody(nu_t):\n",
    "    integral = 0.0;\n",
    "    nu_2 = nu_t * nu_t;\n",
    "    nu_3 = nu_t * nu_2;\n",
    "    nu_7 = nu_2 * nu_2 * nu_3\n",
    "    if nu_t < 1.8:\n",
    "        integral = 0.051329911273422 * nu_3 -0.019248716727533 * nu_t * nu_3 + 0.002566495563671 * nu_2 * nu_3\n",
    "        -3.055351861513195*1.e-5*nu_7\n",
    "    elif nu_t < 18.6:\n",
    "        exp_nu = exp(-nu_t);\n",
    "        integral = -0.156915538762850 * exp_nu * (nu_3 + 2.69 * nu_2 + 6.714 * nu_t) + 1.000009331428801*(1- exp_nu);\n",
    "    else:\n",
    "        integral = 1.0 - 192.1*exp(-0.9014*nu_t)\n",
    "\n",
    "    return integral;\n",
    "#This is the blackbody spectrum for each frequency nu_t (h\\nu/kT)\n",
    "def BlackBody(nu, tr):\n",
    "    nu_t=nu/tr\n",
    "    exp_1=exp(nu_t)-1\n",
    "    if nu_t < 1.e-5:\n",
    "      exp_1=tr**3.0*nu_t**2.0\n",
    "    else:\n",
    "      exp_1=nu**3.0/exp_1\n",
    "\n",
    "    spec=(15/np.pi**4.0)*exp_1\n",
    "\n",
    "    return spec;\n",
    "\n",
    "def BlackBodyNnu2(nu, tr):\n",
    "    nu_t=nu/tr\n",
    "    exp_1=exp(nu_t)-1\n",
    "    if nu_t < 1.e-5:\n",
    "        exp_1=tr**2.0*(nu_t-0.5*nu_t**2.0)\n",
    "    else:\n",
    "        exp_1=1/exp_1\n",
    "\n",
    "    spec=exp_1\n",
    "\n",
    "    return spec;\n",
    "def ConvertJNNu2(bbj, nu_f):\n",
    "    jnu4=bbj/nu_f**4\n",
    "    log_jnu4=log10(jnu4)\n",
    "    log_nnu2=1\n",
    "    if log_jnu4 < -3.99793:\n",
    "        log_nnu2 = 0.9971*log_jnu4+0.7464\n",
    "    elif log_jnu4 >= -3.99793 and log_jnu4 < 2.73043:\n",
    "        jsq = log_jnu4*log_jnu4\n",
    "        log_nnu2 = 0.0003484*jsq*jsq+0.002327*jsq*log_jnu4-0.02137*jsq+0.8037*log_jnu4+0.3249\n",
    "    else:\n",
    "        log_nnu2 = 0.7506*log_jnu4+0.3773\n",
    "    nnu2 = 10.0**log_nnu2*nu_f*nu_f*nu_f\n",
    "    return nnu2\n",
    "def ConvertJNNu2Wein(bbj, nu_f, tgas):\n",
    "    nu_t=nu_f/tgas\n",
    "    n_coef = 2.0+2.0*nu_t+nu_t*nu_t\n",
    "    j_coef = 6.0+6.0*nu_t+3.0*nu_t*nu_t+nu_t*nu_t*nu_t\n",
    "    nnu2 = bbj*np.pi**4.0*n_coef/(15.0*tgas*j_coef)\n",
    "    return nnu2"
   ]
  },
  {
   "cell_type": "code",
   "execution_count": 17,
   "metadata": {},
   "outputs": [],
   "source": [
    "def PlotProfile(datax, datay, xmin, xmax, ymin, ymax,  ylabel, label1, filename, xlabel='$r/r_g$', logscale=0, \n",
    "                xlogscale=0, datax1_2=None, datay1_2=None, datay1_3=None, datax2=None, datay2=None, datax2_2=None, \n",
    "                datay2_2=None, datay2_3=None, datax3=None, datay3=None, datax3_2=None, datay3_2=None, datay3_3=None, \n",
    "                datax4=None, datay4=None, datax4_2=None, datay4_2=None, datax5=None, datay5=None, label2='', \n",
    "                label2_2='',label3='', label4='', label5='',title=None,leg_loc=None):\n",
    "    plots, axes = plt.subplots(figsize=(9,11),dpi=300)\n",
    "    plt.xlabel(xlabel, size = 30)\n",
    "    plt.ylabel(ylabel, size = 30)\n",
    "    plt.subplots_adjust(left=0.15,right=0.88,top=0.9,bottom=0.1)\n",
    "    plt.ylim([ymin,ymax])\n",
    "    plt.xlim([xmin,xmax])\n",
    "    if logscale > 0:\n",
    "      axes.set_yscale('log')\n",
    "    if xlogscale > 0:\n",
    "      axes.set_xscale('log')\n",
    "    if title is not None:\n",
    "      plt.title(title,size=20)\n",
    "\n",
    "    plt.plot(datax,datay,color='black',label=label1,linewidth=3.0)\n",
    "    if datay1_2 is not None:\n",
    "        if datax1_2 is not None:\n",
    "            plt.scatter(datax1_2,datay1_2,s=80,facecolors='none', edgecolors='black')\n",
    "        else:\n",
    "            plt.scatter(datax1,datay1_2,s=80,facecolors='none', edgecolors='black')    \n",
    "    if datay1_3 is not None:\n",
    "        plt.plot(datax,datay1_3,color='black',linestyle='dashed',linewidth=4.0)\n",
    "    if datay2 is not None:\n",
    "        plt.plot(datax2,datay2,color='red',label=label2,linewidth=3.0)\n",
    "    if datay2_2 is not None:\n",
    "        if datax2_2 is not None:\n",
    "            plt.plot(datax2_2,datay2_2,color='blue',label=label2_2,linewidth=3.0,linestyle='dashed')\n",
    "        else:\n",
    "            plt.plot(datax2,datay2_2,color='red',label=label2,linewidth=3.0)      \n",
    "    if datay2_3 is not None:\n",
    "        plt.plot(datax2,datay2_3,color='red',linestyle='dashed',linewidth=4.0)\n",
    "    if datay3 is not None:\n",
    "        plt.plot(datax3,datay3,color='green',label=label3,linewidth=3.0,linestyle='dashed')\n",
    "    if datay3_2 is not None:\n",
    "        if datax3_2 is not None:\n",
    "            plt.scatter(datax3_2,datay3_2,s=80,facecolors='none', edgecolors='green')\n",
    "        else:\n",
    "            plt.scatter(datax3_2,datay3_2,s=80,facecolors='none', edgecolors='green')          \n",
    "    if datay3_3 is not None:\n",
    "        plt.plot(datax3,datay3_3,color='green',linestyle='dashed',linewidth=4.0)\n",
    "    if datay4 is not None:\n",
    "        plt.plot(datax4,datay4,color='blue',label=label4,linewidth=3.0)\n",
    "        if datax4_2 is not None:\n",
    "            plt.scatter(datax4_2,datay4_2,s=80,facecolors='none', edgecolors='blue')\n",
    "        else:\n",
    "            plt.scatter(datax4,datay4_2,s=80,facecolors='none', edgecolors='blue')\n",
    "    if datay5 is not None:\n",
    "      plt.plot(datax5,datay5,color=tableau20[0],label=label5,linewidth=2.0) \n",
    "    if leg_loc is not None:\n",
    "      plt.legend(loc=\"best\",bbox_to_anchor=leg_loc,frameon=False)\n",
    "    axes.set_aspect('auto')\n",
    "#    axes.yaxis.set_tick_params(labelsize=25)\n",
    "#    axes.xaxis.set_tick_params(labelsize=25)\n",
    "    plt.savefig(filename)\n",
    "    plt.close(plots)\n"
   ]
  },
  {
   "cell_type": "code",
   "execution_count": 5,
   "metadata": {},
   "outputs": [],
   "source": [
    "files=sorted(glob.glob('Data/thermal*athdf'))\n",
    "num_file=len(files)"
   ]
  },
  {
   "cell_type": "code",
   "execution_count": 6,
   "metadata": {},
   "outputs": [],
   "source": [
    "#for filename in files:\n",
    "ang_file = open('Data/Rad_angles.txt', 'r')\n",
    "Lines = ang_file.readlines()\n",
    "angle_line = [ line for line in Lines if  \"tau_scheme\" in line]\n",
    "angle_line=angle_line[0]\n",
    "\n",
    "prat_line = [ line for line in Lines if  \"Prat\" in line]\n",
    "prat_line=prat_line[0]\n",
    "prat_split=prat_line.split(\" \")\n",
    "Prat=float(prat_split[size(prat_split)-2])\n",
    "\n",
    "\n",
    "crat_line = [ line for line in Lines if  \"Crat\" in line]\n",
    "crat_line=crat_line[0]\n",
    "Crat_split=crat_line.split(\" \")\n",
    "Crat=float(Crat_split[size(Crat_split)-2])\n",
    "\n",
    "\n",
    "angle_index=Lines.index(angle_line)+1\n",
    "location=Lines.index('fre   spec\\n')\n",
    "tot_line=size(Lines)\n",
    "nfreq=tot_line-location-1\n",
    "nu_grid=np.zeros(nfreq)\n",
    "histories=np.zeros((num_file,52))\n",
    "for i in range(nfreq):\n",
    "    line=Lines[i+location+1].split(' ')[0]\n",
    "    nu_grid[i]=float(line)\n",
    "\n",
    "nu_center=np.zeros(nfreq-1)\n",
    "nu_center[:]=(nu_grid[:-1]+nu_grid[1:])/2\n",
    "\n",
    "nu_plot=np.zeros(nfreq)\n",
    "nu_plot[:-1]=nu_center\n",
    "nu_plot[nfreq-1]=nu_grid[nfreq-1]\n",
    "\n",
    "#nu_center=np.append(nu_center,nu_grid[nfreq-1])\n",
    "nang=location-angle_index\n",
    "mu_x=np.zeros(nang)\n",
    "mu_y=np.zeros(nang)\n",
    "mu_z=np.zeros(nang)\n",
    "weight=np.zeros(nang)\n",
    "for n in range(nang):\n",
    "    line=Lines[n+angle_index].split('   ')\n",
    "    mu_x[n]=float(line[1])\n",
    "    mu_y[n]=float(line[2])\n",
    "    mu_z[n]=float(line[3])\n",
    "    weight[n]=float(line[4].rstrip())"
   ]
  },
  {
   "cell_type": "code",
   "execution_count": 7,
   "metadata": {},
   "outputs": [],
   "source": [
    "tgas=np.zeros(num_file)\n",
    "er_spec=np.zeros((num_file,nfreq))\n",
    "specific_spec=np.zeros((num_file,nfreq-1))\n",
    "time=np.zeros(num_file)\n",
    "er_his=np.zeros(num_file)"
   ]
  },
  {
   "cell_type": "code",
   "execution_count": 8,
   "metadata": {},
   "outputs": [],
   "source": [
    "for i in range(num_file):\n",
    "    filename=files[i]\n",
    "    with h5py.File(filename, 'r') as f:\n",
    "        attributes = f.attrs.items()\n",
    "        attrs = dict(attributes)\n",
    "        level = f.attrs['MaxLevel']\n",
    "        time[i] = f.attrs['Time']\n",
    "        subsample = False\n",
    "    data = athena_read.athdf(filename, level=level, subsample=subsample)\n",
    "    tgas[i]=np.mean(data['press'][0,0,:]/data['rho'][0,0,:])\n",
    "    er_his[i]=0.0\n",
    "    for j in range(nfreq):\n",
    "        varname='Er_'+str(j)\n",
    "        er_spec[i,j]=np.mean(data[varname][0,0,:])\n",
    "        er_his[i] = er_his[i] + er_spec[i,j]\n",
    "    for j in range(nfreq-1):\n",
    "        specific_spec[i,j]= er_spec[i,j]/(nu_grid[j+1]-nu_grid[j])"
   ]
  },
  {
   "cell_type": "code",
   "execution_count": 9,
   "metadata": {},
   "outputs": [
    {
     "name": "stdout",
     "output_type": "stream",
     "text": [
      "[100.          69.16355133  68.45209503  68.44812775  68.44808197\n",
      "  68.44808197  68.44808197  68.44808197  68.44808197  68.44808197\n",
      "  68.44808197  68.44808197  68.44808197  68.44808197  68.44808197\n",
      "  68.44808197  68.44808197  68.44808197  68.44808197  68.44808197\n",
      "  68.44808197  68.44808197  68.44808197  68.44808197  68.44808197\n",
      "  68.44808197  68.44808197  68.44808197  68.44808197  68.44808197\n",
      "  68.44808197  68.44808197  68.44808197  68.44808197  68.44808197\n",
      "  68.44808197  68.44808197  68.44808197  68.44808197  68.44808197\n",
      "  68.44808197  68.44808197  68.44808197  68.44808197  68.44808197\n",
      "  68.44808197  68.44808197  68.44808197  68.44808197  68.44808197\n",
      "  68.44808197  68.44808197  68.44808197  68.44808197  68.44808197\n",
      "  68.44808197  68.44808197  68.44808197  68.44808197  68.44808197\n",
      "  68.44808197  68.44808197  68.44808197  68.44808197  68.44808197\n",
      "  68.44808197  68.44808197  68.44808197  68.44808197  68.44808197\n",
      "  68.44808197  68.44808197  68.44808197  68.44808197  68.44808197\n",
      "  68.44808197  68.44808197  68.44808197  68.44808197  68.44808197\n",
      "  68.44808197  68.44808197  68.44808197  68.44808197  68.44808197\n",
      "  68.44808197  68.44808197  68.44808197  68.44808197  68.44808197\n",
      "  68.44808197  68.44808197  68.44808197  68.44808197  68.44808197\n",
      "  68.44808197  68.44808197  68.44808197  68.44808197  68.44808197\n",
      "  68.44808197]\n",
      "[ 0.99999999 85.72030529 87.67496699 87.68587263 87.68600118 87.6860012\n",
      " 87.6860012  87.6860012  87.6860012  87.6860012  87.6860012  87.6860012\n",
      " 87.6860012  87.6860012  87.6860012  87.6860012  87.6860012  87.6860012\n",
      " 87.6860012  87.6860012  87.6860012  87.6860012  87.6860012  87.6860012\n",
      " 87.6860012  87.6860012  87.6860012  87.6860012  87.6860012  87.6860012\n",
      " 87.6860012  87.6860012  87.6860012  87.6860012  87.6860012  87.6860012\n",
      " 87.6860012  87.6860012  87.6860012  87.6860012  87.6860012  87.6860012\n",
      " 87.6860012  87.6860012  87.6860012  87.6860012  87.6860012  87.6860012\n",
      " 87.6860012  87.6860012  87.6860012  87.6860012  87.6860012  87.6860012\n",
      " 87.6860012  87.6860012  87.6860012  87.6860012  87.6860012  87.6860012\n",
      " 87.6860012  87.6860012  87.6860012  87.6860012  87.6860012  87.6860012\n",
      " 87.6860012  87.6860012  87.6860012  87.6860012  87.6860012  87.6860012\n",
      " 87.6860012  87.6860012  87.6860012  87.6860012  87.6860012  87.6860012\n",
      " 87.6860012  87.6860012  87.6860012  87.6860012  87.6860012  87.6860012\n",
      " 87.6860012  87.6860012  87.6860012  87.6860012  87.6860012  87.6860012\n",
      " 87.6860012  87.6860012  87.6860012  87.6860012  87.6860012  87.6860012\n",
      " 87.6860012  87.6860012  87.6860012  87.6860012  87.6860012 ]\n",
      "3.042782622241244\n",
      "150.54599999724707\n",
      "150.54867961119928\n",
      "2.4018524246196513\n"
     ]
    }
   ],
   "source": [
    "print(tgas)\n",
    "print(er_his)\n",
    "print(er_his[1]**0.25)\n",
    "print(Prat*er_his[0]+tgas[0]/(5/3-1))\n",
    "print(Prat*er_his[num_file-1]+tgas[num_file-1]/(5/3-1))\n",
    "\n",
    "ntot_0=0\n",
    "for i in range(nfreq-1):\n",
    "    ntot_0=ntot_0+er_spec[0,i]*(np.pi**4/15.0)/nu_center[i]\n",
    "nnu2_last0=ConvertJNNu2Wein(er_spec[0,nfreq-1], nu_grid[nfreq-1], tgas[0])\n",
    "ntot_0=ntot_0+nnu2_last0\n",
    "print(ntot_0)"
   ]
  },
  {
   "cell_type": "code",
   "execution_count": 10,
   "metadata": {},
   "outputs": [
    {
     "name": "stdout",
     "output_type": "stream",
     "text": [
      "267034.7174408773 68.44808197021484 100.0\n"
     ]
    },
    {
     "name": "stderr",
     "output_type": "stream",
     "text": [
      "/var/folders/2n/ftypqy6s65s2j7krblnn49cw0000gq/T/ipykernel_75965/104872166.py:32: RuntimeWarning: overflow encountered in exp\n",
      "  exp_1=exp(nu_t)-1\n"
     ]
    }
   ],
   "source": [
    "Te=5.94065e9/1.e4\n",
    "tini=1\n",
    "ntot=integrate.quad(BlackBodyNnu2,0,inf,args=(tini,))[0]\n",
    "tfinal=tgas[num_file-1]\n",
    "nt3=ntot_0/tfinal**3\n",
    "if nt3>= 2.3739:\n",
    "    coef=1\n",
    "elif nt3 < 2.3739 and nt3 >= 0.6932:\n",
    "    coef=1.948*nt3**(-1.016)+0.1907\n",
    "else:\n",
    "    coef=(1+(1+nt3*0.25)**0.5)/nt3\n",
    "print(coef,tfinal,nu_grid[nfreq-1])"
   ]
  },
  {
   "cell_type": "code",
   "execution_count": 11,
   "metadata": {},
   "outputs": [
    {
     "name": "stdout",
     "output_type": "stream",
     "text": [
      "82.36282348632812 100.0\n",
      "2.4018524246196513 0.5022878959417099 2.270273752951898 82.36282348632812\n"
     ]
    }
   ],
   "source": [
    "ntot_i=0\n",
    "for i in range(nfreq-1):\n",
    "    ntot_i=ntot_i+er_spec[num_file-1,i]*(np.pi**4/15.0)/nu_center[i]\n",
    "    \n",
    "nnu2_last=ConvertJNNu2Wein(er_spec[num_file-1,nfreq-1], nu_grid[nfreq-1], tgas[num_file-1])\n",
    "print(er_spec[num_file-1,nfreq-1],nu_grid[nfreq-1])\n",
    "print(ntot_0,ntot_i,nnu2_last,er_spec[num_file-1,nfreq-1])"
   ]
  },
  {
   "cell_type": "code",
   "execution_count": 12,
   "metadata": {},
   "outputs": [
    {
     "name": "stderr",
     "output_type": "stream",
     "text": [
      "/var/folders/2n/ftypqy6s65s2j7krblnn49cw0000gq/T/ipykernel_75965/1464477926.py:5: RuntimeWarning: overflow encountered in exp\n",
      "  return (15.0/np.pi**4)*fre**3/(coef*exp(fre/tfinal)-1)\n"
     ]
    }
   ],
   "source": [
    "steady_sol=np.zeros(nfreq-1)\n",
    "for i in range(nfreq-1):\n",
    "    steady_sol[i]=(15.0/np.pi**4)*nu_center[i]**3/(coef*exp(nu_center[i]/tfinal)-1)\n",
    "def sol_fun(fre):\n",
    "    return (15.0/np.pi**4)*fre**3/(coef*exp(fre/tfinal)-1)\n",
    "integral_sol=np.zeros(nfreq)\n",
    "\n",
    "for i in range(nfreq-1):\n",
    "    integral_sol[i]=integrate.quad(sol_fun,nu_grid[i],nu_grid[i+1])[0]\n",
    "integral_sol[nfreq-1]=integrate.quad(sol_fun,nu_grid[nfreq-1],inf)[0]"
   ]
  },
  {
   "cell_type": "code",
   "execution_count": 13,
   "metadata": {},
   "outputs": [
    {
     "name": "stdout",
     "output_type": "stream",
     "text": [
      "0.009999999776482582\n"
     ]
    },
    {
     "data": {
      "image/png": "[encoded data removed]",
      "text/plain": [
       "<Figure size 432x288 with 1 Axes>"
      ]
     },
     "metadata": {
      "needs_background": "light"
     },
     "output_type": "display_data"
    }
   ],
   "source": [
    "plt.plot(nu_center,specific_spec[0,:])\n",
    "plt.plot(nu_center,specific_spec[num_file-1,:])\n",
    "plt.plot(nu_center,steady_sol)\n",
    "plt.xscale('log')\n",
    "plt.yscale('log')\n",
    "plt.ylim(1.e-10,1)\n",
    "print(time[num_file-1])"
   ]
  },
  {
   "cell_type": "code",
   "execution_count": 14,
   "metadata": {},
   "outputs": [
    {
     "data": {
      "text/plain": [
       "(1e-10, 120)"
      ]
     },
     "execution_count": 14,
     "metadata": {},
     "output_type": "execute_result"
    },
    {
     "data": {
      "image/png": "[encoded data removed]",
      "text/plain": [
       "<Figure size 432x288 with 1 Axes>"
      ]
     },
     "metadata": {
      "needs_background": "light"
     },
     "output_type": "display_data"
    }
   ],
   "source": [
    "plt.plot(nu_plot,er_spec[0,:])\n",
    "plt.plot(nu_plot,er_spec[1,:])\n",
    "plt.plot(nu_plot,integral_sol)\n",
    "plt.xscale('log')\n",
    "plt.yscale('log')\n",
    "plt.ylim(1.e-10,120)"
   ]
  },
  {
   "cell_type": "code",
   "execution_count": null,
   "metadata": {},
   "outputs": [],
   "source": [
    "ylabel='$J_{\\\\nu}$'\n",
    "filename='compton_thermalization.pdf'\n",
    "xlabel=\"$\\\\nu$\"\n",
    "label2='$t=0.005$'\n",
    "label3='$y=1$'\n",
    "label4='$y=10$'\n",
    "#print(histories[:,0])\n",
    "PlotProfile(nu_center,specific_spec[0,:],5.e-3, 120, 1.e-14, 1, ylabel, '$t=0$',filename, xlabel,logscale=1,\n",
    "            xlogscale=1,\n",
    "            datax2=nu_center,datay2=specific_spec[num_file-1,:], label2=label2,\n",
    "           datax2_2=nu_center,datay2_2=steady_sol,label2_2='$Analytical\\ \\ Solution$',leg_loc=(0.32,0.3))"
   ]
  },
  {
   "cell_type": "code",
   "execution_count": 16,
   "metadata": {},
   "outputs": [],
   "source": [
    "ylabel='$T_g,\\ E_r^{1/4}$'\n",
    "filename='energy_history.pdf'\n",
    "xlabel=\"$t$\"\n",
    "label2='$E_r^{1/4}$'\n",
    "label3='$y=1$'\n",
    "label4='$y=10$'\n",
    "#print(histories[:,0])\n",
    "PlotProfile(time,tgas,0, 1.e-3, 0.5, 110, ylabel, '$T_g$',filename, xlabel,logscale=1,\n",
    "            xlogscale=0,\n",
    "            datax2=time,datay2=er_his**0.25, label2=label2,leg_loc=(0.9,0.2))"
   ]
  },
  {
   "cell_type": "code",
   "execution_count": null,
   "metadata": {},
   "outputs": [],
   "source": []
  }
 ],
 "metadata": {
  "kernelspec": {
   "display_name": "Python 3 (ipykernel)",
   "language": "python",
   "name": "python3"
  },
  "language_info": {
   "codemirror_mode": {
    "name": "ipython",
    "version": 3
   },
   "file_extension": ".py",
   "mimetype": "text/x-python",
   "name": "python",
   "nbconvert_exporter": "python",
   "pygments_lexer": "ipython3",
   "version": "3.9.7"
  }
 },
 "nbformat": 4,
 "nbformat_minor": 4
}
