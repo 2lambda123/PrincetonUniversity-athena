{
 "cells": [
  {
   "cell_type": "code",
   "execution_count": 1,
   "metadata": {},
   "outputs": [
    {
     "name": "stderr",
     "output_type": "stream",
     "text": [
      "/var/folders/2n/ftypqy6s65s2j7krblnn49cw0000gq/T/ipykernel_57208/4017583853.py:28: MatplotlibDeprecationWarning: Support for setting the 'text.latex.preamble' or 'pgf.preamble' rcParam to a list of strings is deprecated since 3.3 and will be removed two minor releases later; set it to a single string instead.\n",
      "  plt.rcParams['text.latex.preamble'] = [r'\\usepackage{sfmath} \\boldmath']\n"
     ]
    }
   ],
   "source": [
    "import matplotlib\n",
    "matplotlib.use('Agg')\n",
    "%matplotlib inline\n",
    "import sys\n",
    "sys.settrace\n",
    "import numpy as np\n",
    "import matplotlib.pyplot as plt\n",
    "from matplotlib.colors import LogNorm\n",
    "from pylab import *\n",
    "import struct\n",
    "import array\n",
    "import os\n",
    "import glob\n",
    "import h5py\n",
    "from scipy.interpolate import griddata\n",
    "\n",
    "plt.rcParams.update({\n",
    "    \"text.usetex\": True,\n",
    "    \"font.family\": \"sans-serif\",\n",
    "    \"font.sans-serif\": [\"Helvetica\"]})\n",
    "# for Palatino and other serif fonts use:\n",
    "#plt.rcParams.update({\n",
    "#    \"text.usetex\": True,\n",
    "#    \"font.family\": \"serif\",\n",
    "#    \"font.serif\": [\"Palatino\"],\n",
    "#})\n",
    "\n",
    "plt.rcParams['text.latex.preamble'] = [r'\\usepackage{sfmath} \\boldmath']\n",
    "plt.rcParams['font.size'] = '20'\n",
    "\n",
    "from importlib import reload"
   ]
  },
  {
   "cell_type": "code",
   "execution_count": 2,
   "metadata": {},
   "outputs": [],
   "source": [
    "import athena_read"
   ]
  },
  {
   "cell_type": "code",
   "execution_count": 3,
   "metadata": {},
   "outputs": [],
   "source": [
    "#This is the integral of blackbody from 0 to nu_t (h\\nu/kT)\n",
    "def FitBlackBody(nu_t):\n",
    "    integral = 0.0;\n",
    "    nu_2 = nu_t * nu_t;\n",
    "    nu_3 = nu_t * nu_2;\n",
    "    nu_7 = nu_2 * nu_2 * nu_3\n",
    "    if nu_t < 1.8:\n",
    "        integral = 0.051329911273422 * nu_3 -0.019248716727533 * nu_t * nu_3 + 0.002566495563671 * nu_2 * nu_3\n",
    "        -3.055351861513195*1.e-5*nu_7\n",
    "    elif nu_t < 18.6:\n",
    "        exp_nu = exp(-nu_t);\n",
    "        integral = -0.156915538762850 * exp_nu * (nu_3 + 2.69 * nu_2 + 6.714 * nu_t) + 1.000009331428801*(1- exp_nu);\n",
    "    else:\n",
    "        integral = 1.0 - 192.1*exp(-0.9014*nu_t)\n",
    "\n",
    "    return integral;\n",
    "#This is the blackbody spectrum for each frequency nu_t (h\\nu/kT)\n",
    "def BlackBody(nu, tr):\n",
    "    nu_t=nu/tr\n",
    "    exp_1=exp(nu_t)-1\n",
    "    if nu_t < 1.e-5:\n",
    "      exp_1=tr**3.0*nu_t**2.0\n",
    "    else:\n",
    "      exp_1=nu**3.0/exp_1\n",
    "\n",
    "    spec=(15/np.pi**4.0)*exp_1\n",
    "\n",
    "    return spec;"
   ]
  },
  {
   "cell_type": "code",
   "execution_count": 4,
   "metadata": {},
   "outputs": [],
   "source": [
    "def PlotProfile(datax, datay, xmin, xmax, ymin, ymax,  ylabel, label1, filename, xlabel='$r/r_g$', logscale=0, \n",
    "                xlogscale=0, datax1_2=None, datay1_2=None, datay1_3=None, datax2=None, datay2=None, datax2_2=None, \n",
    "                datay2_2=None, datay2_3=None, datax3=None, datay3=None, datax3_2=None, datay3_2=None, datay3_3=None, \n",
    "                datax4=None, datay4=None, datax4_2=None, datay4_2=None, datax5=None, datay5=None, label2='', \n",
    "                label3='', label4='', label5='',title=None,leg_loc=None):\n",
    "    plots, axes = plt.subplots(figsize=(9,9),dpi=300)\n",
    "    plt.xlabel(xlabel, size = 30)\n",
    "    plt.ylabel(ylabel, size = 30)\n",
    "    plt.subplots_adjust(left=0.15,right=0.88,top=0.9,bottom=0.1)\n",
    "    plt.ylim([ymin,ymax])\n",
    "    plt.xlim([xmin,xmax])\n",
    "    if logscale > 0:\n",
    "      axes.set_yscale('log')\n",
    "    if xlogscale > 0:\n",
    "      axes.set_xscale('log')\n",
    "    if title is not None:\n",
    "      plt.title(title,size=20)\n",
    "\n",
    "    plt.plot(datax,datay,color='black',label=label1,linewidth=3.0)\n",
    "    if datay1_2 is not None:\n",
    "        if datax1_2 is not None:\n",
    "            plt.scatter(datax1_2,datay1_2,s=80,facecolors='none', edgecolors='black')\n",
    "        else:\n",
    "            plt.scatter(datax1,datay1_2,s=80,facecolors='none', edgecolors='black')    \n",
    "    if datay1_3 is not None:\n",
    "        plt.plot(datax,datay1_3,color='black',linestyle='dashed',linewidth=4.0)\n",
    "    if datay2 is not None:\n",
    "        plt.plot(datax2,datay2,color='red',label=label2,linewidth=3.0)\n",
    "    if datay2_2 is not None:\n",
    "        if datax2_2 is not None:\n",
    "            plt.scatter(datax2_2,datay2_2,s=80,facecolors='none', edgecolors='red')\n",
    "        else:\n",
    "            plt.scatter(datax2,datay2_2,s=80,facecolors='none', edgecolors='red')       \n",
    "    if datay2_3 is not None:\n",
    "        plt.plot(datax2,datay2_3,color='red',linestyle='dashed',linewidth=4.0)\n",
    "    if datay3 is not None:\n",
    "        plt.plot(datax3,datay3,color='green',label=label3,linewidth=3.0,linestyle='dashed')\n",
    "    if datay3_2 is not None:\n",
    "        if datax3_2 is not None:\n",
    "            plt.scatter(datax3_2,datay3_2,s=80,facecolors='none', edgecolors='green')\n",
    "        else:\n",
    "            plt.scatter(datax3_2,datay3_2,s=80,facecolors='none', edgecolors='green')          \n",
    "    if datay3_3 is not None:\n",
    "        plt.plot(datax3,datay3_3,color='green',linestyle='dashed',linewidth=4.0)\n",
    "    if datay4 is not None:\n",
    "        plt.plot(datax4,datay4,color='blue',label=label4,linewidth=3.0)\n",
    "        if datax4_2 is not None:\n",
    "            plt.scatter(datax4_2,datay4_2,s=80,facecolors='none', edgecolors='blue')\n",
    "        else:\n",
    "            plt.scatter(datax4,datay4_2,s=80,facecolors='none', edgecolors='blue')\n",
    "    if datay5 is not None:\n",
    "      plt.plot(datax5,datay5,color=tableau20[0],label=label5,linewidth=2.0) \n",
    "    if leg_loc is not None:\n",
    "      plt.legend(loc=\"best\",bbox_to_anchor=leg_loc,frameon=False)\n",
    "    axes.set_aspect('auto')\n",
    "#    axes.yaxis.set_tick_params(labelsize=25)\n",
    "#    axes.xaxis.set_tick_params(labelsize=25)\n",
    "    plt.savefig(filename)\n",
    "    plt.close(plots)\n"
   ]
  },
  {
   "cell_type": "code",
   "execution_count": 5,
   "metadata": {},
   "outputs": [],
   "source": [
    "files=sorted(glob.glob('Data/thermal*athdf'))\n",
    "num_file=len(files)"
   ]
  },
  {
   "cell_type": "code",
   "execution_count": 6,
   "metadata": {},
   "outputs": [],
   "source": [
    "#for filename in files:\n",
    "ang_file = open('Data/Rad_angles.txt', 'r')\n",
    "Lines = ang_file.readlines()\n",
    "angle_line = [ line for line in Lines if  \"tau_scheme\" in line]\n",
    "angle_line=angle_line[0]\n",
    "crat_line = [ line for line in Lines if  \"Crat\" in line]\n",
    "crat_line=crat_line[0]\n",
    "Crat_split=crat_line.split(\" \")\n",
    "Crat=float(Crat_split[size(Crat_split)-2])\n",
    "angle_index=Lines.index(angle_line)+1\n",
    "location=Lines.index('fre   spec\\n')\n",
    "tot_line=size(Lines)\n",
    "nfreq=tot_line-location-1\n",
    "nu_grid=np.zeros(nfreq)\n",
    "histories=np.zeros((num_file,52))\n",
    "for i in range(nfreq):\n",
    "    line=Lines[i+location+1].split(' ')[0]\n",
    "    nu_grid[i]=float(line)\n",
    "\n",
    "nu_center=np.zeros(nfreq-1)\n",
    "nu_center[:]=(nu_grid[:-1]+nu_grid[1:])/2\n",
    "\n",
    "#nu_center=np.append(nu_center,nu_grid[nfreq-1])\n",
    "nang=location-angle_index\n",
    "mu_x=np.zeros(nang)\n",
    "mu_y=np.zeros(nang)\n",
    "mu_z=np.zeros(nang)\n",
    "weight=np.zeros(nang)\n",
    "for n in range(nang):\n",
    "    line=Lines[n+angle_index].split('   ')\n",
    "    mu_x[n]=float(line[1])\n",
    "    mu_y[n]=float(line[2])\n",
    "    mu_z[n]=float(line[3])\n",
    "    weight[n]=float(line[4].rstrip())"
   ]
  },
  {
   "cell_type": "code",
   "execution_count": 7,
   "metadata": {},
   "outputs": [
    {
     "name": "stdout",
     "output_type": "stream",
     "text": [
      "['Data/thermal.out4.00000.athdf', 'Data/thermal.out4.00001.athdf', 'Data/thermal.out4.00010.athdf', 'Data/thermal.out4.00100.athdf', 'Data/thermal.out4.01000.athdf', 'Data/thermal.out4.10000.athdf']\n"
     ]
    }
   ],
   "source": [
    "print(files)"
   ]
  },
  {
   "cell_type": "code",
   "execution_count": 8,
   "metadata": {},
   "outputs": [],
   "source": [
    "Prat=0\n",
    "#Crat=8.0534e4\n",
    "count=0\n",
    "filename=files[0]\n",
    "with h5py.File(filename, 'r') as f:\n",
    "  attributes = f.attrs.items()\n",
    "  attrs = dict(attributes)\n",
    "  level = f.attrs['MaxLevel']\n",
    "  time = f.attrs['Time']\n",
    "  subsample = False\n",
    "\n",
    "data0 = athena_read.athdf(filename, level=level, subsample=subsample)\n",
    "\n",
    "filename=files[1]\n",
    "with h5py.File(filename, 'r') as f:\n",
    "  attributes = f.attrs.items()\n",
    "  attrs = dict(attributes)\n",
    "  level = f.attrs['MaxLevel']\n",
    "  time1 = f.attrs['Time']\n",
    "  subsample = False\n",
    "\n",
    "data1 = athena_read.athdf(filename, level=level, subsample=subsample)\n",
    "\n",
    "filename=files[2]\n",
    "with h5py.File(filename, 'r') as f:\n",
    "  attributes = f.attrs.items()\n",
    "  attrs = dict(attributes)\n",
    "  level = f.attrs['MaxLevel']\n",
    "  time2 = f.attrs['Time']\n",
    "  subsample = False\n",
    "\n",
    "data2 = athena_read.athdf(filename, level=level, subsample=subsample)\n",
    "\n",
    "filename=files[3]\n",
    "with h5py.File(filename, 'r') as f:\n",
    "  attributes = f.attrs.items()\n",
    "  attrs = dict(attributes)\n",
    "  level = f.attrs['MaxLevel']\n",
    "  time3 = f.attrs['Time']\n",
    "  subsample = False\n",
    "\n",
    "data3 = athena_read.athdf(filename, level=level, subsample=subsample)\n",
    "\n",
    "filename=files[4]\n",
    "with h5py.File(filename, 'r') as f:\n",
    "  attributes = f.attrs.items()\n",
    "  attrs = dict(attributes)\n",
    "  level = f.attrs['MaxLevel']\n",
    "  time4 = f.attrs['Time']\n",
    "  subsample = False\n",
    "\n",
    "data4 = athena_read.athdf(filename, level=level, subsample=subsample)\n",
    "\n",
    "filename=files[5]\n",
    "with h5py.File(filename, 'r') as f:\n",
    "  attributes = f.attrs.items()\n",
    "  attrs = dict(attributes)\n",
    "  level = f.attrs['MaxLevel']\n",
    "  time5 = f.attrs['Time']\n",
    "  subsample = False\n",
    "\n",
    "data5 = athena_read.athdf(filename, level=level, subsample=subsample)"
   ]
  },
  {
   "cell_type": "code",
   "execution_count": 9,
   "metadata": {},
   "outputs": [
    {
     "name": "stdout",
     "output_type": "stream",
     "text": [
      "0.015491932863369584 0.10069756768643856 1.006975695490837 10.000042915344238 100.0\n",
      "0.0015491933 0.010069757 0.10069757 1.0000043 10.0\n"
     ]
    }
   ],
   "source": [
    "Te=100\n",
    "sigma=100\n",
    "crat=10\n",
    "tgas=1\n",
    "x0=0.96703607216555554\n",
    "nu0=x0*tgas\n",
    "#the y parameter (\\rho\\kappa cT/T_e)t\n",
    "y0=0\n",
    "y1=time1*sigma*crat*tgas/Te\n",
    "y2=time2*sigma*crat*tgas/Te\n",
    "y3=time3*sigma*crat*tgas/Te\n",
    "y4=time4*sigma*crat*tgas/Te\n",
    "y5=time5*sigma*crat*tgas/Te\n",
    "print(y1,y2,y3,y4,y5)\n",
    "print(time1,time2,time3,time4,time5)"
   ]
  },
  {
   "cell_type": "code",
   "execution_count": 10,
   "metadata": {},
   "outputs": [
    {
     "name": "stdout",
     "output_type": "stream",
     "text": [
      "0.015491932863369584 0.10069756768643856 1.006975695490837 10.000042915344238 100.0\n",
      "1.0001983882030088 1.000198840580471 1.0001946525007508\n"
     ]
    }
   ],
   "source": [
    "print(y1,y2,y3,y4,y5)\n",
    "sol_y_001=np.loadtxt('solution_y_001.txt')\n",
    "sol_y_01=np.loadtxt('solution_y_01.txt')\n",
    "sol_y_1=np.loadtxt('solution_y_1.txt')\n",
    "sol_y_10=np.loadtxt('solution_y_10.txt')\n",
    "sol_y_100=np.loadtxt('solution_y_100.txt')\n",
    "fre=sol_y_001[:,0]\n",
    "nsol_y_001=sol_y_001[:,1]*np.pi**4.0/(15.0*fre**3)\n",
    "nsol_y_01=sol_y_01[:,1]*np.pi**4.0/(15.0*fre**3)\n",
    "nsol_y_10=sol_y_10[:,1]*np.pi**4.0/(15.0*fre**3)\n",
    "nu_ratio=np.exp(log(30/0.03)/200)\n",
    "dnu_rat=0.5*nu_ratio-0.5/nu_ratio\n",
    "dnu=dnu_rat*fre\n",
    "nnusq_001=np.sum(nsol_y_001*fre**2*dnu)\n",
    "nnusq_01=np.sum(nsol_y_01*fre**2*dnu)\n",
    "nnusq_10=np.sum(nsol_y_10*fre**2*dnu)\n",
    "print(nnusq_001,nnusq_01,nnusq_10)"
   ]
  },
  {
   "cell_type": "code",
   "execution_count": 11,
   "metadata": {},
   "outputs": [],
   "source": [
    "x1v=data0['x1v']\n",
    "\n",
    "Er_spec0=np.zeros(nfreq-1)\n",
    "Er_spec1=np.zeros(nfreq-1)\n",
    "Er_spec2=np.zeros(nfreq-1)\n",
    "Er_spec3=np.zeros(nfreq-1)\n",
    "Er_spec4=np.zeros(nfreq-1)\n",
    "Er_spec5=np.zeros(nfreq-1)\n",
    "\n",
    "n_photon0=np.zeros(nfreq-1)\n",
    "n_photon1=np.zeros(nfreq-1)\n",
    "n_photon2=np.zeros(nfreq-1)\n",
    "n_photon3=np.zeros(nfreq-1)\n",
    "n_photon4=np.zeros(nfreq-1)\n",
    "n_photon5=np.zeros(nfreq-1)\n",
    "\n",
    "for i in range(nfreq-1):\n",
    "    varname='Er_'+str(i)\n",
    "    Er_spec0[i]=np.mean(data0[varname][0,0,:])/(nu_grid[i+1]-nu_grid[i])\n",
    "    n_photon0[i]=Er_spec0[i]*(np.pi**4.0/15.0)*(nu_grid[i+1]-nu_grid[i])/nu_center[i]\n",
    "    Er_spec1[i]=np.mean(data1[varname][0,0,:])/(nu_grid[i+1]-nu_grid[i])\n",
    "    n_photon1[i]=Er_spec1[i]*(np.pi**4.0/15.0)*(nu_grid[i+1]-nu_grid[i])/nu_center[i]\n",
    "    Er_spec2[i]=np.mean(data2[varname][0,0,:])/(nu_grid[i+1]-nu_grid[i])\n",
    "    n_photon2[i]=Er_spec2[i]*(np.pi**4.0/15.0)*(nu_grid[i+1]-nu_grid[i])/nu_center[i]\n",
    "    Er_spec3[i]=np.mean(data3[varname][0,0,:])/(nu_grid[i+1]-nu_grid[i])\n",
    "    n_photon3[i]=Er_spec3[i]*(np.pi**4.0/15.0)*(nu_grid[i+1]-nu_grid[i])/nu_center[i]\n",
    "    Er_spec4[i]=np.mean(data4[varname][0,0,:])/(nu_grid[i+1]-nu_grid[i])\n",
    "    n_photon4[i]=Er_spec4[i]*(np.pi**4.0/15.0)*(nu_grid[i+1]-nu_grid[i])/nu_center[i]\n",
    "    Er_spec5[i]=np.mean(data5[varname][0,0,:])/(nu_grid[i+1]-nu_grid[i])\n",
    "    n_photon5[i]=Er_spec5[i]*(np.pi**4.0/15.0)*(nu_grid[i+1]-nu_grid[i])/nu_center[i]"
   ]
  },
  {
   "cell_type": "code",
   "execution_count": 12,
   "metadata": {},
   "outputs": [],
   "source": [
    "norm=nnusq_001/sum(n_photon0)\n",
    "norm_Er_spec0=Er_spec0*norm\n",
    "norm_Er_spec1=Er_spec1*norm\n",
    "norm_Er_spec2=Er_spec2*norm\n",
    "norm_Er_spec3=Er_spec3*norm\n",
    "norm_Er_spec4=Er_spec4*norm\n",
    "norm_Er_spec5=Er_spec5*norm"
   ]
  },
  {
   "cell_type": "code",
   "execution_count": 13,
   "metadata": {},
   "outputs": [
    {
     "data": {
      "text/plain": [
       "(1e-09, 100)"
      ]
     },
     "execution_count": 13,
     "metadata": {},
     "output_type": "execute_result"
    },
    {
     "data": {
      "image/png": "[encoded data removed]",
      "text/plain": [
       "<Figure size 432x288 with 1 Axes>"
      ]
     },
     "metadata": {
      "needs_background": "light"
     },
     "output_type": "display_data"
    }
   ],
   "source": [
    "plt.plot(nu_center,Er_spec0)\n",
    "plt.plot(nu_center,Er_spec1)\n",
    "plt.plot(nu_center,Er_spec2)\n",
    "plt.plot(nu_center,Er_spec3)\n",
    "plt.plot(nu_center,Er_spec4)\n",
    "#plt.plot(nu_center,Er_spec5)\n",
    "plt.xscale('log')\n",
    "plt.xlim(0.02,30)\n",
    "plt.yscale('log')\n",
    "plt.ylim(1.e-9,100)"
   ]
  },
  {
   "cell_type": "code",
   "execution_count": 14,
   "metadata": {},
   "outputs": [
    {
     "data": {
      "text/plain": [
       "(1e-09, 100)"
      ]
     },
     "execution_count": 14,
     "metadata": {},
     "output_type": "execute_result"
    },
    {
     "data": {
      "image/png": "[encoded data removed]",
      "text/plain": [
       "<Figure size 432x288 with 1 Axes>"
      ]
     },
     "metadata": {
      "needs_background": "light"
     },
     "output_type": "display_data"
    }
   ],
   "source": [
    "plt.plot(nu_center,Er_spec4)\n",
    "plt.plot(nu_center,Er_spec5)\n",
    "plt.xscale('log')\n",
    "plt.xlim(0.02,30)\n",
    "plt.yscale('log')\n",
    "plt.ylim(1.e-9,100)"
   ]
  },
  {
   "cell_type": "code",
   "execution_count": 15,
   "metadata": {},
   "outputs": [
    {
     "data": {
      "text/plain": [
       "(1e-09, 10)"
      ]
     },
     "execution_count": 15,
     "metadata": {},
     "output_type": "execute_result"
    },
    {
     "data": {
      "image/png": "[encoded data removed]",
      "text/plain": [
       "<Figure size 432x288 with 1 Axes>"
      ]
     },
     "metadata": {
      "needs_background": "light"
     },
     "output_type": "display_data"
    }
   ],
   "source": [
    "#plt.plot(sol_y_001[:,0],sol_y_001[:,1])\n",
    "plt.plot(sol_y_1[:,0],sol_y_1[:,1])\n",
    "plt.plot(nu_center,norm_Er_spec3)\n",
    "plt.xscale('log')\n",
    "plt.xlim(0.02,30)\n",
    "plt.yscale('log')\n",
    "plt.ylim(1.e-9,10)"
   ]
  },
  {
   "cell_type": "markdown",
   "metadata": {},
   "source": [
    "#### plot(nu_center,Er_spec)\n",
    "plt.plot(nu_center,Er_spec0)\n",
    "plt.plot(nu_center,Er_spec1)\n",
    "plt.plot(nu_center,Er_spec2)\n",
    "plt.plot(nu_center,Er_spec3)\n",
    "plt.xscale(\"log\")\n",
    "plt.yscale(\"log\")"
   ]
  },
  {
   "cell_type": "code",
   "execution_count": 17,
   "metadata": {},
   "outputs": [],
   "source": [
    "ylabel='$E_r(\\\\tilde{\\\\nu})$'\n",
    "filename='compton_spectrum_delta.pdf'\n",
    "xlabel=\"$\\\\tilde{\\\\nu}$\"\n",
    "label2='$y=0.1$'\n",
    "label3='$y=1$'\n",
    "label4='$y=10$'\n",
    "#print(histories[:,0])\n",
    "PlotProfile(sol_y_001[:,0],sol_y_001[:,1],1.e-2, 1.e2, 1.e-9, 1, ylabel, '$y=0.01$',filename, xlabel,logscale=1,\n",
    "            xlogscale=1,datax1_2=nu_center, datay1_2=norm_Er_spec1,\n",
    "            datax2=sol_y_01[:,0],datay2=sol_y_01[:,1], \n",
    "           datax2_2=nu_center,datay2_2=norm_Er_spec2,label2=label2,datax3=sol_y_1[:,0],datay3=sol_y_1[:,1],\n",
    "           datax3_2=nu_center,datay3_2=norm_Er_spec3,label3=label3,\n",
    "           datax4=sol_y_10[:,0],datay4=sol_y_10[:,1],datax4_2=nu_center,datay4_2=norm_Er_spec4,\n",
    "           label4=label4, leg_loc=(0.36,0.98))"
   ]
  },
  {
   "cell_type": "code",
   "execution_count": 26,
   "metadata": {},
   "outputs": [
    {
     "data": {
      "text/plain": [
       "2.7521655559539795"
      ]
     },
     "execution_count": 26,
     "metadata": {},
     "output_type": "execute_result"
    }
   ],
   "source": []
  },
  {
   "cell_type": "code",
   "execution_count": null,
   "metadata": {},
   "outputs": [],
   "source": []
  }
 ],
 "metadata": {
  "kernelspec": {
   "display_name": "Python 3 (ipykernel)",
   "language": "python",
   "name": "python3"
  },
  "language_info": {
   "codemirror_mode": {
    "name": "ipython",
    "version": 3
   },
   "file_extension": ".py",
   "mimetype": "text/x-python",
   "name": "python",
   "nbconvert_exporter": "python",
   "pygments_lexer": "ipython3",
   "version": "3.9.7"
  }
 },
 "nbformat": 4,
 "nbformat_minor": 4
}
