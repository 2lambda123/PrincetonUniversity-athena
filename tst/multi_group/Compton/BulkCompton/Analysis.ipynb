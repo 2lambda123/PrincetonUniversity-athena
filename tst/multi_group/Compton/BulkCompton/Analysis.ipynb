{
 "cells": [
  {
   "cell_type": "code",
   "execution_count": 127,
   "metadata": {},
   "outputs": [
    {
     "name": "stderr",
     "output_type": "stream",
     "text": [
      "/var/folders/2n/ftypqy6s65s2j7krblnn49cw0000gq/T/ipykernel_12840/1872933674.py:48: MatplotlibDeprecationWarning: Support for setting the 'text.latex.preamble' or 'pgf.preamble' rcParam to a list of strings is deprecated since 3.3 and will be removed two minor releases later; set it to a single string instead.\n",
      "  plt.rcParams['text.latex.preamble'] = [r'\\usepackage{sfmath} \\boldmath']\n"
     ]
    }
   ],
   "source": [
    "import matplotlib\n",
    "matplotlib.use('Agg')\n",
    "%matplotlib inline\n",
    "import matplotlib.colors as colors\n",
    "import sys\n",
    "sys.settrace\n",
    "import numpy as np\n",
    "import matplotlib.pyplot as plt\n",
    "from matplotlib.colors import LogNorm\n",
    "from pylab import *\n",
    "import struct\n",
    "import array\n",
    "import os\n",
    "import glob\n",
    "import h5py\n",
    "from scipy.interpolate import griddata\n",
    "import scipy.integrate as integrate\n",
    "from scipy.optimize import curve_fit\n",
    "\n",
    "\n",
    "#import matplotlib as mpl\n",
    "#mpl.use(\"pgf\")\n",
    "#pgf_with_custom_preamble = {\n",
    "#    \"font.family\": \"serif\", # use serif/main font for text elements\n",
    "#    \"text.usetex\": True,    # use inline math for ticks\n",
    "#    \"pgf.rcfonts\": False,   # don't setup fonts from rc parameters\n",
    "#    \"pgf.preamble\": [\n",
    "#         r\"\\usepackage{units}\",         # load additional packages\n",
    "#         r\"\\usepackage{metalogo}\",\n",
    "#         r\"\\usepackage{unicode-math}\",  # unicode math setup\n",
    "#         r\"\\setmathfont{xits-math.otf}\",\n",
    "#         r\"\\setmainfont{DejaVu Serif}\", # serif font via preamble\n",
    "#         r\"\\usepackage{sfmath} \\boldmath\",\n",
    "#         ]\n",
    "#}\n",
    "\n",
    "plt.rcParams.update({\n",
    "    \"text.usetex\": True,\n",
    "    \"font.family\": \"serif\",\n",
    "    \"font.sans-serif\": [\"DejaVu Serif\"]})\n",
    "# for Palatino and other serif fonts use:\n",
    "#plt.rcParams.update({\n",
    "#    \"text.usetex\": True,\n",
    "#    \"font.family\": \"serif\",\n",
    "#    \"font.serif\": [\"Palatino\"],\n",
    "#})\n",
    "\n",
    "plt.rcParams['text.latex.preamble'] = [r'\\usepackage{sfmath} \\boldmath']\n",
    "plt.rcParams['font.size'] = '20'\n",
    "\n",
    "from importlib import reload"
   ]
  },
  {
   "cell_type": "code",
   "execution_count": 2,
   "metadata": {},
   "outputs": [],
   "source": [
    "import athena_read"
   ]
  },
  {
   "cell_type": "code",
   "execution_count": 47,
   "metadata": {},
   "outputs": [],
   "source": [
    "#This is the integral of blackbody from 0 to nu_t (h\\nu/kT)\n",
    "def FitBlackBody(nu_t):\n",
    "    integral = 0.0;\n",
    "    nu_2 = nu_t * nu_t;\n",
    "    nu_3 = nu_t * nu_2;\n",
    "    nu_7 = nu_2 * nu_2 * nu_3\n",
    "    if nu_t < 1.8:\n",
    "        integral = 0.051329911273422 * nu_3 -0.019248716727533 * nu_t * nu_3 + 0.002566495563671 * nu_2 * nu_3\n",
    "        -3.055351861513195*1.e-5*nu_7\n",
    "    elif nu_t < 18.6:\n",
    "        exp_nu = exp(-nu_t);\n",
    "        integral = -0.156915538762850 * exp_nu * (nu_3 + 2.69 * nu_2 + 6.714 * nu_t) + 1.000009331428801*(1- exp_nu);\n",
    "    else:\n",
    "        integral = 1.0 - 192.1*exp(-0.9014*nu_t)\n",
    "\n",
    "    return integral;\n",
    "#This is the blackbody spectrum for each frequency nu_t (h\\nu/kT)\n",
    "def BlackBody(nu, tr):\n",
    "    nu_t=nu/tr\n",
    "    exp_1=exp(nu_t)-1\n",
    "    if nu_t < 1.e-5:\n",
    "      exp_1=tr**3.0*nu_t**2.0\n",
    "    else:\n",
    "      exp_1=nu**3.0/exp_1\n",
    "\n",
    "    spec=(15/np.pi**4.0)*exp_1\n",
    "\n",
    "    return spec;\n",
    "def BESpectrum(totn,nu, tr):\n",
    "    nu_t=nu/tr\n",
    "    exp_1=totn*exp(nu_t)-1\n",
    "    exp_1=nu**3.0/exp_1\n",
    "\n",
    "    spec=(15/np.pi**4.0)*exp_1\n",
    "\n",
    "    return spec;\n",
    "\n",
    "def BlackBodyNnu2(nu, tr):\n",
    "    nu_t=nu/tr\n",
    "    exp_1=exp(nu_t)-1\n",
    "    if nu_t < 1.e-5:\n",
    "        exp_1=tr**2.0*(nu_t-0.5*nu_t**2.0)\n",
    "    else:\n",
    "        exp_1=1/exp_1\n",
    "\n",
    "    spec=exp_1\n",
    "\n",
    "    return spec;\n",
    "def ConvertJNNu2(bbj, nu_f):\n",
    "    jnu4=bbj/nu_f**4\n",
    "    log_jnu4=log10(jnu4)\n",
    "    log_nnu2=1\n",
    "    if log_jnu4 < -3.99793:\n",
    "        log_nnu2 = 0.9971*log_jnu4+0.7464\n",
    "    elif log_jnu4 >= -3.99793 and log_jnu4 < 2.73043:\n",
    "        jsq = log_jnu4*log_jnu4\n",
    "        log_nnu2 = 0.0003484*jsq*jsq+0.002327*jsq*log_jnu4-0.02137*jsq+0.8037*log_jnu4+0.3249\n",
    "    else:\n",
    "        log_nnu2 = 0.7506*log_jnu4+0.3773\n",
    "    nnu2 = 10.0**log_nnu2*nu_f*nu_f*nu_f\n",
    "    return nnu2\n",
    "def ConvertJNNu2Wein(bbj, nu_f, tgas):\n",
    "    nu_t=nu_f/tgas\n",
    "    n_coef = 2.0+2.0*nu_t+nu_t*nu_t\n",
    "    j_coef = 6.0+6.0*nu_t+3.0*nu_t*nu_t+nu_t*nu_t*nu_t\n",
    "    nnu2 = bbj*np.pi**4.0*n_coef/(15.0*tgas*j_coef)\n",
    "    return nnu2"
   ]
  },
  {
   "cell_type": "code",
   "execution_count": 166,
   "metadata": {},
   "outputs": [],
   "source": [
    "def MakeImages(data, minval, maxval, xmin, xmax, ymin, ymax,\n",
    "               xgrid,ygrid,label,xlabel,ylabel,outputname,time=None,logscale=1,\n",
    "               cmap='jet'):\n",
    "    plots, axes = plt.subplots(1,1,figsize=(10,3.5),dpi=300, sharex=True)\n",
    "    plt.subplots_adjust(left=0.1,right=0.85,top=0.98,bottom=0.1,hspace=0.0)\n",
    "\n",
    "\n",
    "#    plt.xlabel('$ x$', size = 30)\n",
    "#    plt.ylabel('$ y$', size = 30)      \n",
    "\n",
    "    if time is not None:\n",
    "        plt.title(time,size=30,y=1.02)\n",
    "\n",
    "        \n",
    "    if logscale > 0:\n",
    "#      im = axes.imshow(data_cart,cmap='RdGy_r', norm=LogNorm(vmin = minval, vmax=maxval), \n",
    "        im = axes.imshow(data,cmap=cmap, norm=colors.SymLogNorm(vmin = minval, vmax=maxval, linthresh=0.001, \n",
    "                                                    linscale=0.001), origin='lower', extent=[xmin,xmax,ymin,ymax])\n",
    "    else:\n",
    "        im = axes.imshow(data,cmap=cmap, vmin = minval, vmax=maxval,origin='lower', extent=[xmin,xmax,ymin,ymax])   \n",
    "\n",
    "#    axes.set_yticks([-1,0,1,2,3]) \n",
    "    axes.tick_params(labelsize=20)\n",
    "#    axes[0].set_ylabel('$E_r$',size=30)\n",
    "\n",
    "    axes.set_xlabel(xlabel,size=30)\n",
    "    axes.set_ylabel(ylabel,size=30)\n",
    "\n",
    "    cbaxes = plots.add_axes([0.86,0.28,0.03,0.45])\n",
    "\n",
    "    cbar=plots.colorbar(im,cax=cbaxes,ticks=[-1, 0.001, 0.01, 0.1, 1])\n",
    "    cbar.set_label(label, size=30)\n",
    "#    cbar.ax.set_yticklabels([0,100,200,300,400])\n",
    "    cbar.ax.tick_params(labelsize=15)\n",
    "    \n",
    "    \n",
    "\n",
    "#    axes.set_aspect('auto')\n",
    "    plt.savefig(outputname)\n",
    "    plt.close(plots)\n",
    "\n"
   ]
  },
  {
   "cell_type": "code",
   "execution_count": 4,
   "metadata": {},
   "outputs": [],
   "source": [
    "def PlotProfile(datax, datay, xmin, xmax, ymin, ymax,  ylabel, label1, filename, xlabel='$r/r_g$', logscale=0, \n",
    "                xlogscale=0, datax1_2=None, datay1_2=None, datay1_3=None, datax2=None, datay2=None, datax2_2=None, \n",
    "                datay2_2=None, datay2_3=None, datax3=None, datay3=None, datax3_2=None, datay3_2=None, datay3_3=None, \n",
    "                datax4=None, datay4=None, datax4_2=None, datay4_2=None, datax5=None, datay5=None, label2='', \n",
    "                label3='', label4='', label5='',title=None,leg_loc=None):\n",
    "    plots, axes = plt.subplots(figsize=(9,9),dpi=300)\n",
    "    plt.xlabel(xlabel, size = 30)\n",
    "    plt.ylabel(ylabel, size = 30)\n",
    "    plt.subplots_adjust(left=0.15,right=0.88,top=0.9,bottom=0.1)\n",
    "    plt.ylim([ymin,ymax])\n",
    "    plt.xlim([xmin,xmax])\n",
    "    if logscale > 0:\n",
    "      axes.set_yscale('log')\n",
    "    if xlogscale > 0:\n",
    "      axes.set_xscale('log')\n",
    "    if title is not None:\n",
    "      plt.title(title,size=20)\n",
    "\n",
    "    plt.plot(datax,datay,color='black',label=label1,linewidth=3.0,marker='o',mfc='none',ms=8)\n",
    "    if datay1_2 is not None:\n",
    "        if datax1_2 is not None:\n",
    "            plt.scatter(datax1_2,datay1_2,s=80,facecolors='none', edgecolors='black')\n",
    "        else:\n",
    "            plt.scatter(datax1,datay1_2,s=80,facecolors='none', edgecolors='black')    \n",
    "    if datay1_3 is not None:\n",
    "        plt.plot(datax,datay1_3,color='black',linestyle='dashed',linewidth=4.0)\n",
    "    if datay2 is not None:\n",
    "        plt.plot(datax2,datay2,color='red',label=label2,linewidth=3.0,marker='o',mfc='none',ms=8)\n",
    "    if datay2_2 is not None:\n",
    "        if datax2_2 is not None:\n",
    "            plt.scatter(datax2_2,datay2_2,s=80,facecolors='none', edgecolors='red')\n",
    "        else:\n",
    "            plt.scatter(datax2,datay2_2,s=80,facecolors='none', edgecolors='red')       \n",
    "    if datay2_3 is not None:\n",
    "        plt.plot(datax2,datay2_3,color='red',linestyle='dashed',linewidth=4.0)\n",
    "    if datay3 is not None:\n",
    "        plt.plot(datax3,datay3,color='green',label=label3,linewidth=3.0,linestyle='dashed')\n",
    "    if datay3_2 is not None:\n",
    "        if datax3_2 is not None:\n",
    "            plt.scatter(datax3_2,datay3_2,s=80,facecolors='none', edgecolors='green')\n",
    "        else:\n",
    "            plt.scatter(datax3_2,datay3_2,s=80,facecolors='none', edgecolors='green')          \n",
    "    if datay3_3 is not None:\n",
    "        plt.plot(datax3,datay3_3,color='green',linestyle='dashed',linewidth=4.0)\n",
    "    if datay4 is not None:\n",
    "        plt.plot(datax4,datay4,color='blue',label=label4,linewidth=3.0)\n",
    "        if datax4_2 is not None:\n",
    "            plt.scatter(datax4_2,datay4_2,s=80,facecolors='none', edgecolors='blue')\n",
    "        else:\n",
    "            plt.scatter(datax4,datay4_2,s=80,facecolors='none', edgecolors='blue')\n",
    "    if datay5 is not None:\n",
    "      plt.plot(datax5,datay5,color=tableau20[0],label=label5,linewidth=2.0) \n",
    "    if leg_loc is not None:\n",
    "      plt.legend(loc=\"best\",bbox_to_anchor=leg_loc,frameon=False)\n",
    "    axes.set_aspect('auto')\n",
    "#    axes.yaxis.set_tick_params(labelsize=25)\n",
    "#    axes.xaxis.set_tick_params(labelsize=25)\n",
    "    plt.savefig(filename)\n",
    "    plt.close(plots)\n",
    "\n"
   ]
  },
  {
   "cell_type": "code",
   "execution_count": 5,
   "metadata": {},
   "outputs": [],
   "source": [
    "files=sorted(glob.glob('Data_v3.e2/thermal*athdf'))\n",
    "num_file=len(files)"
   ]
  },
  {
   "cell_type": "code",
   "execution_count": 6,
   "metadata": {},
   "outputs": [],
   "source": [
    "#for filename in files:\n",
    "ang_file = open('Data_v3.e2/Rad_angles.txt', 'r')\n",
    "Lines = ang_file.readlines()\n",
    "angle_line = [ line for line in Lines if  \"nu_max\" in line]\n",
    "angle_line=angle_line[0]\n",
    "\n",
    "prat_line = [ line for line in Lines if  \"Prat\" in line]\n",
    "prat_line=prat_line[0]\n",
    "prat_split=prat_line.split(\" \")\n",
    "Prat=float(prat_split[size(prat_split)-2])\n",
    "\n",
    "\n",
    "crat_line = [ line for line in Lines if  \"Crat\" in line]\n",
    "crat_line=crat_line[0]\n",
    "Crat_split=crat_line.split(\" \")\n",
    "Crat=float(Crat_split[size(Crat_split)-2])\n",
    "\n",
    "\n",
    "angle_index=Lines.index(angle_line)+1\n",
    "location=Lines.index('fre   spec\\n')\n",
    "tot_line=size(Lines)\n",
    "nfreq=tot_line-location-1\n",
    "nu_grid=np.zeros(nfreq)\n",
    "histories=np.zeros((num_file,52))\n",
    "for i in range(nfreq):\n",
    "    line=Lines[i+location+1].split(' ')[0]\n",
    "    nu_grid[i]=float(line)\n",
    "\n",
    "nu_center=np.zeros(nfreq-1)\n",
    "nu_center[:]=(nu_grid[:-1]+nu_grid[1:])/2\n",
    "\n",
    "nu_plot=np.zeros(nfreq)\n",
    "nu_plot[:-1]=nu_center\n",
    "nu_plot[nfreq-1]=nu_grid[nfreq-1]\n",
    "\n",
    "#nu_center=np.append(nu_center,nu_grid[nfreq-1])\n",
    "nang=location-angle_index\n",
    "mu_x=np.zeros(nang)\n",
    "mu_y=np.zeros(nang)\n",
    "mu_z=np.zeros(nang)\n",
    "weight=np.zeros(nang)\n",
    "for n in range(nang):\n",
    "    line=Lines[n+angle_index].split('   ')\n",
    "    mu_x[n]=float(line[1])\n",
    "    mu_y[n]=float(line[2])\n",
    "    mu_z[n]=float(line[3])\n",
    "    weight[n]=float(line[4].rstrip())"
   ]
  },
  {
   "cell_type": "code",
   "execution_count": 213,
   "metadata": {},
   "outputs": [],
   "source": [
    "tgas=np.zeros(num_file)\n",
    "er_spec=np.zeros((num_file,nfreq))\n",
    "specific_spec=np.zeros((num_file,nfreq-1))\n",
    "data_time=np.zeros(num_file)\n",
    "er_his=np.zeros(num_file)"
   ]
  },
  {
   "cell_type": "code",
   "execution_count": 214,
   "metadata": {},
   "outputs": [],
   "source": [
    "for i in range(num_file):\n",
    "    filename=files[i]\n",
    "    with h5py.File(filename, 'r') as f:\n",
    "        attributes = f.attrs.items()\n",
    "        attrs = dict(attributes)\n",
    "        level = f.attrs['MaxLevel']\n",
    "        data_time[i] = f.attrs['Time']\n",
    "        subsample = False\n",
    "    data = athena_read.athdf(filename, level=level, subsample=subsample)\n",
    "    if i == 0:\n",
    "        vel=data['vel1']\n",
    "    tgas[i]=np.mean(data['press'][0,0,:]/data['rho'][0,0,:])\n",
    "    er_his[i]=0.0\n",
    "    for j in range(nfreq):\n",
    "        varname='Er_'+str(j)\n",
    "        er_spec[i,j]=np.mean(data[varname][0,0,:])\n",
    "        er_his[i] = er_his[i] + er_spec[i,j]\n",
    "    for j in range(nfreq-1):\n",
    "        specific_spec[i,j]= er_spec[i,j]/(nu_grid[j+1]-nu_grid[j])"
   ]
  },
  {
   "cell_type": "code",
   "execution_count": 211,
   "metadata": {},
   "outputs": [
    {
     "name": "stdout",
     "output_type": "stream",
     "text": [
      "[1. 1. 1. 1. 1. 1. 1. 1. 1. 1. 1. 1. 1. 1. 1. 1. 1. 1. 1. 1. 1. 1. 1. 1.\n",
      " 1. 1. 1. 1. 1. 1. 1. 1. 1. 1. 1. 1. 1. 1. 1. 1. 1. 1. 1. 1. 1. 1. 1. 1.\n",
      " 1. 1. 1. 1. 1. 1. 1. 1. 1. 1. 1. 1. 1. 1. 1. 1. 1. 1. 1. 1. 1. 1. 1. 1.\n",
      " 1. 1. 1. 1. 1. 1. 1. 1. 1. 1. 1. 1. 1. 1. 1. 1. 1. 1. 1. 1. 1. 1. 1. 1.\n",
      " 1. 1. 1. 1. 1. 1. 1. 1. 1. 1. 1. 1. 1. 1. 1. 1. 1. 1. 1. 1. 1. 1. 1. 1.\n",
      " 1. 1. 1. 1. 1. 1. 1. 1. 1. 1. 1. 1. 1. 1. 1. 1. 1. 1. 1. 1. 1. 1. 1. 1.\n",
      " 1. 1. 1. 1. 1. 1. 1. 1. 1. 1. 1. 1. 1. 1. 1. 1. 1. 1. 1. 1. 1. 1. 1. 1.\n",
      " 1. 1. 1. 1. 1. 1. 1. 1. 1. 1. 1. 1. 1. 1. 1. 1. 1. 1. 1. 1. 1. 1. 1. 1.\n",
      " 1. 1. 1. 1. 1. 1. 1. 1. 1.]\n",
      "[ 1.          1.99938999  3.74732466  6.3383606   9.55680046 12.99735395\n",
      " 16.27805059 19.15625602 21.52929112 23.39634379 24.81046278 25.84767804\n",
      " 26.58526922 27.09310148 27.42891516 27.6386539  27.75731098 27.81107434\n",
      " 27.81905828 27.79505164 27.74888194 27.68745524 27.61563291 27.53675748\n",
      " 27.4531807  27.36647579 27.27776594 27.18777356 27.09703756 27.00587535\n",
      " 26.91455038 26.82319416 26.73194263 26.64083756 26.54995789 26.4593052\n",
      " 26.36893218 26.27882273 26.18901362 26.09948572 26.01026754 25.92133468\n",
      " 25.83271444 25.74439574 25.65636189 25.56864218 25.48120802 25.39408666\n",
      " 25.30724762 25.22071989 25.13447357 25.04853581 24.96287902 24.87752797\n",
      " 24.79245589 24.70768806 24.62319592 24.53900748 24.45509139 24.37147798\n",
      " 24.28813525 24.20509107 24.12231733 24.03983986 23.9576323  23.87571942\n",
      " 23.79407228 23.71271642 23.63162668 23.55082731 23.47029124 23.39004364\n",
      " 23.3100572  23.23035734 23.15091698 23.07176163 22.9928641  22.91424813\n",
      " 22.83588902 22.75780988 22.6799865  22.60244029 22.5251479  22.44813155\n",
      " 22.37137811 22.29487564 22.21864673 22.14266634 22.06695814 21.99149682\n",
      " 21.9163051  21.84135952 21.76668043 21.69224569 21.61807717 21.54415061\n",
      " 21.47048877 21.39706704 21.32390796 21.25098695 21.17832782 21.10590487\n",
      " 21.0337416  20.96181326 20.89014202 20.81870481 20.74752294 20.67657379\n",
      " 20.60587817 20.53541327 20.46519967 20.39521613 20.3254821  20.25597629\n",
      " 20.18671822 20.11768653 20.04890209 19.98034186 19.91202627 19.84393411\n",
      " 19.77608556 19.70845813 19.6410723  19.57390625 19.50698076 19.44028387\n",
      " 19.37380502 19.30756361 19.24153864 19.17574912 19.11017506 19.04483487\n",
      " 18.97970805 18.91481429 18.85013197 18.78568109 18.72144068 18.6574297\n",
      " 18.59362761 18.53005408 18.46668793 18.40354794 18.34061471 18.27790552\n",
      " 18.21540142 18.15312105 18.09104308 18.02918842 17.96753459 17.90610079\n",
      " 17.84486893 17.78385453 17.72304024 17.66244291 17.60204404 17.54185989\n",
      " 17.48187319 17.42210071 17.36252313 17.30315828 17.24398748 17.18502873\n",
      " 17.12626165 17.06770496 17.00933942 16.95118272 16.89321518 16.83545618\n",
      " 16.77789354 16.72051898 16.66334884 16.60636634 16.5495876  16.492994\n",
      " 16.43660181 16.38039484 16.32438811 16.26856423 16.21294025 16.15749796\n",
      " 16.10225294 16.04718962 15.99232214 15.93763432 15.88314133 15.82882718\n",
      " 15.77470628 15.72076229 15.66701092 15.61343582 15.56005149 15.50684174\n",
      " 15.45382151 15.4009748  15.34831713 15.29583202 15.24353349 15.19140601\n",
      " 15.13946447 15.08769353 15.03610915]\n",
      "1.189116426593819\n",
      "2.4999999996774647\n",
      "16.53610915201154\n",
      "2.386940193358786\n"
     ]
    },
    {
     "ename": "TypeError",
     "evalue": "'module' object is not callable",
     "output_type": "error",
     "traceback": [
      "\u001b[0;31m---------------------------------------------------------------------------\u001b[0m",
      "\u001b[0;31mTypeError\u001b[0m                                 Traceback (most recent call last)",
      "\u001b[0;32m/var/folders/2n/ftypqy6s65s2j7krblnn49cw0000gq/T/ipykernel_12840/3362842680.py\u001b[0m in \u001b[0;36m<module>\u001b[0;34m\u001b[0m\n\u001b[1;32m     11\u001b[0m \u001b[0mntot_0\u001b[0m\u001b[0;34m=\u001b[0m\u001b[0mntot_0\u001b[0m\u001b[0;34m+\u001b[0m\u001b[0mnnu2_last0\u001b[0m\u001b[0;34m\u001b[0m\u001b[0;34m\u001b[0m\u001b[0m\n\u001b[1;32m     12\u001b[0m \u001b[0mprint\u001b[0m\u001b[0;34m(\u001b[0m\u001b[0mntot_0\u001b[0m\u001b[0;34m)\u001b[0m\u001b[0;34m\u001b[0m\u001b[0;34m\u001b[0m\u001b[0m\n\u001b[0;32m---> 13\u001b[0;31m \u001b[0mplt\u001b[0m\u001b[0;34m(\u001b[0m\u001b[0mtime\u001b[0m\u001b[0;34m,\u001b[0m\u001b[0mer_his\u001b[0m\u001b[0;34m)\u001b[0m\u001b[0;34m\u001b[0m\u001b[0;34m\u001b[0m\u001b[0m\n\u001b[0m",
      "\u001b[0;31mTypeError\u001b[0m: 'module' object is not callable"
     ]
    }
   ],
   "source": [
    "print(tgas)\n",
    "print(er_his)\n",
    "print(er_his[1]**0.25)\n",
    "print(Prat*er_his[0]+tgas[0]/(5/3-1))\n",
    "print(Prat*er_his[num_file-1]+tgas[num_file-1]/(5/3-1))\n",
    "\n",
    "ntot_0=0\n",
    "for i in range(nfreq-1):\n",
    "    ntot_0=ntot_0+er_spec[0,i]*(np.pi**4/15.0)/nu_center[i]\n",
    "nnu2_last0=ConvertJNNu2Wein(er_spec[0,nfreq-1], nu_grid[nfreq-1], tgas[0])\n",
    "ntot_0=ntot_0+nnu2_last0\n",
    "print(ntot_0)\n"
   ]
  },
  {
   "cell_type": "code",
   "execution_count": 218,
   "metadata": {},
   "outputs": [
    {
     "data": {
      "image/png": "[encoded data removed]",
      "text/plain": [
       "<Figure size 432x288 with 1 Axes>"
      ]
     },
     "metadata": {
      "needs_background": "light"
     },
     "output_type": "display_data"
    }
   ],
   "source": [
    "plt.plot(data_time,er_his)\n",
    "plt.xlim(0,0.1)\n",
    "plt.yscale('log')"
   ]
  },
  {
   "cell_type": "code",
   "execution_count": 207,
   "metadata": {},
   "outputs": [
    {
     "name": "stdout",
     "output_type": "stream",
     "text": [
      "2.7572740356694974\n",
      "14.284873449708615 27.56974689941723\n",
      "8.928003175304749\n"
     ]
    }
   ],
   "source": [
    "sigma_s=data['Sigma_s_0'][0,0,0]\n",
    "telec=5.94065e9/1.e5\n",
    "yfinal=Crat*sigma_s*time[num_file-1]/telec\n",
    "print(yfinal)\n",
    "vsq=300**2/2\n",
    "v_eff_T=1+telec*vsq/(3*Crat*Crat)\n",
    "v_eff_T2=1+2*telec*vsq/(3*Crat*Crat)\n",
    "print(v_eff_T,v_eff_T2)\n",
    "print((2*telec*vsq/(Crat*Crat))**0.5)"
   ]
  },
  {
   "cell_type": "code",
   "execution_count": 11,
   "metadata": {},
   "outputs": [
    {
     "data": {
      "text/plain": [
       "(1e-10, 1)"
      ]
     },
     "execution_count": 11,
     "metadata": {},
     "output_type": "execute_result"
    },
    {
     "data": {
      "image/png": "[encoded data removed]",
      "text/plain": [
       "<Figure size 432x288 with 1 Axes>"
      ]
     },
     "metadata": {
      "needs_background": "light"
     },
     "output_type": "display_data"
    }
   ],
   "source": [
    "plt.plot(nu_center,specific_spec[0,:])\n",
    "plt.plot(nu_center,specific_spec[num_file-1,:],linestyle='dashed')\n",
    "plt.xscale('log')\n",
    "plt.yscale('log')\n",
    "plt.ylim(1.e-10,1)"
   ]
  },
  {
   "cell_type": "code",
   "execution_count": null,
   "metadata": {},
   "outputs": [],
   "source": [
    "Solve[N[Integrate[\n",
    "    15/\\[Pi]^4*(x^3*vtr^4)/(amp*Exp[x] - 1), {x, 0, \\[Infinity]}]] == \n",
    "  15.036, amp]"
   ]
  },
  {
   "cell_type": "code",
   "execution_count": 204,
   "metadata": {},
   "outputs": [
    {
     "name": "stdout",
     "output_type": "stream",
     "text": [
      "68.21997\n",
      "[1.18495458e-08 8.90255201e-08 1.77287646e-07 4.02658136e-07\n",
      " 8.94800135e-07 1.99353756e-06 4.43232147e-06 9.83497512e-06\n",
      " 2.17577496e-05 4.79492945e-05 1.05081017e-04 2.28675287e-04\n",
      " 4.92464926e-04 1.04728347e-03 2.18368017e-03 4.45313655e-03\n",
      " 8.74865530e-03 1.65506251e-02 2.91828079e-02 4.84588473e-02\n",
      " 7.01787389e-02 9.44961772e-02 1.07010458e-01 9.93832739e-02\n",
      " 7.34126330e-02 4.24296389e-02 1.90621512e-02 6.65146716e-03\n",
      " 1.80431518e-03 3.80607024e-04 6.23253396e-05 7.88700667e-06\n",
      " 7.65233053e-07 5.62660372e-08 3.08586731e-09 1.23768063e-10\n",
      " 3.61619704e-12 1.35798683e-13 3.83624918e-14]\n",
      "24.17913193263015\n"
     ]
    },
    {
     "data": {
      "text/plain": [
       "(1e-10, 1)"
      ]
     },
     "execution_count": 204,
     "metadata": {},
     "output_type": "execute_result"
    },
    {
     "data": {
      "image/png": "[encoded data removed]",
      "text/plain": [
       "<Figure size 432x288 with 1 Axes>"
      ]
     },
     "metadata": {
      "needs_background": "light"
     },
     "output_type": "display_data"
    }
   ],
   "source": [
    "peak_index=specific_spec[num_file-1,:].argmax()\n",
    "print(nu_center[peak_index])\n",
    "fitarray=np.arange(-2,4,0.01)\n",
    "fitarray=10**fitarray\n",
    "size=len(fitarray)\n",
    "fitbd=np.zeros(size)\n",
    "fitbe=np.zeros(size)\n",
    "fitbe2=np.zeros(size)\n",
    "tr=nu_center[peak_index]/2.82144\n",
    "norm=tr**4/er_his[num_file-1]\n",
    "norm2=v_eff_T**4/er_his[num_file-1]\n",
    "for i in range(size):\n",
    "    fitbd[i]=BlackBody(fitarray[i],tr)/norm\n",
    "    fitbe[i]=BESpectrum(2558.84,fitarray[i],v_eff_T)\n",
    "    fitbe2[i]=BESpectrum(35502.5,fitarray[i],v_eff_T2)\n",
    "print(specific_spec[num_file-1,:])\n",
    "print(tr)\n",
    "plt.plot(fitarray,fitbe)\n",
    "plt.plot(nu_center,specific_spec[num_file-1,:],linestyle='dashed')\n",
    "plt.plot(fitarray,fitbe2,color='black')\n",
    "plt.xscale('log')\n",
    "plt.yscale('log')\n",
    "plt.ylim(1.e-10,1)"
   ]
  },
  {
   "cell_type": "code",
   "execution_count": 205,
   "metadata": {},
   "outputs": [],
   "source": [
    "ylabel='$E_r(\\\\tilde{\\\\nu})$'\n",
    "filename='bulk_compton_spectrum.pdf'\n",
    "xlabel=\"$\\\\tilde{\\\\nu}$\"\n",
    "label2='$y=2.76$'\n",
    "\n",
    "#print(histories[:,0])\n",
    "PlotProfile(nu_center,specific_spec[0,:],1.e-2, 1.e4, 1.e-8, 1, ylabel, '$y=0$',filename, xlabel,logscale=1,\n",
    "            xlogscale=1,\n",
    "            datax2=nu_center,datay2=specific_spec[num_file-1,:], \n",
    "            datax3=fitarray,datay3=fitbe2,label2=label2,leg_loc=(0.66,0.85))"
   ]
  },
  {
   "cell_type": "code",
   "execution_count": 14,
   "metadata": {},
   "outputs": [
    {
     "name": "stdout",
     "output_type": "stream",
     "text": [
      "[ 2.53707862 -4.66628078]\n",
      "[-8.97855892 21.82817335]\n"
     ]
    }
   ],
   "source": [
    "## fit the power law slope at low and high frequency end\n",
    "## fit low frequency end\n",
    "low_fre=np.fabs(nu_center-20).argmin()\n",
    "z = np.polyfit(np.log10(nu_center[:low_fre]), np.log10(specific_spec[num_file-1,:low_fre]), 1)\n",
    "print(z)\n",
    "high_fre=np.fabs(nu_center-600).argmin()\n",
    "highz = np.polyfit(np.log10(nu_center[high_fre:]), np.log10(specific_spec[num_file-1,high_fre:]), 1)\n",
    "print(highz)"
   ]
  },
  {
   "cell_type": "code",
   "execution_count": 154,
   "metadata": {},
   "outputs": [],
   "source": [
    "#check spatial distribution\n",
    "filename=files[num_file-1]\n",
    "with h5py.File(filename, 'r') as f:\n",
    "    attributes = f.attrs.items()\n",
    "    attrs = dict(attributes)\n",
    "    level = f.attrs['MaxLevel']\n",
    "    subsample = False\n",
    "    data = athena_read.athdf(filename, level=level, subsample=subsample)\n",
    "    xpos=data['x1v']\n",
    "    nx1=len(data['x1v'])\n",
    "    er_spatial_spec=np.zeros((nx1,nfreq-1))\n",
    "    for i in range(nx1):\n",
    "        for j in range(nfreq-1):\n",
    "            varname='Er_'+str(j)\n",
    "            er_spatial_spec[i,j]=data[varname][0,0,i]/(nu_grid[j+1]-nu_grid[j])\n",
    "#subtract the mean and divide the mean to show the fluctuation\n",
    "for j in range(nfreq-1):\n",
    "    er_spatial_spec[:,j] = (er_spatial_spec[:,j] - np.mean(er_spatial_spec[:,j]))/np.mean(er_spatial_spec[:,j])\n"
   ]
  },
  {
   "cell_type": "code",
   "execution_count": 169,
   "metadata": {},
   "outputs": [
    {
     "name": "stdout",
     "output_type": "stream",
     "text": [
      "-0.6660884499586752\n"
     ]
    }
   ],
   "source": [
    "np.fabs(-10)\n",
    "print(np.log10(nu_center[3]))"
   ]
  },
  {
   "cell_type": "code",
   "execution_count": 152,
   "metadata": {},
   "outputs": [
    {
     "data": {
      "text/plain": [
       "[<matplotlib.lines.Line2D at 0x7fd2483054c0>]"
      ]
     },
     "execution_count": 152,
     "metadata": {},
     "output_type": "execute_result"
    },
    {
     "data": {
      "image/png": "[encoded data removed]",
      "text/plain": [
       "<Figure size 432x288 with 1 Axes>"
      ]
     },
     "metadata": {
      "needs_background": "light"
     },
     "output_type": "display_data"
    }
   ],
   "source": [
    "plt.plot(xpos,er_spatial_spec[:,2])"
   ]
  },
  {
   "cell_type": "code",
   "execution_count": 171,
   "metadata": {},
   "outputs": [],
   "source": [
    "label='$\\\\delta E_{r}(x,\\\\tilde{\\\\nu})$'\n",
    "outputname='bulk_compton_spatial.pdf'\n",
    "xlabel='$\\\\log_{10}(\\\\tilde{\\\\nu})$'\n",
    "ylabel='$x$'\n",
    "MakeImages(er_spatial_spec[:,3:], -5, 5, -0.67, 3, 0, 1, nu_center[3:], xpos,\n",
    "              label,xlabel,ylabel,outputname,logscale=1,cmap='inferno')"
   ]
  },
  {
   "cell_type": "code",
   "execution_count": 15,
   "metadata": {},
   "outputs": [],
   "source": [
    "files2=sorted(glob.glob('Data_NoCompton/thermal*athdf'))\n",
    "num_file2=len(files2)"
   ]
  },
  {
   "cell_type": "code",
   "execution_count": 16,
   "metadata": {},
   "outputs": [],
   "source": [
    "er_spec2=np.zeros((num_file2,nfreq))\n",
    "er_spec2=np.zeros((num_file,nfreq))\n",
    "er_his2=np.zeros(num_file2)\n",
    "specific_spec2=np.zeros((num_file2,nfreq-1))"
   ]
  },
  {
   "cell_type": "code",
   "execution_count": 17,
   "metadata": {},
   "outputs": [],
   "source": [
    "for i in range(num_file2):\n",
    "    filename=files2[i]\n",
    "    with h5py.File(filename, 'r') as f:\n",
    "        attributes = f.attrs.items()\n",
    "        attrs = dict(attributes)\n",
    "        level = f.attrs['MaxLevel']\n",
    "        time[i] = f.attrs['Time']\n",
    "        subsample = False\n",
    "    data = athena_read.athdf(filename, level=level, subsample=subsample)\n",
    "    er_his2[i]=0.0\n",
    "    for j in range(nfreq):\n",
    "        varname='Er_'+str(j)\n",
    "        er_spec2[i,j]=np.mean(data[varname][0,0,:])\n",
    "        er_his2[i] = er_his2[i] + er_spec2[i,j]\n",
    "    for j in range(nfreq-1):\n",
    "        specific_spec2[i,j]= er_spec2[i,j]/(nu_grid[j+1]-nu_grid[j])"
   ]
  },
  {
   "cell_type": "code",
   "execution_count": 19,
   "metadata": {},
   "outputs": [
    {
     "data": {
      "text/plain": [
       "(1e-10, 1)"
      ]
     },
     "execution_count": 19,
     "metadata": {},
     "output_type": "execute_result"
    },
    {
     "data": {
      "image/png": "[encoded data removed]",
      "text/plain": [
       "<Figure size 432x288 with 1 Axes>"
      ]
     },
     "metadata": {
      "needs_background": "light"
     },
     "output_type": "display_data"
    }
   ],
   "source": [
    "plt.plot(nu_center,specific_spec[0,:])\n",
    "plt.plot(nu_center,specific_spec2[5,:],linestyle='dashed')\n",
    "plt.xscale('log')\n",
    "plt.yscale('log')\n",
    "plt.ylim(1.e-10,1)"
   ]
  },
  {
   "cell_type": "code",
   "execution_count": 257,
   "metadata": {},
   "outputs": [],
   "source": [
    "files3=sorted(glob.glob('Data_shear/thermal*athdf'))\n",
    "num_file3=len(files3)"
   ]
  },
  {
   "cell_type": "code",
   "execution_count": 258,
   "metadata": {},
   "outputs": [],
   "source": [
    "er_spec3=np.zeros((num_file3,nfreq))\n",
    "er_his3=np.zeros(num_file3)\n",
    "specific_spec3=np.zeros((num_file3,nfreq-1))\n",
    "prxy_spec3=np.zeros((num_file3,nfreq))\n",
    "data_time3=np.zeros(num_file3)"
   ]
  },
  {
   "cell_type": "code",
   "execution_count": 259,
   "metadata": {},
   "outputs": [
    {
     "name": "stderr",
     "output_type": "stream",
     "text": [
      "/var/folders/2n/ftypqy6s65s2j7krblnn49cw0000gq/T/ipykernel_12840/2969488287.py:16: RuntimeWarning: invalid value encountered in true_divide\n",
      "  prxy_spec3[i,j]=np.mean(data[varname][0,0,:])/er_spec3[i,j]\n"
     ]
    }
   ],
   "source": [
    "for i in range(num_file3):\n",
    "    filename=files3[i]\n",
    "    with h5py.File(filename, 'r') as f:\n",
    "        attributes = f.attrs.items()\n",
    "        attrs = dict(attributes)\n",
    "        level = f.attrs['MaxLevel']\n",
    "        data_time3[i] = f.attrs['Time']\n",
    "        subsample = False\n",
    "    data = athena_read.athdf(filename, level=level, subsample=subsample)\n",
    "    er_his3[i]=0.0\n",
    "    for j in range(nfreq):\n",
    "        varname='Er_'+str(j)\n",
    "        er_spec3[i,j]=np.mean(data[varname][0,0,:])\n",
    "        er_his3[i] = er_his3[i] + er_spec3[i,j]\n",
    "        varname='Pr_'+str(j)+'_12'\n",
    "        prxy_spec3[i,j]=np.mean(data[varname][0,0,:])/er_spec3[i,j]\n",
    "    for j in range(nfreq-1):\n",
    "        specific_spec3[i,j]= er_spec3[i,j]/(nu_grid[j+1]-nu_grid[j])"
   ]
  },
  {
   "cell_type": "code",
   "execution_count": 260,
   "metadata": {},
   "outputs": [
    {
     "data": {
      "text/plain": [
       "[<matplotlib.lines.Line2D at 0x7fd268a470d0>]"
      ]
     },
     "execution_count": 260,
     "metadata": {},
     "output_type": "execute_result"
    },
    {
     "data": {
      "image/png": "[encoded data removed]",
      "text/plain": [
       "<Figure size 432x288 with 1 Axes>"
      ]
     },
     "metadata": {
      "needs_background": "light"
     },
     "output_type": "display_data"
    }
   ],
   "source": [
    "plt.plot(data_time3,er_his3)"
   ]
  },
  {
   "cell_type": "code",
   "execution_count": 261,
   "metadata": {},
   "outputs": [
    {
     "data": {
      "text/plain": [
       "(1e-10, 1)"
      ]
     },
     "execution_count": 261,
     "metadata": {},
     "output_type": "execute_result"
    },
    {
     "data": {
      "image/png": "[encoded data removed]",
      "text/plain": [
       "<Figure size 432x288 with 1 Axes>"
      ]
     },
     "metadata": {
      "needs_background": "light"
     },
     "output_type": "display_data"
    }
   ],
   "source": [
    "plt.plot(nu_center,specific_spec3[0,:])\n",
    "plt.plot(nu_center,specific_spec3[num_file3-1,:],linestyle='dashed')\n",
    "plt.plot(fitarray,fitbe,color='black')\n",
    "plt.xscale('log')\n",
    "plt.yscale('log')\n",
    "plt.ylim(1.e-10,1)"
   ]
  },
  {
   "cell_type": "code",
   "execution_count": 37,
   "metadata": {},
   "outputs": [
    {
     "name": "stderr",
     "output_type": "stream",
     "text": [
      "/var/folders/2n/ftypqy6s65s2j7krblnn49cw0000gq/T/ipykernel_12840/104872166.py:20: RuntimeWarning: overflow encountered in exp\n",
      "  exp_1=exp(nu_t)-1\n"
     ]
    }
   ],
   "source": [
    "peak_index=specific_spec3[num_file3-1,:].argmax()\n",
    "size=len(fitarray)\n",
    "fitbd3=np.zeros(size)\n",
    "tr=nu_center[peak_index]/2.82144\n",
    "norm=tr**4/er_his3[num_file3-1]\n",
    "for i in range(size):\n",
    "    fitbd3[i]=BlackBody(fitarray[i],tr)/norm"
   ]
  },
  {
   "cell_type": "code",
   "execution_count": 44,
   "metadata": {},
   "outputs": [],
   "source": []
  },
  {
   "cell_type": "code",
   "execution_count": 262,
   "metadata": {},
   "outputs": [
    {
     "name": "stdout",
     "output_type": "stream",
     "text": [
      "[ 2.37572924 -1.92607013]\n",
      "[-10.10542303  15.50224503]\n"
     ]
    }
   ],
   "source": [
    "low_fre=np.fabs(nu_center-5).argmin()\n",
    "z = np.polyfit(np.log10(nu_center[:low_fre]), np.log10(specific_spec3[num_file3-1,:low_fre]), 1)\n",
    "print(z)\n",
    "high_fre=np.fabs(nu_center-50).argmin()\n",
    "highz = np.polyfit(np.log10(nu_center[high_fre:]), np.log10(specific_spec3[num_file3-1,high_fre:]), 1)\n",
    "print(highz)"
   ]
  },
  {
   "cell_type": "code",
   "execution_count": 229,
   "metadata": {},
   "outputs": [
    {
     "data": {
      "text/plain": [
       "[<matplotlib.lines.Line2D at 0x7fd2392fd130>]"
      ]
     },
     "execution_count": 229,
     "metadata": {},
     "output_type": "execute_result"
    },
    {
     "data": {
      "image/png": "[encoded data removed]",
      "text/plain": [
       "<Figure size 432x288 with 1 Axes>"
      ]
     },
     "metadata": {
      "needs_background": "light"
     },
     "output_type": "display_data"
    }
   ],
   "source": [
    "plt.plot(nu_center[:low_fre],specific_spec3[num_file3-1,:low_fre])"
   ]
  },
  {
   "cell_type": "code",
   "execution_count": 232,
   "metadata": {},
   "outputs": [
    {
     "data": {
      "image/png": "[encoded data removed]",
      "text/plain": [
       "<Figure size 432x288 with 1 Axes>"
      ]
     },
     "metadata": {
      "needs_background": "light"
     },
     "output_type": "display_data"
    }
   ],
   "source": [
    "plt.plot(nu_center[high_fre:],specific_spec3[num_file3-1,high_fre:])\n",
    "plt.xscale('log')\n",
    "plt.yscale('log')"
   ]
  },
  {
   "cell_type": "code",
   "execution_count": 234,
   "metadata": {},
   "outputs": [],
   "source": [
    "filename=files[num_file3-1]\n",
    "with h5py.File(filename, 'r') as f:\n",
    "    attributes = f.attrs.items()\n",
    "    attrs = dict(attributes)\n",
    "    level = f.attrs['MaxLevel']\n",
    "    subsample = False\n",
    "    data3 = athena_read.athdf(filename, level=level, subsample=subsample)\n",
    "    xpos=data3['x1v']\n",
    "    nx1=len(data3['x1v'])\n",
    "    er_spatial_spec3=np.zeros((nx1,nfreq-1))\n",
    "    for i in range(nx1):\n",
    "        for j in range(nfreq-1):\n",
    "            varname='Er_'+str(j)\n",
    "            er_spatial_spec3[i,j]=data3[varname][0,0,i]/(nu_grid[j+1]-nu_grid[j])\n",
    "#subtract the mean and divide the mean to show the fluctuation\n",
    "for j in range(nfreq-1):\n",
    "    er_spatial_spec3[:,j] = (er_spatial_spec3[:,j] - np.mean(er_spatial_spec3[:,j]))/np.mean(er_spatial_spec3[:,j])\n"
   ]
  },
  {
   "cell_type": "code",
   "execution_count": 235,
   "metadata": {},
   "outputs": [],
   "source": [
    "label='$\\\\delta E_{r}(x,\\\\tilde{\\\\nu})$'\n",
    "outputname='shear_compton_spatial.pdf'\n",
    "xlabel='$\\\\log_{10}(\\\\tilde{\\\\nu})$'\n",
    "ylabel='$x$'\n",
    "MakeImages(er_spatial_spec3[:,3:], -5, 5, -0.67, 3, 0, 1, nu_center[3:], xpos,\n",
    "              label,xlabel,ylabel,outputname,logscale=1,cmap='inferno')"
   ]
  },
  {
   "cell_type": "code",
   "execution_count": 263,
   "metadata": {},
   "outputs": [
    {
     "name": "stdout",
     "output_type": "stream",
     "text": [
      "0.0743461292922363 0.18832094547789158\n"
     ]
    }
   ],
   "source": [
    "tauk=10/(2*np.pi);\n",
    "Qtauk=tauk-(3.0/4)*tauk**3*(2/3+tauk**2-tauk*(1+tauk**2)*np.arctan(1/tauk))\n",
    "fk=(2/tauk)*(1/Qtauk-1/tauk)\n",
    "reduc=tauk**2*fk\n",
    "print(fk,reduc)"
   ]
  },
  {
   "cell_type": "code",
   "execution_count": 265,
   "metadata": {},
   "outputs": [
    {
     "name": "stdout",
     "output_type": "stream",
     "text": [
      "2.148324541290565\n"
     ]
    }
   ],
   "source": [
    "print(er_his3[num_file3-1])"
   ]
  },
  {
   "cell_type": "code",
   "execution_count": 264,
   "metadata": {},
   "outputs": [
    {
     "name": "stdout",
     "output_type": "stream",
     "text": [
      "1.987678919123034\n"
     ]
    }
   ],
   "source": [
    "v_eff_T3=1+fk*telec*vsq/(3*Crat*Crat)\n",
    "print(v_eff_T3)"
   ]
  },
  {
   "cell_type": "code",
   "execution_count": 266,
   "metadata": {},
   "outputs": [
    {
     "name": "stderr",
     "output_type": "stream",
     "text": [
      "/var/folders/2n/ftypqy6s65s2j7krblnn49cw0000gq/T/ipykernel_12840/810611646.py:31: RuntimeWarning: overflow encountered in exp\n",
      "  exp_1=totn*exp(nu_t)-1\n"
     ]
    },
    {
     "data": {
      "text/plain": [
       "(1e-10, 1)"
      ]
     },
     "execution_count": 266,
     "metadata": {},
     "output_type": "execute_result"
    },
    {
     "data": {
      "image/png": "[encoded data removed]",
      "text/plain": [
       "<Figure size 432x288 with 1 Axes>"
      ]
     },
     "metadata": {
      "needs_background": "light"
     },
     "output_type": "display_data"
    }
   ],
   "source": [
    "fitbe3=np.zeros(size)\n",
    "for i in range(size):\n",
    "    fitbe3[i]=BESpectrum(6.77801,fitarray[i],v_eff_T3)\n",
    "plt.plot(fitarray,fitbe3)\n",
    "plt.plot(nu_center,specific_spec3[num_file3-1,:],linestyle='dashed')\n",
    "plt.xscale('log')\n",
    "plt.yscale('log')\n",
    "plt.ylim(1.e-10,1)"
   ]
  },
  {
   "cell_type": "code",
   "execution_count": 268,
   "metadata": {},
   "outputs": [],
   "source": [
    "ylabel='$E_r(\\\\tilde{\\\\nu})$'\n",
    "filename='bulk_shear_spectrum.pdf'\n",
    "xlabel=\"$\\\\tilde{\\\\nu}$\"\n",
    "label2='$y=2.76$'\n",
    "\n",
    "#print(histories[:,0])\n",
    "PlotProfile(nu_center,specific_spec3[0,:],1.e-2, 1.e3, 1.e-8, 1, ylabel, '$y=0$',filename, xlabel,logscale=1,\n",
    "            xlogscale=1,\n",
    "            datax2=nu_center,datay2=specific_spec3[num_file3-1,:], label2=label2,\n",
    "            datax3=fitarray,datay3=fitbe3,leg_loc=(0.66,0.98))"
   ]
  },
  {
   "cell_type": "code",
   "execution_count": 256,
   "metadata": {},
   "outputs": [
    {
     "data": {
      "text/plain": [
       "102"
      ]
     },
     "execution_count": 256,
     "metadata": {},
     "output_type": "execute_result"
    }
   ],
   "source": [
    "num_file3"
   ]
  },
  {
   "cell_type": "code",
   "execution_count": null,
   "metadata": {},
   "outputs": [],
   "source": []
  }
 ],
 "metadata": {
  "kernelspec": {
   "display_name": "Python 3 (ipykernel)",
   "language": "python",
   "name": "python3"
  },
  "language_info": {
   "codemirror_mode": {
    "name": "ipython",
    "version": 3
   },
   "file_extension": ".py",
   "mimetype": "text/x-python",
   "name": "python",
   "nbconvert_exporter": "python",
   "pygments_lexer": "ipython3",
   "version": "3.9.7"
  }
 },
 "nbformat": 4,
 "nbformat_minor": 4
}
