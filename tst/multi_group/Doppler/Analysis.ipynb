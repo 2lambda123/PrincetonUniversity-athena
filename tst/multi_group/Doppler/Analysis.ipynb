{
 "cells": [
  {
   "cell_type": "code",
   "execution_count": 1,
   "metadata": {},
   "outputs": [
    {
     "name": "stderr",
     "output_type": "stream",
     "text": [
      "/var/folders/2n/ftypqy6s65s2j7krblnn49cw0000gq/T/ipykernel_45521/772757402.py:30: MatplotlibDeprecationWarning: Support for setting the 'text.latex.preamble' or 'pgf.preamble' rcParam to a list of strings is deprecated since 3.3 and will be removed two minor releases later; set it to a single string instead.\n",
      "  plt.rcParams['text.latex.preamble'] = [r'\\usepackage{sfmath} \\boldmath']\n"
     ]
    }
   ],
   "source": [
    "import matplotlib\n",
    "matplotlib.use('Agg')\n",
    "#%matplotlib notebook\n",
    "%matplotlib inline\n",
    "import sys\n",
    "sys.settrace\n",
    "import numpy as np\n",
    "import matplotlib.pyplot as plt\n",
    "from matplotlib.colors import LogNorm\n",
    "from pylab import *\n",
    "import struct\n",
    "import array\n",
    "import os\n",
    "import glob\n",
    "import h5py\n",
    "from scipy.interpolate import griddata\n",
    "from scipy import integrate\n",
    "\n",
    "plt.rcParams.update({\n",
    "    \"text.usetex\": True,\n",
    "    \"font.family\": \"sans-serif\",\n",
    "    \"font.sans-serif\": [\"Helvetica\"]})\n",
    "# for Palatino and other serif fonts use:\n",
    "#plt.rcParams.update({\n",
    "#    \"text.usetex\": True,\n",
    "#    \"font.family\": \"serif\",\n",
    "#    \"font.serif\": [\"Palatino\"],\n",
    "#})\n",
    "\n",
    "plt.rcParams['text.latex.preamble'] = [r'\\usepackage{sfmath} \\boldmath']\n",
    "plt.rcParams['font.size'] = '20'\n",
    "\n",
    "from importlib import reload"
   ]
  },
  {
   "cell_type": "code",
   "execution_count": 2,
   "metadata": {},
   "outputs": [],
   "source": [
    "import athena_read"
   ]
  },
  {
   "cell_type": "code",
   "execution_count": 3,
   "metadata": {},
   "outputs": [],
   "source": [
    "#This is the integral of blackbody from 0 to nu_t (h\\nu/kT)\n",
    "def FitBlackBody(nu_t):\n",
    "  integral = 0.0;\n",
    "  nu_2 = nu_t * nu_t;\n",
    "  nu_3 = nu_t * nu_2;\n",
    "  nu_7 = nu_2**2.0 * nu_3\n",
    "  if nu_t < 1.8:\n",
    "    integral = 0.051329911273422 * nu_3 -0.019248716727533 * nu_t * nu_3 + 0.002566495563671 * nu_2 * nu_3\n",
    "    -3.055351861513195*1.e-5*nu_7;\n",
    "  elif nu_t < 18.6:\n",
    "    exp_nu = exp(-nu_t);\n",
    "    integral = -0.156915538762850 * exp_nu * (nu_3 + 2.69 * nu_2 + 6.714 * nu_t) + 1.000009331428801*(1- exp_nu);\n",
    "  else:\n",
    "    integral = 1.0 - 192.1*exp(-0.9014*nu_t)\n",
    "\n",
    "  return integral;\n",
    "#This is the blackbody spectrum for each frequency nu_t (h\\nu/kT)\n",
    "def BlackBody(nu, tr):\n",
    "  nu_t=nu/tr\n",
    "  exp_1=exp(nu_t)-1\n",
    "  if nu_t < 1.e-5:\n",
    "    exp_1=tr**3.0*nu_t**2.0\n",
    "  else:\n",
    "    exp_1=nu**3.0/exp_1\n",
    "\n",
    "  spec=(15/np.pi**4.0)*exp_1\n",
    "\n",
    "  return spec;"
   ]
  },
  {
   "cell_type": "code",
   "execution_count": 65,
   "metadata": {},
   "outputs": [],
   "source": [
    "def PlotProfile(datax, datay, xmin, xmax, ymin, ymax,  ylabel, label1, filename, xlabel='$r/r_g$', logscale=0, \n",
    "                xlogscale=0,datay1_2=None, datay1_3=None, datax2=None, datay2=None, datay2_2=None, datay2_3=None, \n",
    "                datax3=None, datay3=None, datay3_2=None, datay3_3=None, datax4=None, datay4=None, \n",
    "                datax5=None, datay5=None, label2='', label3='', label4='', label5='',title=None,leg_loc=None):\n",
    "    plots, axes = plt.subplots(figsize=(9,9),dpi=300)\n",
    "    plt.xlabel(xlabel, size = 30)\n",
    "    plt.ylabel(ylabel, size = 30)\n",
    "    plt.subplots_adjust(left=0.16,right=0.88,top=0.95,bottom=0.1)\n",
    "    plt.ylim([ymin,ymax])\n",
    "    plt.xlim([xmin,xmax])\n",
    "    if logscale > 0:\n",
    "      axes.set_yscale('log')\n",
    "    if xlogscale > 0:\n",
    "      axes.set_xscale('log')\n",
    "    if title is not None:\n",
    "      plt.title(title,size=20)\n",
    "\n",
    "    plt.plot(datax,datay,color='black',marker=' ',fillstyle='none',markersize=8,label=label1,linewidth=2.0,alpha=1.0)\n",
    "    if datay1_2 is not None:\n",
    "      plt.scatter(datax,datay1_2,color='red',marker='o',s=40)\n",
    "    if datay1_3 is not None:\n",
    "      plt.plot(datax,datay1_3,color='black',linestyle='dashed',linewidth=4.0)\n",
    "    if datay2 is not None:\n",
    "      plt.plot(datax2,datay2,color='red',label=label2,linewidth=2.0,alpha=1.0)\n",
    "    if datay2_2 is not None:\n",
    "      plt.plot(datax2,datay2_2,color='black',linestyle='dashed',linewidth=2.0,alpha=1.0)\n",
    "    if datay2_3 is not None:\n",
    "      plt.plot(datax2,datay2_3,color='red',linestyle='dashed',linewidth=4.0)\n",
    "    if datay3 is not None:\n",
    "      plt.scatter(datax3,datay3,edgecolor='black',marker='s',s=50,facecolors='none')\n",
    "    if datay3_2 is not None:\n",
    "      plt.plot(datax3,datay3_2,color='black',linestyle='dashed',linewidth=2.0,alpha=1.0)\n",
    "    if datay3_3 is not None:\n",
    "      plt.plot(datax3,datay3_3,color='green',linestyle='dashed',linewidth=4.0)\n",
    "    if datay4 is not None:\n",
    "      plt.scatter(datax4,datay4,edgecolor='red',marker='s',s=50,facecolors='none')\n",
    "    if datay5 is not None:\n",
    "      plt.plot(datax5,datay5,color=tableau20[0],label=label5,linewidth=2.0) \n",
    "    if leg_loc is not None:\n",
    "      plt.legend(loc=\"best\",bbox_to_anchor=leg_loc,frameon=False)\n",
    "    axes.set_aspect('auto')\n",
    "#    axes.yaxis.set_tick_params(labelsize=25)\n",
    "#    axes.xaxis.set_tick_params(labelsize=25)\n",
    "    plt.savefig(filename)\n",
    "    plt.close(plots)\n"
   ]
  },
  {
   "cell_type": "code",
   "execution_count": 15,
   "metadata": {},
   "outputs": [],
   "source": [
    "files=sorted(glob.glob('Data/thermal.out4.*athdf'))\n",
    "num_file=len(files)"
   ]
  },
  {
   "cell_type": "code",
   "execution_count": 16,
   "metadata": {},
   "outputs": [],
   "source": [
    "#for filename in files:\n",
    "ang_file = open('Data/Rad_angles.txt', 'r')\n",
    "Lines = ang_file.readlines()\n",
    "angle_line = [ line for line in Lines if  \"tau_scheme\" in line]\n",
    "angle_line=angle_line[0]\n",
    "crat_line = [ line for line in Lines if  \"Crat\" in line]\n",
    "crat_line=crat_line[0]\n",
    "Crat_split=crat_line.split(\" \")\n",
    "Crat=float(Crat_split[size(Crat_split)-2])\n",
    "angle_index=Lines.index(angle_line)+1\n",
    "location=Lines.index('fre   spec\\n')\n",
    "tot_line=size(Lines)\n",
    "nfreq=tot_line-location-1\n",
    "nu_grid=np.zeros(nfreq)\n",
    "histories=np.zeros((num_file,52))\n",
    "for i in range(nfreq):\n",
    "    line=Lines[i+location+1].split(' ')[0]\n",
    "    nu_grid[i]=float(line)\n",
    "\n",
    "nu_center=np.zeros(nfreq-1)\n",
    "nu_center=(nu_grid[:-1]+nu_grid[1:])/2\n",
    "#nu_center=np.append(nu_center,nu_grid[nfreq-1])\n",
    "nang=location-angle_index\n",
    "mu_x=np.zeros(nang)\n",
    "mu_y=np.zeros(nang)\n",
    "mu_z=np.zeros(nang)\n",
    "weight=np.zeros(nang)\n",
    "for n in range(nang):\n",
    "    line=Lines[n+angle_index].split('   ')\n",
    "    mu_x[n]=float(line[1])\n",
    "    mu_y[n]=float(line[2])\n",
    "    mu_z[n]=float(line[3])\n",
    "    weight[n]=float(line[4].rstrip())"
   ]
  },
  {
   "cell_type": "code",
   "execution_count": 19,
   "metadata": {},
   "outputs": [],
   "source": [
    "Prat=0\n",
    "#Crat=8.0534e4\n",
    "count=0\n",
    "filename=files[num_file-1]\n",
    "with h5py.File(filename, 'r') as f:\n",
    "  attributes = f.attrs.items()\n",
    "  attrs = dict(attributes)\n",
    "  level = f.attrs['MaxLevel']\n",
    "  time = f.attrs['Time']\n",
    "  subsample = False\n",
    "\n",
    "data = athena_read.athdf(filename, level=level, subsample=subsample)\n",
    "vx=np.average(data['vel1'])\n",
    "lorz=1.0/(1-vx**2.0/Crat**2.0)**0.5\n",
    "\n",
    "Er_spec=np.zeros(nfreq-1)\n",
    "Er0_spec=np.zeros(nfreq-1)\n",
    "for i in range(nfreq-1):\n",
    "    varname='Er_'+str(i)\n",
    "    Er_spec[i]=np.average(data[varname])/(nu_grid[i+1]-nu_grid[i])\n",
    "    varname0='Er0_'+str(i)\n",
    "    Er0_spec[i]=np.average(data[varname0])/(nu_grid[i+1]-nu_grid[i])    \n",
    "#tgas=np.average(data['press']/data['rho'])\n",
    "tr=1.0\n",
    "#blackbody=np.zeros(nfreq)\n",
    "#for i in range(nfreq-1):\n",
    "#    kt_right=nu_grid[i+1]/tgas\n",
    "#    kt_left=nu_grid[i]/tgas\n",
    "#    blackbody[i]=tgas**4.0*(FitBlackBody(kt_right)-FitBlackBody(kt_left))\n",
    "#blackbody[nfreq-1]=tgas**4.0*(1-FitBlackBody(nu_grid[nfreq-1]/tgas))\n",
    "bd_bins=100\n",
    "blackbody=np.zeros(bd_bins)\n",
    "blackbody_cm=np.zeros(bd_bins)\n",
    "nu_bd=np.linspace(1.e-5,20,bd_bins)\n",
    "for i in range(bd_bins):\n",
    "    blackbody[i]=BlackBody(nu_bd[i],tr)\n",
    "weight_cm=np.zeros(nang)\n",
    "for n in range(nang):\n",
    "    vdotn=vx*mu_x[n]\n",
    "    vnc=1-vdotn/Crat\n",
    "    tran_coef=lorz * vnc\n",
    "    weight_cm[n]=weight[n]/tran_coef**2.0\n",
    "\n",
    "sum_weight=np.sum(weight_cm)\n",
    "weight_cm[:]=weight_cm[:]/sum_weight\n",
    "bd_intensity_cm=np.zeros((nang,bd_bins))\n",
    "for i in range(bd_bins):\n",
    "    blackbody_cm[i]=0.0\n",
    "    for n in range(nang):\n",
    "        vdotn=vx*mu_x[n]\n",
    "        vnc=1-vdotn/Crat\n",
    "        tran_coef=lorz * vnc\n",
    "        nu_lab=nu_bd[i]/tran_coef\n",
    "        blackbody_cm[i]=blackbody_cm[i]+tran_coef**3.0*BlackBody(nu_lab,tr)*weight_cm[n]\n",
    "        bd_intensity_cm[n,i]=tran_coef**3.0*BlackBody(nu_lab,tr)"
   ]
  },
  {
   "cell_type": "code",
   "execution_count": 20,
   "metadata": {},
   "outputs": [
    {
     "name": "stdout",
     "output_type": "stream",
     "text": [
      "(4, 100)\n"
     ]
    }
   ],
   "source": [
    "print(np.shape(bd_intensity_cm))"
   ]
  },
  {
   "cell_type": "code",
   "execution_count": 10,
   "metadata": {},
   "outputs": [],
   "source": [
    "###Now load data for specific intensity\n",
    "files=sorted(glob.glob('Data/thermal.out5.*athdf'))\n",
    "num_file=len(files)\n",
    "filename=files[num_file-1]\n",
    "with h5py.File(filename, 'r') as f:\n",
    "  attributes = f.attrs.items()\n",
    "  attrs = dict(attributes)\n",
    "  level = f.attrs['MaxLevel']\n",
    "  time = f.attrs['Time']\n",
    "  subsample = False\n",
    "\n",
    "data2 = athena_read.athdf(filename, level=level, subsample=subsample)"
   ]
  },
  {
   "cell_type": "code",
   "execution_count": 11,
   "metadata": {},
   "outputs": [],
   "source": [
    "intensity=np.zeros((nfreq-1,nang))\n",
    "count=0\n",
    "for ifr in range(nfreq-1):\n",
    "    for n in range(nang):\n",
    "        var_name='user_out_var'+str(count)\n",
    "        intensity[ifr,n]=np.average(data2[var_name])\n",
    "        count=count+1"
   ]
  },
  {
   "cell_type": "code",
   "execution_count": 12,
   "metadata": {},
   "outputs": [],
   "source": [
    "ir_unshift=np.zeros((nfreq-1,nang))\n",
    "nu_shift=np.zeros((nfreq-1,nang))\n",
    "for ifr in range(nfreq-1):\n",
    "    for n in range(nang):\n",
    "        tran_coef=lorz*(1-vx*mu_x[n]/Crat)\n",
    "        ir_unshift[ifr,n]=Er_spec[ifr]*(nu_grid[ifr+1]-nu_grid[ifr])*tran_coef**4.0\n",
    "        nu_shift[ifr,n]=nu_center[ifr]*tran_coef\n",
    "#get monochromatic intensity\n",
    "for ifr in range(nfreq-1):\n",
    "    for n in range(nang):\n",
    "        tran_coef=lorz*(1-vx*mu_x[n]/Crat)\n",
    "        delta_nu=nu_grid[ifr+1]-nu_grid[ifr]\n",
    "        ir_unshift[ifr,n]=ir_unshift[ifr,n]/(tran_coef*delta_nu)\n",
    "        intensity[ifr,n]=intensity[ifr,n]/delta_nu"
   ]
  },
  {
   "cell_type": "code",
   "execution_count": 13,
   "metadata": {},
   "outputs": [],
   "source": [
    "ylabel='$\\\\rm Blackbody Spectrum E_r(\\\\nu)$'\n",
    "filename='blackbody_spectrum.pdf'\n",
    "xlabel='$\\\\nu$'\n",
    "\n",
    "#print(histories[:,0])\n",
    "PlotProfile(nu_bd,blackbody,2.e-3, 50, 1.e-8, 1, ylabel, None, filename, xlabel, logscale=1,\n",
    "            datax2=nu_center,datay2=Er_spec,xlogscale=1)\n",
    "ylabel='$\\\\rm Blackbody Spectrum E_{r,0}(\\\\nu)$'\n",
    "filename='blackbody_spectrum_cm.pdf'\n",
    "xlabel='$\\\\nu$'\n",
    "\n",
    "#print(histories[:,0])\n",
    "PlotProfile(nu_bd,blackbody_cm,2.e-3, 50, 1.e-8, 1, ylabel, None, filename, xlabel, logscale=1,\n",
    "            datax2=nu_center,datay2=Er0_spec,xlogscale=1)"
   ]
  },
  {
   "cell_type": "code",
   "execution_count": 13,
   "metadata": {},
   "outputs": [],
   "source": [
    "ylabel='$\\\\rm E_r(\\\\nu) - E_{r,0}(\\\\nu)$'\n",
    "filename='diff_spectrum.pdf'\n",
    "xlabel='$\\\\nu$'\n",
    "\n",
    "#print(histories[:,0])\n",
    "PlotProfile(nu_bd,blackbody-blackbody_cm,2.e-3, 50, -5.e-3,1.e-3, ylabel, None, filename, xlabel, logscale=0,\n",
    "            datax2=nu_center,datay2=Er_spec-Er0_spec,xlogscale=1)"
   ]
  },
  {
   "cell_type": "code",
   "execution_count": 14,
   "metadata": {},
   "outputs": [],
   "source": [
    "##intensity for different angles\n",
    "ylabel='$\\\\rm I_{\\\\nu,n=0}$'\n",
    "filename='intensity_spectrum.pdf'\n",
    "xlabel='$\\\\nu$'\n",
    "\n",
    "#print(histories[:,0])\n",
    "PlotProfile(nu_center,intensity[:,0],2.e-3, 50, 1.e-5, 1, ylabel, None, filename, xlabel, logscale=1,\n",
    "            datax2=nu_shift[:,0],datay2=ir_unshift[:,0],xlogscale=1)\n"
   ]
  },
  {
   "cell_type": "code",
   "execution_count": 15,
   "metadata": {},
   "outputs": [],
   "source": [
    "##intensity for different angles\n",
    "ylabel='$\\\\rm I_{\\\\nu,n=1}$'\n",
    "filename='intensity_spectrum1.pdf'\n",
    "xlabel='$\\\\nu$'\n",
    "\n",
    "#print(histories[:,0])\n",
    "PlotProfile(nu_center,intensity[:,1],2.e-3, 50, 1.e-5, 1, ylabel, None, filename, xlabel, logscale=1,\n",
    "            datax2=nu_shift[:,1],datay2=ir_unshift[:,1],xlogscale=1)"
   ]
  },
  {
   "cell_type": "code",
   "execution_count": 16,
   "metadata": {},
   "outputs": [],
   "source": [
    "##intensity for different angles\n",
    "ylabel='$\\\\rm I_{\\\\nu,n=2}$'\n",
    "filename='intensity_spectrum2.pdf'\n",
    "xlabel='$\\\\nu$'\n",
    "\n",
    "#print(histories[:,0])\n",
    "PlotProfile(nu_center,intensity[:,2],2.e-3, 50, 1.e-5, 1, ylabel, None, filename, xlabel, logscale=1,\n",
    "            datax2=nu_shift[:,2],datay2=ir_unshift[:,2],xlogscale=1)"
   ]
  },
  {
   "cell_type": "code",
   "execution_count": 66,
   "metadata": {},
   "outputs": [],
   "source": [
    "ylabel='$I_{0,\\\\nu}$'\n",
    "filename='check_intensity.pdf'\n",
    "xlabel='$\\\\tilde{\\\\nu}$'\n",
    "\n",
    "#print(histories[:,0])\n",
    "PlotProfile(nu_bd,bd_intensity_cm[0,:],3.e-2, 30, 5.e-5, 1, ylabel, '$n\\\\cdot v>0$', filename, xlabel, logscale=1,\n",
    "            datax2=nu_bd,datay2=bd_intensity_cm[1,:],label2='$n\\\\cdot v<0$',\n",
    "            datax3=nu_center,datay3=intensity[:,0],\n",
    "            datax4=nu_center,datay4=intensity[:,1],xlogscale=1,leg_loc=(0.35, 0.3))"
   ]
  },
  {
   "cell_type": "code",
   "execution_count": 18,
   "metadata": {},
   "outputs": [
    {
     "data": {
      "text/plain": [
       "0.0005342949056536798"
      ]
     },
     "execution_count": 18,
     "metadata": {},
     "output_type": "execute_result"
    }
   ],
   "source": [
    "np.sum(intensity[0,:]*weight_cm)"
   ]
  },
  {
   "cell_type": "code",
   "execution_count": 64,
   "metadata": {},
   "outputs": [
    {
     "data": {
      "text/plain": [
       "0.134"
      ]
     },
     "execution_count": 64,
     "metadata": {},
     "output_type": "execute_result"
    }
   ],
   "source": [
    "vx/Crat"
   ]
  },
  {
   "cell_type": "code",
   "execution_count": null,
   "metadata": {},
   "outputs": [],
   "source": []
  }
 ],
 "metadata": {
  "kernelspec": {
   "display_name": "Python 3 (ipykernel)",
   "language": "python",
   "name": "python3"
  },
  "language_info": {
   "codemirror_mode": {
    "name": "ipython",
    "version": 3
   },
   "file_extension": ".py",
   "mimetype": "text/x-python",
   "name": "python",
   "nbconvert_exporter": "python",
   "pygments_lexer": "ipython3",
   "version": "3.9.7"
  }
 },
 "nbformat": 4,
 "nbformat_minor": 4
}
