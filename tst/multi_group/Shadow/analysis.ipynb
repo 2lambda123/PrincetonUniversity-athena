{
 "cells": [
  {
   "cell_type": "code",
   "execution_count": 1,
   "metadata": {},
   "outputs": [
    {
     "name": "stderr",
     "output_type": "stream",
     "text": [
      "/var/folders/2n/ftypqy6s65s2j7krblnn49cw0000gq/T/ipykernel_4636/3957739208.py:22: MatplotlibDeprecationWarning: Support for setting the 'text.latex.preamble' or 'pgf.preamble' rcParam to a list of strings is deprecated since 3.3 and will be removed two minor releases later; set it to a single string instead.\n",
      "  plt.rcParams['text.latex.preamble'] = [r'\\usepackage{sfmath} \\boldmath']\n"
     ]
    }
   ],
   "source": [
    "import matplotlib\n",
    "matplotlib.use('Agg')\n",
    "\n",
    "import sys\n",
    "sys.settrace\n",
    "import numpy as np\n",
    "import matplotlib.pyplot as plt\n",
    "from matplotlib.colors import LogNorm\n",
    "from pylab import *\n",
    "import struct\n",
    "import array\n",
    "import os\n",
    "from scipy.interpolate import griddata\n",
    "\n",
    "import h5py\n",
    "\n",
    "plt.rcParams.update({\n",
    "    \"text.usetex\": True,\n",
    "    \"font.family\": \"sans-serif\",\n",
    "    \"font.sans-serif\": [\"Helvetica\"]})\n",
    "\n",
    "plt.rcParams['text.latex.preamble'] = [r'\\usepackage{sfmath} \\boldmath']\n",
    "plt.rcParams['font.size'] = '20'"
   ]
  },
  {
   "cell_type": "code",
   "execution_count": 2,
   "metadata": {},
   "outputs": [],
   "source": [
    "import athena_read"
   ]
  },
  {
   "cell_type": "code",
   "execution_count": 3,
   "metadata": {},
   "outputs": [],
   "source": [
    "vol_func = lambda rm,rp,thetam,thetap,phim,phip: \\\n",
    "            1.0/3.0*(rp**3-rm**3) * abs(np.cos(thetam)-np.cos(thetap)) * (phip-phim)\n",
    "rarea_func = lambda r,thetam,thetap, phim, phip: \\\n",
    "           r**2.0 * abs(np.cos(thetam)-np.cos(thetap)) * (phip-phim)\n",
    "tarea_func = lambda rm, rp, theta, phim, phip: \\\n",
    "          0.5*(rp**2.0 - rm**2.0)*np.sin(theta)*(phip - phim)\n",
    "parea_func = lambda rm, rp, thetam, thetap: \\\n",
    "          0.5*(rp**2.0 - rm**2.0)*abs(thetap - thetam)"
   ]
  },
  {
   "cell_type": "code",
   "execution_count": 4,
   "metadata": {},
   "outputs": [],
   "source": [
    "def PlotProfile2(data,sol,filename,ylabel1,ylabel2,label1=None,label2=None):\n",
    "    plots, axes = plt.subplots(2,1,figsize=(9,11),dpi=300,sharex=True)\n",
    "    plt.subplots_adjust(left=0.17,right=0.95,top=0.95,bottom=0.1,hspace=0.02)\n",
    "    plt.xlabel('$ r $', size = 30)\n",
    "    plt.xlim([0.4,10])\n",
    "    \n",
    "    nu_weight=sol[4]\n",
    "\n",
    "    axes[0].plot(data[0],data[4][0,:],linewidth=4.0,color='blue',alpha=0.5,label=label1)\n",
    "    axes[0].plot(data[0],data[4][1,:],linewidth=4.0,color='green',alpha=0.5,label='$E_{r,1}$')\n",
    "    axes[0].plot(data[0],data[4][2,:],linewidth=4.0,color='orange',alpha=0.5,label='$E_{r,2}$')\n",
    "    axes[0].plot(data[0],data[3]/data[1],linewidth=4.0,color='red',alpha=0.5,label=label2)\n",
    "    axes[0].plot(sol[0],sol[1]*nu_weight[0],linewidth=2.0,color='black',linestyle='dashed')\n",
    "    axes[0].plot(sol[0],sol[1]*nu_weight[1],linewidth=2.0,color='black',linestyle='dashed')\n",
    "    axes[0].plot(sol[0],sol[1]*nu_weight[2],linewidth=2.0,color='black',linestyle='dashed')\n",
    "    axes[0].plot(sol[0],sol[3]/sol[1],linewidth=2.0,color='black',linestyle='dashed')\n",
    "#    axes[0].set_xscale('log')\n",
    "    axes[0].set_ylabel(ylabel1, size=30)\n",
    "    axes[0].set_ylim(2.e-5,1.5)  \n",
    "    axes[0].set_yscale('log')  \n",
    "    axes[0].yaxis.set_tick_params(labelsize=25)\n",
    "\n",
    "    if label1 is not None:\n",
    "        axes[0].legend(loc=[0.01,0.001],frameon=False,fontsize = 22)\n",
    "\n",
    "#    axes[0].text(1.e-2, 2.3, '$a_rT_0^4/P_0=0.01$', dict(size=25,color='black'))\n",
    "#    axes[0].text(1.e-2, 2.1, '$a_rT_0^4/P_0=1$', dict(size=25,color='blue'))\n",
    "#    axes[0].text(1.e-2, 1.9, '$a_rT_0^4/P_0=10$', dict(size=25,color='red'))    \n",
    "\n",
    "\n",
    "    axes[1].plot(data[0],data[5][0,:],linewidth=4.0,color='blue',alpha=0.5,label='$F_{r,0}$')\n",
    "    axes[1].plot(data[0],data[5][1,:],linewidth=4.0,color='green',alpha=0.5,label='$F_{r,1}$')\n",
    "    axes[1].plot(data[0],data[5][2,:],linewidth=4.0,color='orange',alpha=0.5,label='$F_{r,2}$')    \n",
    "    axes[1].plot(sol[0],sol[2]*nu_weight[0],linewidth=2.0,color='black',linestyle='dashed')    \n",
    "    axes[1].plot(sol[0],sol[2]*nu_weight[1],linewidth=2.0,color='black',linestyle='dashed')  \n",
    "    axes[1].plot(sol[0],sol[2]*nu_weight[2],linewidth=2.0,color='black',linestyle='dashed')  \n",
    "    \n",
    "    axes[1].set_yscale('log')\n",
    "    axes[1].set_xscale('log')\n",
    "    axes[1].set_ylabel(ylabel2, size=30)\n",
    "    axes[1].set_ylim(1.e-6,0.7)    \n",
    "    axes[1].yaxis.set_tick_params(labelsize=25)\n",
    "    axes[1].xaxis.set_tick_params(labelsize=25)\n",
    "    axes[1].legend(loc=[0.3,0.001],frameon=False,fontsize = 22)\n",
    "\n",
    "\n",
    "    plt.savefig(filename)\n",
    "    plt.clf()\n"
   ]
  },
  {
   "cell_type": "code",
   "execution_count": 5,
   "metadata": {},
   "outputs": [],
   "source": [
    "def MakeImages(data, vx_cart, vy_cart, minval, maxval, vlim1, vlim2, xmin, xmax, ymin, ymax,\n",
    "               xgrid,ygrid,label1,label2,time,outputname,vel=0,figtype=0,logscale=1,\n",
    "               cmap='jet'):\n",
    "    plots, axes = plt.subplots(2,1,figsize=(8,8),dpi=300, sharex=True)\n",
    "    plt.subplots_adjust(left=0.13,right=0.82,top=0.98,bottom=0.05,hspace=0.0)\n",
    "\n",
    "\n",
    "#    plt.xlabel('$ x$', size = 30)\n",
    "#    plt.ylabel('$ y$', size = 30)      \n",
    "\n",
    "    if time is not None:\n",
    "        plt.title(time,size=30,y=1.02)\n",
    "\n",
    "    \n",
    "    if vel>0:\n",
    "        speed=np.sqrt(vx_cart**2+vy_cart**2)\n",
    "        if vlim2 < vlim1:\n",
    "            vlim2=speed.max()\n",
    "        speed=np.clip(speed,vlim1,vlim2)\n",
    "        logspeed=np.log10(speed)\n",
    "        vcolor=axes[0].imshow(speed,cmap=cmap,norm=LogNorm(vmin=vlim1,vmax=vlim2),\n",
    "                              origin='lower', extent=[xmin,xmax,ymin,ymax])\n",
    "\n",
    "\n",
    "\n",
    "        velfield=axes[0].streamplot(xgrid,ygrid,vx_cart,vy_cart,cmap='jet',\n",
    "                                    density=0.5,arrowsize=3.0)\n",
    "        \n",
    "    if logscale > 0:\n",
    "#      im = axes.imshow(data_cart,cmap='RdGy_r', norm=LogNorm(vmin = minval, vmax=maxval), \n",
    "        im = axes[0].imshow(data[0],cmap=cmap, norm=LogNorm(vmin = minval[0], vmax=maxval[0]),\n",
    "                          origin='lower', extent=[xmin,xmax,ymin,ymax])\n",
    "    else:\n",
    "        im = axes[0].imshow(data[0],cmap=cmap, vmin = minval[0], vmax=maxval[0], \n",
    "                            origin='lower', extent=[xmin,xmax,ymin,ymax])   \n",
    "\n",
    "    axes[0].set_yticks([0.3,0.2,0.1,0,-0.1,-0.2]) \n",
    "    axes[0].tick_params(labelsize=20)\n",
    "#    axes[0].set_ylabel('$E_r$',size=30)\n",
    "\n",
    "    cbaxes = plots.add_axes([0.83,0.55,0.03,0.35])\n",
    "\n",
    "    cbar=plots.colorbar(im,cax=cbaxes)\n",
    "    cbar.set_label(label1, size=30)\n",
    "#    cbar.ax.set_yticklabels([0,100,200,300,400])\n",
    "    cbar.ax.tick_params(labelsize=15)\n",
    "\n",
    "\n",
    "    if logscale > 0:\n",
    "#      im = axes.imshow(data_cart,cmap='RdGy_r', norm=LogNorm(vmin = minval, vmax=maxval), \\\n",
    "        im = axes[1].imshow(data[1],cmap=cmap, norm=LogNorm(vmin = minval[1], vmax=maxval[1]), \n",
    "                            origin='lower', extent=[xmin,xmax,ymin,ymax])\n",
    "    else:\n",
    "        im = axes[1].imshow(data[1],cmap=cmap, vmin = minval[1], vmax=maxval[1], \n",
    "                            origin='lower', extent=[xmin,xmax,ymin,ymax])   \n",
    "\n",
    "    axes[1].set_yticks([0.3,0.2,0.1,0,-0.1,-0.2]) \n",
    "    axes[1].tick_params(labelsize=20)\n",
    "#    axes[1].set_ylabel('$f_{xx}$',size=30)\n",
    "    cbaxes = plots.add_axes([0.83,0.1,0.03,0.35])\n",
    "\n",
    "    cbar=plots.colorbar(im,cax=cbaxes)\n",
    "    cbar.set_label(label2, size=30)\n",
    "#    cbar.ax.set_yticklabels([0,100,200,300,400])\n",
    "    cbar.ax.tick_params(labelsize=15)\n",
    "\n",
    "\n",
    "    \n",
    "#    axes.set_aspect('auto')\n",
    "    plt.savefig(outputname)\n",
    "    plt.close(plots)\n",
    "\n"
   ]
  },
  {
   "cell_type": "code",
   "execution_count": 6,
   "metadata": {},
   "outputs": [],
   "source": [
    "gamma=5.0/3.0\n",
    "file1='Data/shadow.out4.00031.athdf'\n",
    "\n",
    "with h5py.File(file1, 'r') as f:\n",
    "  attributes = f.attrs.items()\n",
    "  attrs = dict(attributes)\n",
    "  level = f.attrs['MaxLevel']\n",
    "  time1 = f.attrs['Time']\n",
    "  subsample = False\n",
    "\n",
    "  data1 = athena_read.athdf(file1,level=level, subsample=subsample)\n"
   ]
  },
  {
   "cell_type": "code",
   "execution_count": 7,
   "metadata": {},
   "outputs": [],
   "source": [
    "nx1 = attrs['RootGridSize'][0] * 2**level\n",
    "nx2 = attrs['RootGridSize'][1] * 2**level\n",
    "nx3 = attrs['RootGridSize'][2] * 2**level\n",
    "x1f = data1['x1f']\n",
    "x2f = data1['x2f']\n",
    "x3f = data1['x3f']\n",
    "x1v = data1['x1v'] \n",
    "x2v = data1['x2v']\n",
    "x3v = data1['x3v']\n",
    "vol = np.zeros((nx3,nx2,nx1))\n"
   ]
  },
  {
   "cell_type": "code",
   "execution_count": 8,
   "metadata": {},
   "outputs": [
    {
     "name": "stdout",
     "output_type": "stream",
     "text": [
      "[b'rho' b'press' b'vel1' b'vel2' b'vel3' b'Er_0' b'Fr_0_1' b'Fr_0_2'\n",
      " b'Fr_0_3' b'Pr_0_11' b'Pr_0_22' b'Pr_0_33' b'Pr_0_12' b'Pr_0_13'\n",
      " b'Pr_0_23' b'Pr_0_21' b'Pr_0_31' b'Pr_0_32' b'Er0_0' b'Fr0_0_1'\n",
      " b'Fr0_0_2' b'Fr0_0_3' b'Er_1' b'Fr_1_1' b'Fr_1_2' b'Fr_1_3' b'Pr_1_11'\n",
      " b'Pr_1_22' b'Pr_1_33' b'Pr_1_12' b'Pr_1_13' b'Pr_1_23' b'Pr_1_21'\n",
      " b'Pr_1_31' b'Pr_1_32' b'Er0_1' b'Fr0_1_1' b'Fr0_1_2' b'Fr0_1_3'\n",
      " b'Sigma_s_0' b'Sigma_a_0' b'Sigma_p_0' b'Sigma_s_1' b'Sigma_a_1'\n",
      " b'Sigma_p_1']\n"
     ]
    }
   ],
   "source": [
    "print(data1['VariableNames'])"
   ]
  },
  {
   "cell_type": "code",
   "execution_count": 9,
   "metadata": {},
   "outputs": [],
   "source": [
    "for k in range(nx3):\n",
    "    for j in range(nx2):\n",
    "        for i in range(nx1):\n",
    "            vol[k,j,i]=vol_func(x1f[i],x1f[i+1],x2f[j],x2f[j+1],x3f[k],x3f[k+1])"
   ]
  },
  {
   "cell_type": "code",
   "execution_count": 10,
   "metadata": {},
   "outputs": [],
   "source": [
    "#for filename in files:\n",
    "ang_file = open('Data/Rad_angles.txt', 'r')\n",
    "Lines = ang_file.readlines()\n",
    "angle_line = [ line for line in Lines if  \"tau_scheme\" in line]\n",
    "angle_line=angle_line[0]\n",
    "\n",
    "prat_line = [ line for line in Lines if  \"Prat\" in line]\n",
    "prat_line=prat_line[0]\n",
    "prat_split=prat_line.split(\" \")\n",
    "Prat=float(prat_split[size(prat_split)-2])\n",
    "\n",
    "\n",
    "crat_line = [ line for line in Lines if  \"Crat\" in line]\n",
    "crat_line=crat_line[0]\n",
    "Crat_split=crat_line.split(\" \")\n",
    "Crat=float(Crat_split[size(Crat_split)-2])\n",
    "\n",
    "\n",
    "angle_index=Lines.index(angle_line)+1\n",
    "location=Lines.index('fre   spec\\n')\n",
    "tot_line=size(Lines)\n",
    "nfreq=tot_line-location-1\n",
    "nu_grid=np.zeros(nfreq)\n",
    "nu_weight=np.zeros(nfreq)\n",
    "for i in range(nfreq):\n",
    "    line=Lines[i+location+1].split(' ')\n",
    "    nu_grid[i]=float(line[0])\n",
    "    nu_weight[i]=float(line[3])\n",
    "\n",
    "nu_center=np.zeros(nfreq-1)\n",
    "nu_center[:]=(nu_grid[:-1]+nu_grid[1:])/2\n",
    "\n",
    "nu_plot=np.zeros(nfreq)\n",
    "nu_plot[:-1]=nu_center\n",
    "nu_plot[nfreq-1]=nu_grid[nfreq-1]\n",
    "\n",
    "#nu_center=np.append(nu_center,nu_grid[nfreq-1])\n",
    "nang=location-angle_index\n",
    "mu_x=np.zeros(nang)\n",
    "mu_y=np.zeros(nang)\n",
    "mu_z=np.zeros(nang)\n",
    "weight=np.zeros(nang)\n",
    "for n in range(nang):\n",
    "    line=Lines[n+angle_index].split('   ')\n",
    "    mu_x[n]=float(line[1])\n",
    "    mu_y[n]=float(line[2])\n",
    "    mu_z[n]=float(line[3])\n",
    "    weight[n]=float(line[4].rstrip())"
   ]
  },
  {
   "cell_type": "code",
   "execution_count": 11,
   "metadata": {},
   "outputs": [],
   "source": [
    "rho1=data1['rho']\n",
    "pg1=data1['press']\n",
    "vx1=data1['vel1'][0,:,:]\n",
    "vy1=data1['vel2'][0,:,:]\n",
    "vz1=data1['vel3'][0,:,:]\n",
    "\n",
    "\n",
    "er_f0=np.zeros((nx2,nx1))\n",
    "er_f1=np.zeros((nx2,nx1))\n"
   ]
  },
  {
   "cell_type": "code",
   "execution_count": 21,
   "metadata": {},
   "outputs": [
    {
     "name": "stdout",
     "output_type": "stream",
     "text": [
      "(256, 512)\n",
      "(512,)\n"
     ]
    },
    {
     "data": {
      "image/png": "[encoded data removed]",
      "text/plain": [
       "<Figure size 432x288 with 1 Axes>"
      ]
     },
     "metadata": {
      "needs_background": "light"
     },
     "output_type": "display_data"
    },
    {
     "data": {
      "text/plain": [
       "0.06081006262521797"
      ]
     },
     "execution_count": 21,
     "metadata": {},
     "output_type": "execute_result"
    }
   ],
   "source": [
    "sigma1=data1['Sigma_a_1'][0,:,:]\n",
    "x1v[1]-x1v[0]\n",
    "print(np.shape(sigma1))\n",
    "print(np.shape(x1v))\n",
    "%matplotlib inline\n",
    "plt.plot(x1v,sigma1[128,:])\n",
    "plt.show()\n",
    "np.sum(sigma1[128,:])*(x1v[1]-x1v[0])\n",
    "exp(-2.8)"
   ]
  },
  {
   "cell_type": "code",
   "execution_count": 12,
   "metadata": {},
   "outputs": [],
   "source": [
    "j=0\n",
    "varname='Er_'+str(j)\n",
    "er_f0[:,:]=data1[varname][0,:,:]\n",
    "j=1\n",
    "varname='Er_'+str(j)\n",
    "er_f1[:,:]=data1[varname][0,:,:]\n"
   ]
  },
  {
   "cell_type": "code",
   "execution_count": 13,
   "metadata": {},
   "outputs": [],
   "source": [
    "data=[er_f0,er_f1]\n",
    "vlim1=0.1\n",
    "vlim2=10.0\n",
    "label1='$E_{r,0}$'\n",
    "label2='$E_{r,1}$'\n",
    "outputname='shadow_multigroup.pdf'\n",
    "minEr=[1.e-4,100]\n",
    "maxEr=[1,1500]\n",
    "MakeImages(data, vx1, vy1, minEr,maxEr, vlim1,vlim2, -0.5, 0.5, -0.3, 0.3,\n",
    "              x1v,x2v,label1,label2,None,outputname,0,figtype=1,logscale=1,cmap='inferno')\n"
   ]
  },
  {
   "cell_type": "code",
   "execution_count": 26,
   "metadata": {},
   "outputs": [
    {
     "name": "stdout",
     "output_type": "stream",
     "text": [
      "140.8665313720703\n",
      "1293.4439697265625\n",
      "0.00010001642658608034\n",
      "0.4311254918575287\n"
     ]
    }
   ],
   "source": [
    "print(np.min(er_f1))\n",
    "print(np.max(er_f1))\n",
    "print(np.min(er_f0))\n",
    "print(np.max(er_f0))"
   ]
  },
  {
   "cell_type": "code",
   "execution_count": null,
   "metadata": {},
   "outputs": [],
   "source": []
  }
 ],
 "metadata": {
  "kernelspec": {
   "display_name": "Python 3 (ipykernel)",
   "language": "python",
   "name": "python3"
  },
  "language_info": {
   "codemirror_mode": {
    "name": "ipython",
    "version": 3
   },
   "file_extension": ".py",
   "mimetype": "text/x-python",
   "name": "python",
   "nbconvert_exporter": "python",
   "pygments_lexer": "ipython3",
   "version": "3.9.7"
  }
 },
 "nbformat": 4,
 "nbformat_minor": 2
}
