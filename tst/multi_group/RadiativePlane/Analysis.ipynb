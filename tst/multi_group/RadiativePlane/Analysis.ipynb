{
 "cells": [
  {
   "cell_type": "code",
   "execution_count": 1,
   "metadata": {},
   "outputs": [
    {
     "name": "stderr",
     "output_type": "stream",
     "text": [
      "/var/folders/2n/ftypqy6s65s2j7krblnn49cw0000gq/T/ipykernel_94719/2225137914.py:30: MatplotlibDeprecationWarning: Support for setting the 'text.latex.preamble' or 'pgf.preamble' rcParam to a list of strings is deprecated since 3.3 and will be removed two minor releases later; set it to a single string instead.\n",
      "  plt.rcParams['text.latex.preamble'] = [r'\\usepackage{sfmath} \\boldmath']\n"
     ]
    }
   ],
   "source": [
    "import matplotlib\n",
    "matplotlib.use('Agg')\n",
    "%matplotlib inline\n",
    "import sys\n",
    "sys.settrace\n",
    "import numpy as np\n",
    "import matplotlib.pyplot as plt\n",
    "from matplotlib.colors import LogNorm\n",
    "from pylab import *\n",
    "import struct\n",
    "import array\n",
    "import os\n",
    "import glob\n",
    "import h5py\n",
    "from scipy.interpolate import griddata\n",
    "from scipy import integrate\n",
    "from scipy import special\n",
    "\n",
    "plt.rcParams.update({\n",
    "    \"text.usetex\": True,\n",
    "    \"font.family\": \"sans-serif\",\n",
    "    \"font.sans-serif\": [\"Helvetica\"]})\n",
    "# for Palatino and other serif fonts use:\n",
    "#plt.rcParams.update({\n",
    "#    \"text.usetex\": True,\n",
    "#    \"font.family\": \"serif\",\n",
    "#    \"font.serif\": [\"Palatino\"],\n",
    "#})\n",
    "\n",
    "plt.rcParams['text.latex.preamble'] = [r'\\usepackage{sfmath} \\boldmath']\n",
    "plt.rcParams['font.size'] = '20'\n",
    "\n",
    "from importlib import reload"
   ]
  },
  {
   "cell_type": "code",
   "execution_count": 2,
   "metadata": {},
   "outputs": [],
   "source": [
    "import athena_read"
   ]
  },
  {
   "cell_type": "code",
   "execution_count": 3,
   "metadata": {},
   "outputs": [],
   "source": [
    "#This is the integral of blackbody from 0 to nu_t (h\\nu/kT)\n",
    "def FitBlackBody(nu_t):\n",
    "    integral = 0.0;\n",
    "    nu_2 = nu_t * nu_t;\n",
    "    nu_3 = nu_t * nu_2;\n",
    "    nu_7 = nu_2 * nu_2 * nu_3\n",
    "    if nu_t < 1.8:\n",
    "        integral = 0.051329911273422 * nu_3 -0.019248716727533 * nu_t * nu_3 + 0.002566495563671 * nu_2 * nu_3\n",
    "        -3.055351861513195*1.e-5*nu_7\n",
    "    elif nu_t < 18.6:\n",
    "        exp_nu = exp(-nu_t);\n",
    "        integral = -0.156915538762850 * exp_nu * (nu_3 + 2.69 * nu_2 + 6.714 * nu_t) + 1.000009331428801*(1- exp_nu);\n",
    "    else:\n",
    "        integral = 1.0 - 192.1*exp(-0.9014*nu_t)\n",
    "\n",
    "    return integral;\n",
    "#This is the blackbody spectrum for each frequency nu_t (h\\nu/kT)\n",
    "def BlackBody(nu, tr):\n",
    "    nu_t=nu/tr\n",
    "    exp_1=exp(nu_t)-1\n",
    "    if nu_t < 1.e-5:\n",
    "      exp_1=tr**3.0*nu_t**2.0\n",
    "    else:\n",
    "      exp_1=nu**3.0/exp_1\n",
    "\n",
    "    spec=(15/np.pi**4.0)*exp_1\n",
    "\n",
    "    return spec;"
   ]
  },
  {
   "cell_type": "code",
   "execution_count": 46,
   "metadata": {},
   "outputs": [],
   "source": [
    "def PlotProfile(datax, datay, xmin, xmax, ymin, ymax,  ylabel, label1, filename, xlabel='$r/r_g$', logscale=0, \n",
    "                xlogscale=0,datay1_2=None, datay1_3=None, datax2=None, datay2=None, datay2_2=None, datay2_3=None, \n",
    "                datax3=None, datay3=None, datay3_2=None, datay3_3=None, datax4=None, datay4=None, \n",
    "                datax5=None, datay5=None, label2='', label3='', label4='', label5='',title=None,leg_loc=None):\n",
    "    plots, axes = plt.subplots(figsize=(9,9),dpi=300)\n",
    "    plt.xlabel(xlabel, size = 30)\n",
    "    plt.ylabel(ylabel, size = 30)\n",
    "    plt.subplots_adjust(left=0.16,right=0.88,top=0.9,bottom=0.1)\n",
    "    plt.ylim([ymin,ymax])\n",
    "    plt.xlim([xmin,xmax])\n",
    "    if logscale > 0:\n",
    "      axes.set_yscale('log')\n",
    "    if xlogscale > 0:\n",
    "      axes.set_xscale('log')\n",
    "    if title is not None:\n",
    "      plt.title(title,size=20)\n",
    "\n",
    "    plt.plot(datax,datay,color='black',linestyle='solid',label=label1,linewidth=3.0,marker='o',mfc='None',ms=10)\n",
    "#    plt.plot(datax,datay,color='black',linestyle='dashed',label=label1,linewidth=3.0)\n",
    "    if datay1_2 is not None:\n",
    "      plt.scatter(datax,datay1_2,marker='o',s=60,facecolors='none', edgecolors='red')\n",
    "    if datay1_3 is not None:\n",
    "      plt.plot(datax,datay1_3,color='black',linestyle='dashed',linewidth=4.0)\n",
    "    if datay2 is not None:\n",
    "      plt.scatter(datax2,datay2,color='red',marker='o',s=60,facecolors='none',edgecolors='red',\n",
    "                  label=label2,alpha=1.0,linewidth=3.0)\n",
    "    if datay2_2 is not None:\n",
    "      plt.plot(datax2,datay2_2,color='black',linestyle='dashed',linewidth=2.0,alpha=1.0)\n",
    "    if datay2_3 is not None:\n",
    "      plt.plot(datax2,datay2_3,color='red',linestyle='dashed',linewidth=4.0)\n",
    "    if datay3 is not None:\n",
    "      plt.plot(datax3,datay3,color='green',label=label3,linewidth=3.0)\n",
    "    if datay3_2 is not None:\n",
    "      plt.plot(datax3,datay3_2,color='black',linestyle='dashed',linewidth=2.0,alpha=1.0)\n",
    "    if datay3_3 is not None:\n",
    "      plt.plot(datax3,datay3_3,color='green',linestyle='dashed',linewidth=4.0)\n",
    "    if datay4 is not None:\n",
    "      plt.plot(datax4,datay4,color='blue',label=label4,linewidth=3.0)\n",
    "    if datay5 is not None:\n",
    "      plt.plot(datax5,datay5,color=tableau20[0],label=label5,linewidth=2.0) \n",
    "    if leg_loc is not None:\n",
    "      plt.legend(loc=\"best\",bbox_to_anchor=leg_loc,frameon=False)\n",
    "    axes.set_aspect('auto')\n",
    "#    axes.yaxis.set_tick_params(labelsize=25)\n",
    "#    axes.xaxis.set_tick_params(labelsize=25)\n",
    "    plt.savefig(filename)\n",
    "    plt.close(plots)\n"
   ]
  },
  {
   "cell_type": "code",
   "execution_count": 5,
   "metadata": {},
   "outputs": [],
   "source": [
    "files=sorted(glob.glob('Data/thermal.out4.*athdf'))\n",
    "num_file=len(files)"
   ]
  },
  {
   "cell_type": "code",
   "execution_count": 6,
   "metadata": {},
   "outputs": [],
   "source": [
    "#for filename in files:\n",
    "ang_file = open('Data/Rad_angles.txt', 'r')\n",
    "Lines = ang_file.readlines()\n",
    "angle_line = [ line for line in Lines if  \"nu_max\" in line]\n",
    "angle_line=angle_line[0]\n",
    "crat_line = [ line for line in Lines if  \"Crat\" in line]\n",
    "crat_line=crat_line[0]\n",
    "Crat_split=crat_line.split(\" \")\n",
    "Crat=float(Crat_split[size(Crat_split)-2])\n",
    "angle_index=Lines.index(angle_line)+1\n",
    "location=Lines.index('fre   spec\\n')\n",
    "tot_line=size(Lines)\n",
    "nfreq=tot_line-location-1\n",
    "nu_grid=np.zeros(nfreq)\n",
    "histories=np.zeros((num_file,52))\n",
    "for i in range(nfreq):\n",
    "    line=Lines[i+location+1].split(' ')[0]\n",
    "    nu_grid[i]=float(line)\n",
    "\n",
    "nu_center=np.zeros(nfreq)\n",
    "nu_center[:-1]=(nu_grid[:-1]+nu_grid[1:])/2\n",
    "nu_center[nfreq-1]=nu_grid[nfreq-1]\n",
    "nu_width=np.zeros(nfreq-1)\n",
    "nu_width=nu_grid[1:]-nu_grid[:-1]\n",
    "#nu_center=np.append(nu_center,nu_grid[nfreq-1])\n",
    "nang=location-angle_index\n",
    "mu_x=np.zeros(nang)\n",
    "mu_y=np.zeros(nang)\n",
    "mu_z=np.zeros(nang)\n",
    "weight=np.zeros(nang)\n",
    "for n in range(nang):\n",
    "    line=Lines[n+angle_index].split('   ')\n",
    "    mu_x[n]=float(line[1])\n",
    "    mu_y[n]=float(line[2])\n",
    "    mu_z[n]=float(line[3])\n",
    "    weight[n]=float(line[4].rstrip())"
   ]
  },
  {
   "cell_type": "code",
   "execution_count": 7,
   "metadata": {},
   "outputs": [
    {
     "name": "stdout",
     "output_type": "stream",
     "text": [
      "Data/thermal.out4.00001.athdf\n",
      "5.2116e-05\n"
     ]
    }
   ],
   "source": [
    "Prat=0\n",
    "#Crat=8.0534e4\n",
    "count=0\n",
    "#filename=files[num_file-1]\n",
    "filename=files[num_file-1]\n",
    "print(filename)\n",
    "with h5py.File(filename, 'r') as f:\n",
    "  attributes = f.attrs.items()\n",
    "  attrs = dict(attributes)\n",
    "  level = f.attrs['MaxLevel']\n",
    "  time_data = f.attrs['Time']\n",
    "  subsample = False\n",
    "\n",
    "data = athena_read.athdf(filename, level=level, subsample=subsample)\n",
    "print(time_data)"
   ]
  },
  {
   "cell_type": "code",
   "execution_count": 8,
   "metadata": {},
   "outputs": [],
   "source": [
    "x1v=data['x1v']\n",
    "dx=x1v[1]-x1v[0]\n",
    "Er_spec=np.zeros(nfreq)\n",
    "Fr_spec=np.zeros(nfreq)\n",
    "Er_i_spec=np.zeros(nfreq)\n",
    "Fr_i_spec=np.zeros(nfreq)\n",
    "\n",
    "\n",
    "\n",
    "meshsize=data['RootGridSize']\n",
    "nx=meshsize[0]\n",
    "ny=meshsize[1]\n",
    "\n",
    "Er_profile=np.zeros((nfreq,nx))\n",
    "sigma_spe=np.zeros(nfreq)\n",
    "Er_sum=np.zeros(nx)\n",
    "\n",
    "\n",
    "select_index=np.argmin(np.abs(x1v-0.04))\n",
    "\n",
    "for i in range(nfreq):\n",
    "    varname='Er_'+str(i)\n",
    "    Er_spec[i]=data[varname][0,0,select_index]\n",
    "    Er_i_spec[i]=data[varname][0,0,0]\n",
    "    Er_profile[i,:]=data[varname][0,0,:]\n",
    "    varname='Fr_'+str(i)+'_1'\n",
    "    Fr_spec[i]=data[varname][0,0,select_index]\n",
    "    Fr_i_spec[i]=data[varname][0,0,0]  \n",
    "    Er_sum=Er_sum+Er_profile[i,:]\n",
    "    varname='Sigma_a_'+str(i)\n",
    "    sigma_spe[i]=data[varname][0,0,select_index]\n",
    "#divide frequeny bin width to get monochromatic value\n",
    "for i in range(nfreq-1):\n",
    "    Er_spec[i]=Er_spec[i]/nu_width[i]\n",
    "    \n",
    "Er_spec=Er_spec[:-1]\n",
    "\n",
    "nu_plot=nu_center[:-1]\n"
   ]
  },
  {
   "cell_type": "code",
   "execution_count": 9,
   "metadata": {
    "scrolled": true
   },
   "outputs": [
    {
     "data": {
      "text/plain": [
       "[<matplotlib.lines.Line2D at 0x7fc4b2d2cfa0>]"
      ]
     },
     "execution_count": 9,
     "metadata": {},
     "output_type": "execute_result"
    },
    {
     "data": {
      "image/png": "[encoded data removed]",
      "text/plain": [
       "<Figure size 432x288 with 1 Axes>"
      ]
     },
     "metadata": {
      "needs_background": "light"
     },
     "output_type": "display_data"
    }
   ],
   "source": [
    "plt.cla()\n",
    "#plt.loglog(x1v,Er_sum)\n",
    "plt.loglog(nu_center,sigma_spe)"
   ]
  },
  {
   "cell_type": "code",
   "execution_count": 15,
   "metadata": {},
   "outputs": [
    {
     "data": {
      "text/plain": [
       "(1e-10, 0.0001)"
      ]
     },
     "execution_count": 15,
     "metadata": {},
     "output_type": "execute_result"
    },
    {
     "data": {
      "image/png": "[encoded data removed]",
      "text/plain": [
       "<Figure size 432x288 with 1 Axes>"
      ]
     },
     "metadata": {
      "needs_background": "light"
     },
     "output_type": "display_data"
    }
   ],
   "source": [
    "plt.loglog(nu_plot,Er_spec) \n",
    "plt.ylim((1.e-10,1.e-4))\n"
   ]
  },
  {
   "cell_type": "code",
   "execution_count": 36,
   "metadata": {},
   "outputs": [
    {
     "name": "stdout",
     "output_type": "stream",
     "text": [
      "0.042005496005003806 0.02015989601612091 0.03482552581118689\n"
     ]
    },
    {
     "name": "stderr",
     "output_type": "stream",
     "text": [
      "/var/folders/2n/ftypqy6s65s2j7krblnn49cw0000gq/T/ipykernel_94719/477239501.py:20: RuntimeWarning: overflow encountered in exp\n",
      "  exp_1=exp(nu_t)-1\n"
     ]
    }
   ],
   "source": [
    "###analytical solution\n",
    "t_lbd=0.3\n",
    "t_rbd=0.03\n",
    "r_in=0.02\n",
    "dis=x1v[select_index]\n",
    "def int_fun(u):\n",
    "    return np.exp(-u)/u\n",
    "def solution(d,ct,nu_n):\n",
    "    nu=nu_center[nu_n]\n",
    "    bd_tl=BlackBody(nu,t_lbd)\n",
    "    bd_tr=BlackBody(nu,t_rbd)\n",
    "    sigma_nu=sigma_spe[nu_n]\n",
    "    dist=d-r_in\n",
    "    dist2=(d**2.0-r_in**2.0)**0.5\n",
    "    tau_rin=sigma_nu*r_in\n",
    "    tau_ct=sigma_nu*ct\n",
    "    tau_d=sigma_nu*dist\n",
    "    tau_d2=sigma_nu*dist2\n",
    "    factor=0\n",
    "    if (ct>d-r_in) and (ct < (d**2.0-r_in**2.0)**0.5):\n",
    "        part1=(1+d/r_in-1/tau_rin)*np.exp(-tau_d)\n",
    "        part2=(1/tau_rin-(r_in/ct)*(r**2/r_in**2-1))*np.exp(-tau_ct)\n",
    "        part3=tau_rin*(r**2.0/r_in**2.0-1)*(integrate.quad(int_fun,tau_d,tau_ct)[0])\n",
    "        factor=(r_in*0.25/d)*(part1+part2-part3)\n",
    "    elif (ct > (d**2.0-r_in**2.0)**0.5):\n",
    "        part1=(1+d/r_in-1/tau_rin)*np.exp(-tau_d)\n",
    "        part2=(1/tau_rin-(d**2.0/r_in**2.0-1)**0.5)*np.exp(-tau_d2)\n",
    "        part3=tau_rin*(d**2.0/r_in**2.0-1)*(integrate.quad(int_fun,tau_d,tau_d2)[0])\n",
    "        factor=(r_in*0.25/d)*(part1+part2-part3)\n",
    "    return (bd_tr+(bd_tl-bd_tr)*factor)\n",
    "ana_sol=np.zeros(nfreq)\n",
    "bd_lowt=np.zeros(nfreq)\n",
    "ct=Crat*time_data\n",
    "\n",
    "print(ct,dis-r_in,(dis**2.0-r_in**2.0)**0.5)\n",
    "for n in range(nfreq):\n",
    "    ana_sol[n]=solution(dis,ct,n) \n",
    "    bd_lowt[n]=BlackBody(nu_center[n],t_rbd)\n",
    "    \n",
    "    "
   ]
  },
  {
   "cell_type": "code",
   "execution_count": 43,
   "metadata": {},
   "outputs": [
    {
     "data": {
      "text/plain": [
       "0.042005496005003806"
      ]
     },
     "execution_count": 43,
     "metadata": {},
     "output_type": "execute_result"
    }
   ],
   "source": [
    "ct"
   ]
  },
  {
   "cell_type": "code",
   "execution_count": 23,
   "metadata": {},
   "outputs": [
    {
     "data": {
      "text/plain": [
       "(1e-10, 0.01)"
      ]
     },
     "execution_count": 23,
     "metadata": {},
     "output_type": "execute_result"
    },
    {
     "data": {
      "image/png": "[encoded data removed]",
      "text/plain": [
       "<Figure size 432x288 with 1 Axes>"
      ]
     },
     "metadata": {
      "needs_background": "light"
     },
     "output_type": "display_data"
    }
   ],
   "source": [
    "plt.loglog(nu_center,ana_sol)\n",
    "plt.ylim((1.e-10,1.e-2))"
   ]
  },
  {
   "cell_type": "code",
   "execution_count": 45,
   "metadata": {},
   "outputs": [],
   "source": [
    "ylabel='${E_r(\\\\tilde{\\\\nu})}$'\n",
    "filename='spectrum_spherical.pdf'\n",
    "xlabel='$\\\\tilde{\\\\nu}$'\n",
    "label1='${\\\\rm Analytical}$'\n",
    "label2='${\\\\rm Numerical}$'\n",
    "\n",
    "#print(histories[:,0])\n",
    "PlotProfile(nu_center,ana_sol,1.e-3, 1.e1, 1.e-10,1.e-4, ylabel, label1, filename, xlabel, logscale=1,xlogscale=1,\n",
    "           datax2=nu_plot,datay2=Er_spec,label2=label2,leg_loc=(0.4,0.95))\n"
   ]
  },
  {
   "cell_type": "code",
   "execution_count": 47,
   "metadata": {},
   "outputs": [],
   "source": [
    "ylabel='${\\\\rho\\\\kappa_a(\\\\tilde{\\\\nu})}$'\n",
    "filename='radiating_opacity.pdf'\n",
    "xlabel='$\\\\tilde{\\\\nu}$'\n",
    "\n",
    "\n",
    "#print(histories[:,0])\n",
    "PlotProfile(nu_center,sigma_spe,1.e-3, 4.e1, 4.e-1,1.1e5, ylabel, None, filename, xlabel, logscale=1,xlogscale=1)"
   ]
  },
  {
   "cell_type": "code",
   "execution_count": 73,
   "metadata": {},
   "outputs": [],
   "source": [
    "ylabel='$\\\\rm T_r(\\\\nu)$'\n",
    "filename='radial_profile.pdf'\n",
    "xlabel='$x$'\n",
    "\n",
    "#print(histories[:,0])\n",
    "PlotProfile(x1v,Er_profile[0,:]**0.25,0, 1, 1.e-5, 1, ylabel, None, filename, xlabel, logscale=1,xlogscale=0,\n",
    "            datax2=x1v,datay2=Er_profile[5,:]**0.25,datax3=x1v,datay3=Er_profile[10,:]**0.25,\n",
    "            datax4=x1v,datay4=Er_profile[12,:]**0.25)"
   ]
  },
  {
   "cell_type": "code",
   "execution_count": 93,
   "metadata": {},
   "outputs": [],
   "source": [
    "ylabel='$\\\\rm T_r(\\\\nu)$'\n",
    "filename='tau_radial_profile.pdf'\n",
    "xlabel='$x$'\n",
    "\n",
    "#print(histories[:,0])\n",
    "PlotProfile(x1v,tau_profile[0,:],0, 1, 1.e-6, 30, ylabel, None, filename, xlabel, logscale=1,xlogscale=0,\n",
    "            datay1_2=tau_profile[5,:],datax3=x1v,datay3=tau_profile[10,:],\n",
    "            datax4=x1v,datay4=tau_profile[12,:])"
   ]
  },
  {
   "cell_type": "code",
   "execution_count": null,
   "metadata": {},
   "outputs": [],
   "source": []
  }
 ],
 "metadata": {
  "kernelspec": {
   "display_name": "Python 3 (ipykernel)",
   "language": "python",
   "name": "python3"
  },
  "language_info": {
   "codemirror_mode": {
    "name": "ipython",
    "version": 3
   },
   "file_extension": ".py",
   "mimetype": "text/x-python",
   "name": "python",
   "nbconvert_exporter": "python",
   "pygments_lexer": "ipython3",
   "version": "3.9.7"
  }
 },
 "nbformat": 4,
 "nbformat_minor": 4
}
