{
 "cells": [
  {
   "cell_type": "code",
   "execution_count": 1,
   "metadata": {},
   "outputs": [
    {
     "name": "stderr",
     "output_type": "stream",
     "text": [
      "/var/folders/2n/ftypqy6s65s2j7krblnn49cw0000gq/T/ipykernel_7568/3957739208.py:22: MatplotlibDeprecationWarning: Support for setting an rcParam that expects a str value to a non-str value is deprecated since 3.5 and support will be removed two minor releases later.\n",
      "  plt.rcParams['text.latex.preamble'] = [r'\\usepackage{sfmath} \\boldmath']\n"
     ]
    }
   ],
   "source": [
    "import matplotlib\n",
    "matplotlib.use('Agg')\n",
    "\n",
    "import sys\n",
    "sys.settrace\n",
    "import numpy as np\n",
    "import matplotlib.pyplot as plt\n",
    "from matplotlib.colors import LogNorm\n",
    "from pylab import *\n",
    "import struct\n",
    "import array\n",
    "import os\n",
    "from scipy.interpolate import griddata\n",
    "\n",
    "import h5py\n",
    "\n",
    "plt.rcParams.update({\n",
    "    \"text.usetex\": True,\n",
    "    \"font.family\": \"sans-serif\",\n",
    "    \"font.sans-serif\": [\"Helvetica\"]})\n",
    "\n",
    "plt.rcParams['text.latex.preamble'] = [r'\\usepackage{sfmath} \\boldmath']\n",
    "plt.rcParams['font.size'] = '20'"
   ]
  },
  {
   "cell_type": "code",
   "execution_count": 2,
   "metadata": {},
   "outputs": [],
   "source": [
    "import athena_read"
   ]
  },
  {
   "cell_type": "code",
   "execution_count": 3,
   "metadata": {},
   "outputs": [],
   "source": [
    "vol_func = lambda rm,rp,thetam,thetap,phim,phip: \\\n",
    "            1.0/3.0*(rp**3-rm**3) * abs(np.cos(thetam)-np.cos(thetap)) * (phip-phim)\n",
    "rarea_func = lambda r,thetam,thetap, phim, phip: \\\n",
    "           r**2.0 * abs(np.cos(thetam)-np.cos(thetap)) * (phip-phim)\n",
    "tarea_func = lambda rm, rp, theta, phim, phip: \\\n",
    "          0.5*(rp**2.0 - rm**2.0)*np.sin(theta)*(phip - phim)\n",
    "parea_func = lambda rm, rp, thetam, thetap: \\\n",
    "          0.5*(rp**2.0 - rm**2.0)*abs(thetap - thetam)"
   ]
  },
  {
   "cell_type": "code",
   "execution_count": 4,
   "metadata": {},
   "outputs": [],
   "source": [
    "def PlotProfile2(data,sol,filename,ylabel1,ylabel2,label1=None,label2=None):\n",
    "    plots, axes = plt.subplots(2,1,figsize=(9,11),dpi=300,sharex=True)\n",
    "    plt.subplots_adjust(left=0.17,right=0.95,top=0.95,bottom=0.1,hspace=0.02)\n",
    "    plt.xlabel('$ r $', size = 30)\n",
    "    plt.xlim([0.4,10])\n",
    "    \n",
    "    nu_weight=sol[4]\n",
    "\n",
    "    axes[0].plot(data[0],data[4][0,:],linewidth=4.0,color='blue',alpha=0.5,label=label1)\n",
    "    axes[0].plot(data[0],data[4][1,:],linewidth=4.0,color='green',alpha=0.5,label='$E_{r,1}$')\n",
    "    axes[0].plot(data[0],data[4][2,:],linewidth=4.0,color='orange',alpha=0.5,label='$E_{r,2}$')\n",
    "    axes[0].plot(data[0],data[3]/data[1],linewidth=4.0,color='red',alpha=0.5,label=label2)\n",
    "    axes[0].plot(sol[0],sol[1]*nu_weight[0],linewidth=2.0,color='black',linestyle='dashed')\n",
    "    axes[0].plot(sol[0],sol[1]*nu_weight[1],linewidth=2.0,color='black',linestyle='dashed')\n",
    "    axes[0].plot(sol[0],sol[1]*nu_weight[2],linewidth=2.0,color='black',linestyle='dashed')\n",
    "    axes[0].plot(sol[0],sol[3]/sol[1],linewidth=2.0,color='black',linestyle='dashed')\n",
    "#    axes[0].set_xscale('log')\n",
    "    axes[0].set_ylabel(ylabel1, size=30)\n",
    "    axes[0].set_ylim(2.e-5,1.5)  \n",
    "    axes[0].set_yscale('log')  \n",
    "    axes[0].yaxis.set_tick_params(labelsize=25)\n",
    "\n",
    "    if label1 is not None:\n",
    "        axes[0].legend(loc=[0.01,0.001],frameon=False,fontsize = 22)\n",
    "\n",
    "#    axes[0].text(1.e-2, 2.3, '$a_rT_0^4/P_0=0.01$', dict(size=25,color='black'))\n",
    "#    axes[0].text(1.e-2, 2.1, '$a_rT_0^4/P_0=1$', dict(size=25,color='blue'))\n",
    "#    axes[0].text(1.e-2, 1.9, '$a_rT_0^4/P_0=10$', dict(size=25,color='red'))    \n",
    "\n",
    "\n",
    "    axes[1].plot(data[0],data[5][0,:],linewidth=4.0,color='blue',alpha=0.5,label='$F_{r,0}$')\n",
    "    axes[1].plot(data[0],data[5][1,:],linewidth=4.0,color='green',alpha=0.5,label='$F_{r,1}$')\n",
    "    axes[1].plot(data[0],data[5][2,:],linewidth=4.0,color='orange',alpha=0.5,label='$F_{r,2}$')    \n",
    "    axes[1].plot(sol[0],sol[2]*nu_weight[0],linewidth=2.0,color='black',linestyle='dashed')    \n",
    "    axes[1].plot(sol[0],sol[2]*nu_weight[1],linewidth=2.0,color='black',linestyle='dashed')  \n",
    "    axes[1].plot(sol[0],sol[2]*nu_weight[2],linewidth=2.0,color='black',linestyle='dashed')  \n",
    "    \n",
    "    axes[1].set_yscale('log')\n",
    "    axes[1].set_xscale('log')\n",
    "    axes[1].set_ylabel(ylabel2, size=30)\n",
    "    axes[1].set_ylim(1.e-6,0.7)    \n",
    "    axes[1].yaxis.set_tick_params(labelsize=25)\n",
    "    axes[1].xaxis.set_tick_params(labelsize=25)\n",
    "    axes[1].legend(loc=[0.3,0.001],frameon=False,fontsize = 22)\n",
    "\n",
    "\n",
    "    plt.savefig(filename)\n",
    "    plt.clf()\n"
   ]
  },
  {
   "cell_type": "code",
   "execution_count": 5,
   "metadata": {},
   "outputs": [],
   "source": [
    "def MakeImages(data, vx_cart, vy_cart, minval, maxval, vlim1, vlim2, xmin, xmax, ymin, ymax,\n",
    "               xgrid,ygrid,label1,label2,time,outputname,vel=0,figtype=0,logscale=1,\n",
    "               cmap='jet'):\n",
    "    plots, axes = plt.subplots(2,1,figsize=(8,8),dpi=300, sharex=True)\n",
    "    plt.subplots_adjust(left=0.13,right=0.82,top=0.98,bottom=0.05,hspace=0.0)\n",
    "\n",
    "\n",
    "#    plt.xlabel('$ x$', size = 30)\n",
    "#    plt.ylabel('$ y$', size = 30)      \n",
    "\n",
    "    if time is not None:\n",
    "        plt.title(time,size=30,y=1.02)\n",
    "\n",
    "    \n",
    "    if vel>0:\n",
    "        speed=np.sqrt(vx_cart**2+vy_cart**2)\n",
    "        if vlim2 < vlim1:\n",
    "            vlim2=speed.max()\n",
    "        speed=np.clip(speed,vlim1,vlim2)\n",
    "        logspeed=np.log10(speed)\n",
    "        vcolor=axes[0].imshow(speed,cmap=cmap,norm=LogNorm(vmin=vlim1,vmax=vlim2),\n",
    "                              origin='lower', extent=[xmin,xmax,ymin,ymax])\n",
    "\n",
    "\n",
    "\n",
    "        velfield=axes[0].streamplot(xgrid,ygrid,vx_cart,vy_cart,cmap='jet',\n",
    "                                    density=0.5,arrowsize=3.0)\n",
    "        \n",
    "    if logscale > 0:\n",
    "#      im = axes.imshow(data_cart,cmap='RdGy_r', norm=LogNorm(vmin = minval, vmax=maxval), \n",
    "        im = axes[0].imshow(data[0],cmap=cmap, norm=LogNorm(vmin = minval[0], vmax=maxval[0]),\n",
    "                          origin='lower', extent=[xmin,xmax,ymin,ymax])\n",
    "    else:\n",
    "        im = axes[0].imshow(data[0],cmap=cmap, vmin = minval[0], vmax=maxval[0], \n",
    "                            origin='lower', extent=[xmin,xmax,ymin,ymax])   \n",
    "\n",
    "    axes[0].set_yticks([0.3,0.2,0.1,0,-0.1,-0.2]) \n",
    "    axes[0].tick_params(labelsize=20)\n",
    "#    axes[0].set_ylabel('$E_r$',size=30)\n",
    "\n",
    "    cbaxes = plots.add_axes([0.83,0.55,0.03,0.35])\n",
    "\n",
    "    cbar=plots.colorbar(im,cax=cbaxes)\n",
    "    cbar.set_label(label1, size=30)\n",
    "#    cbar.ax.set_yticklabels([0,100,200,300,400])\n",
    "    cbar.ax.tick_params(labelsize=15)\n",
    "\n",
    "\n",
    "    if logscale > 0:\n",
    "#      im = axes.imshow(data_cart,cmap='RdGy_r', norm=LogNorm(vmin = minval, vmax=maxval), \\\n",
    "        im = axes[1].imshow(data[1],cmap=cmap, norm=LogNorm(vmin = minval[1], vmax=maxval[1]), \n",
    "                            origin='lower', extent=[xmin,xmax,ymin,ymax])\n",
    "    else:\n",
    "        im = axes[1].imshow(data[1],cmap=cmap, vmin = minval[1], vmax=maxval[1], \n",
    "                            origin='lower', extent=[xmin,xmax,ymin,ymax])   \n",
    "\n",
    "    axes[1].set_yticks([0.3,0.2,0.1,0,-0.1,-0.2]) \n",
    "    axes[1].tick_params(labelsize=20)\n",
    "#    axes[1].set_ylabel('$f_{xx}$',size=30)\n",
    "    cbaxes = plots.add_axes([0.83,0.1,0.03,0.35])\n",
    "\n",
    "    cbar=plots.colorbar(im,cax=cbaxes)\n",
    "    cbar.set_label(label2, size=30)\n",
    "#    cbar.ax.set_yticklabels([0,100,200,300,400])\n",
    "    cbar.ax.tick_params(labelsize=15)\n",
    "\n",
    "\n",
    "    \n",
    "#    axes.set_aspect('auto')\n",
    "    plt.savefig(outputname)\n",
    "    plt.close(plots)\n",
    "\n"
   ]
  },
  {
   "cell_type": "code",
   "execution_count": 6,
   "metadata": {},
   "outputs": [],
   "source": [
    "gamma=5.0/3.0\n",
    "file1='atmosphere.out4.00100.athdf'\n",
    "\n",
    "with h5py.File(file1, 'r') as f:\n",
    "  attributes = f.attrs.items()\n",
    "  attrs = dict(attributes)\n",
    "  level = f.attrs['MaxLevel']\n",
    "  time1 = f.attrs['Time']\n",
    "  subsample = False\n",
    "\n",
    "  data1 = athena_read.athdf(file1,level=level, subsample=subsample)\n"
   ]
  },
  {
   "cell_type": "code",
   "execution_count": 7,
   "metadata": {},
   "outputs": [],
   "source": [
    "nx1 = attrs['RootGridSize'][0] * 2**level\n",
    "nx2 = attrs['RootGridSize'][1] * 2**level\n",
    "nx3 = attrs['RootGridSize'][2] * 2**level\n",
    "x1f = data1['x1f']\n",
    "x2f = data1['x2f']\n",
    "x3f = data1['x3f']\n",
    "x1v = data1['x1v'] \n",
    "x2v = data1['x2v']\n",
    "x3v = data1['x3v']\n",
    "vol = np.zeros((nx3,nx2,nx1))\n"
   ]
  },
  {
   "cell_type": "code",
   "execution_count": 8,
   "metadata": {},
   "outputs": [
    {
     "name": "stdout",
     "output_type": "stream",
     "text": [
      "[b'rho' b'press' b'vel1' b'vel2' b'vel3' b'Er' b'Fr1' b'Fr2' b'Fr3'\n",
      " b'Pr11' b'Pr22' b'Pr33' b'Pr12' b'Pr13' b'Pr23' b'Pr21' b'Pr31' b'Pr32'\n",
      " b'Er0' b'Fr01' b'Fr02' b'Fr03' b'Sigma_s_0' b'Sigma_a_0' b'Sigma_p_0']\n"
     ]
    }
   ],
   "source": [
    "print(data1['VariableNames'])"
   ]
  },
  {
   "cell_type": "code",
   "execution_count": 9,
   "metadata": {},
   "outputs": [],
   "source": [
    "er=np.average(data1['Er'][0,:,:],axis=0)\n",
    "sigma_a=np.avearge(data1['Sigma_a_0'][0,:,:],axis=0)\n",
    "sigma_s=np.average(data1['Sigma_s_0'][0,:,:],axis=0)\n",
    "\n",
    "tau=np.zeros(nx1)"
   ]
  },
  {
   "cell_type": "code",
   "execution_count": 13,
   "metadata": {
    "scrolled": false
   },
   "outputs": [],
   "source": [
    "tau[nx1-1]=(x1f[nx1]-x1f[nx1-1])*(sigma_a[nx1-1]+sigma_s[nx1-1])\n",
    "for i in range(nx1-2,-1,-1):\n",
    "    tau[i]=tau[i+1]+(x1f[i+1]-x1f[i])*(sigma_a[i]+sigma_s[i])"
   ]
  },
  {
   "cell_type": "code",
   "execution_count": 22,
   "metadata": {},
   "outputs": [],
   "source": [
    "eps=np.mean(sigma_a/(sigma_s+sigma_a))\n",
    "jsol=1-np.exp(-(3*eps)**0.5*tau)/(1+eps**0.5)"
   ]
  },
  {
   "cell_type": "code",
   "execution_count": 27,
   "metadata": {},
   "outputs": [
    {
     "data": {
      "text/plain": [
       "Text(0, 0.5, '$E_r$')"
      ]
     },
     "execution_count": 27,
     "metadata": {},
     "output_type": "execute_result"
    },
    {
     "data": {
      "image/png": "[encoded data removed]",
      "text/plain": [
       "<Figure size 600x1200 with 1 Axes>"
      ]
     },
     "metadata": {
      "needs_background": "light"
     },
     "output_type": "display_data"
    }
   ],
   "source": [
    "%matplotlib inline\n",
    "plots, axes = plt.subplots(figsize=(2,4),dpi=300)\n",
    "axes.plot(tau,jsol,linestyle='dashed',linewidth=2)\n",
    "axes.plot(tau,er,linestyle='solid',color='red')\n",
    "axes.set_xscale('log')\n",
    "axes.set_yscale('log')\n",
    "axes.set_xlabel('$\\\\tau$')\n",
    "axes.set_ylabel('$E_r$')"
   ]
  },
  {
   "cell_type": "code",
   "execution_count": null,
   "metadata": {},
   "outputs": [],
   "source": []
  }
 ],
 "metadata": {
  "kernelspec": {
   "display_name": "Python 3 (ipykernel)",
   "language": "python",
   "name": "python3"
  },
  "language_info": {
   "codemirror_mode": {
    "name": "ipython",
    "version": 3
   },
   "file_extension": ".py",
   "mimetype": "text/x-python",
   "name": "python",
   "nbconvert_exporter": "python",
   "pygments_lexer": "ipython3",
   "version": "3.9.12"
  }
 },
 "nbformat": 4,
 "nbformat_minor": 2
}
